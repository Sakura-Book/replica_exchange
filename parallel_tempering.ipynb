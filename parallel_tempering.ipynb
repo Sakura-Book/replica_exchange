{
 "cells": [
  {
   "cell_type": "code",
   "execution_count": 10,
   "id": "c656553d-2838-45a2-9f28-c2f58d07f683",
   "metadata": {},
   "outputs": [],
   "source": [
    "from openmm import unit\n",
    "from openmmtools import testsystems, states, mcmc\n",
    "import tempfile\n",
    "testsystem = testsystems.AlanineDipeptideImplicit()\n",
    "import os\n",
    "from openmmtools.multistate import ParallelTemperingSampler\n",
    "from openmmtools.multistate import MultiStateReporter\n"
   ]
  },
  {
   "cell_type": "code",
   "execution_count": 2,
   "id": "c39af61f-4540-4aed-bfa8-7cd65a039c66",
   "metadata": {},
   "outputs": [],
   "source": [
    "n_replicas = 3  # Number of temperature replicas.\n",
    "T_min = 298.0 * unit.kelvin  # Minimum temperature.\n",
    "T_max = 600.0 * unit.kelvin  # Maximum temperature.\n",
    "reference_state = states.ThermodynamicState(system=testsystem.system, temperature=T_min)\n"
   ]
  },
  {
   "cell_type": "code",
   "execution_count": 5,
   "id": "f6ee3314-0408-43d4-ad51-49df22352462",
   "metadata": {},
   "outputs": [
    {
     "name": "stderr",
     "output_type": "stream",
     "text": [
      "Warning: The openmmtools.multistate API is experimental and may change in future releases\n"
     ]
    }
   ],
   "source": [
    "move = mcmc.GHMCMove(timestep=2.0*unit.femtoseconds, n_steps=50)\n",
    "simulation = ParallelTemperingSampler(mcmc_moves=move, number_of_iterations=2)\n"
   ]
  },
  {
   "cell_type": "code",
   "execution_count": 11,
   "id": "8ea315f6-a750-4990-9e05-e0a1f3b9d130",
   "metadata": {},
   "outputs": [
    {
     "name": "stderr",
     "output_type": "stream",
     "text": [
      "Warning: The openmmtools.multistate API is experimental and may change in future releases\n"
     ]
    },
    {
     "name": "stdout",
     "output_type": "stream",
     "text": [
      "Please cite the following:\n",
      "\n",
      "        Friedrichs MS, Eastman P, Vaidyanathan V, Houston M, LeGrand S, Beberg AL, Ensign DL, Bruns CM, and Pande VS. Accelerating molecular dynamic simulations on graphics processing unit. J. Comput. Chem. 30:864, 2009. DOI: 10.1002/jcc.21209\n",
      "        Eastman P and Pande VS. OpenMM: A hardware-independent framework for molecular simulations. Comput. Sci. Eng. 12:34, 2010. DOI: 10.1109/MCSE.2010.27\n",
      "        Eastman P and Pande VS. Efficient nonbonded interactions for molecular dynamics on a graphics processing unit. J. Comput. Chem. 31:1268, 2010. DOI: 10.1002/jcc.21413\n",
      "        Eastman P and Pande VS. Constant constraint matrix approximation: A robust, parallelizable constraint method for molecular simulations. J. Chem. Theor. Comput. 6:434, 2010. DOI: 10.1021/ct900463w\n",
      "        Chodera JD and Shirts MR. Replica exchange and expanded ensemble simulations as Gibbs multistate: Simple improvements for enhanced mixing. J. Chem. Phys., 135:194110, 2011. DOI:10.1063/1.3660669\n",
      "        \n"
     ]
    }
   ],
   "source": [
    "storage_path = 'parallel_tempering.nc'\n",
    "reporter = MultiStateReporter(storage_path, checkpoint_interval=10)\n",
    "simulation.create(reference_state,\n",
    "                  states.SamplerState(testsystem.positions),\n",
    "                  reporter, min_temperature=T_min,\n",
    "                  max_temperature=T_max, n_temperatures=n_replicas)"
   ]
  },
  {
   "cell_type": "code",
   "execution_count": null,
   "id": "167fd931-e786-4b23-9831-59f537411f81",
   "metadata": {},
   "outputs": [],
   "source": [
    "simulation"
   ]
  },
  {
   "cell_type": "code",
   "execution_count": 27,
   "id": "e6860114-705b-44aa-9a26-8bd8de7eac08",
   "metadata": {},
   "outputs": [],
   "source": [
    "simulation.run(n_iterations=1000)"
   ]
  },
  {
   "cell_type": "code",
   "execution_count": 14,
   "id": "2fd361e8-882b-4882-8cdc-2f49286379d4",
   "metadata": {},
   "outputs": [],
   "source": [
    "from netCDF4 import Dataset\n"
   ]
  },
  {
   "cell_type": "code",
   "execution_count": 20,
   "id": "d59fbc40-5069-4ead-a899-d74604afc4c1",
   "metadata": {},
   "outputs": [],
   "source": [
    "dataset = Dataset(storage_path, mode=\"r\")"
   ]
  },
  {
   "cell_type": "code",
   "execution_count": 21,
   "id": "05a3d751-cb1d-49ff-845e-06356b0321e3",
   "metadata": {},
   "outputs": [
    {
     "data": {
      "text/plain": [
       "<class 'netCDF4._netCDF4.Dataset'>\n",
       "root group (NETCDF4 data model, file format HDF5):\n",
       "    UUID: de45d624-c241-4f73-afb8-fe6f12c90d69\n",
       "    program: openmmtools 0.23.1\n",
       "    programVersion: 0.23.1\n",
       "    Conventions: ReplicaExchange\n",
       "    ConventionVersion: 0.2\n",
       "    DataUsedFor: analysis\n",
       "    CheckpointInterval: 10\n",
       "    title: Parallel tempering simulation created using ParallelTempering class of yank.multistate on Fri Nov 15 16:38:05 2024\n",
       "    dimensions(sizes): scalar(1), iteration(3), spatial(3), analysis_particles(0), fixedL5272(5272), fixedL489(489), fixedL3(3), replica(3), state(3)\n",
       "    variables(dimensions): int64 last_iteration(scalar), int64 analysis_particle_indices(analysis_particles), <class 'str'> options(scalar), |S1 metadata(fixedL3), int32 states(iteration, replica), float64 energies(iteration, replica, state), int8 neighborhoods(iteration, replica, state), int32 accepted(iteration, state, state), int32 proposed(iteration, state, state), <class 'str'> timestamp(iteration)\n",
       "    groups: thermodynamic_states, mcmc_moves, online_analysis"
      ]
     },
     "execution_count": 21,
     "metadata": {},
     "output_type": "execute_result"
    }
   ],
   "source": [
    "dataset"
   ]
  },
  {
   "cell_type": "code",
   "execution_count": 22,
   "id": "b05a5f78-fe42-492e-94fd-6ffb6f50bd46",
   "metadata": {},
   "outputs": [
    {
     "data": {
      "text/plain": [
       "dict_keys(['last_iteration', 'analysis_particle_indices', 'options', 'metadata', 'states', 'energies', 'neighborhoods', 'accepted', 'proposed', 'timestamp'])"
      ]
     },
     "execution_count": 22,
     "metadata": {},
     "output_type": "execute_result"
    }
   ],
   "source": [
    "dataset.variables.keys()"
   ]
  },
  {
   "cell_type": "code",
   "execution_count": 23,
   "id": "41c2f622-46a6-4c94-a263-50732fad3d23",
   "metadata": {},
   "outputs": [
    {
     "data": {
      "text/plain": [
       "<class 'netCDF4._netCDF4.Variable'>\n",
       "|S1 metadata(fixedL3)\n",
       "unlimited dimensions: \n",
       "current shape = (3,)\n",
       "filling on, default _FillValue of \u0000 used"
      ]
     },
     "execution_count": 23,
     "metadata": {},
     "output_type": "execute_result"
    }
   ],
   "source": [
    "dataset['metadata']"
   ]
  },
  {
   "cell_type": "code",
   "execution_count": 25,
   "id": "f4b9408b-e8ca-4ce1-90a3-b96af2b98d8a",
   "metadata": {},
   "outputs": [
    {
     "data": {
      "text/plain": [
       "<class 'netCDF4._netCDF4.Variable'>\n",
       "int64 last_iteration(scalar)\n",
       "unlimited dimensions: \n",
       "current shape = (1,)\n",
       "filling on, default _FillValue of -9223372036854775806 used"
      ]
     },
     "execution_count": 25,
     "metadata": {},
     "output_type": "execute_result"
    }
   ],
   "source": [
    "dataset['last_iterationl']"
   ]
  },
  {
   "cell_type": "code",
   "execution_count": null,
   "id": "a136f076-6a97-437e-948e-d5ede686dc6c",
   "metadata": {},
   "outputs": [],
   "source": []
  }
 ],
 "metadata": {
  "kernelspec": {
   "display_name": "Python 3 (ipykernel)",
   "language": "python",
   "name": "python3"
  },
  "language_info": {
   "codemirror_mode": {
    "name": "ipython",
    "version": 3
   },
   "file_extension": ".py",
   "mimetype": "text/x-python",
   "name": "python",
   "nbconvert_exporter": "python",
   "pygments_lexer": "ipython3",
   "version": "3.11.5"
  }
 },
 "nbformat": 4,
 "nbformat_minor": 5
}
