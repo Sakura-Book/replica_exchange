{
 "cells": [
  {
   "cell_type": "code",
   "execution_count": 1,
   "id": "8d6b2545-c0d3-42d2-a078-555866433631",
   "metadata": {},
   "outputs": [
    {
     "name": "stdout",
     "output_type": "stream",
     "text": [
      "1.24.4\n",
      "/opt/anaconda3/lib/python3.9/site-packages/numpy/__init__.py\n"
     ]
    }
   ],
   "source": [
    "import numpy as np\n",
    "print(np.__version__)\n",
    "print(np.__file__)"
   ]
  },
  {
   "cell_type": "code",
   "execution_count": 12,
   "id": "c85232cd-d13d-44ab-bc9d-cb9a8c8f0212",
   "metadata": {},
   "outputs": [],
   "source": [
    "import math\n",
    "from openmm import unit\n",
    "from openmmtools import testsystems, states, mcmc\n",
    "import openmmtools.multistate as multistate\n",
    "from openmmtools.multistate import ReplicaExchangeSampler\n",
    "testsystem = testsystems.AlanineDipeptideImplicit()\n",
    "import os\n",
    "import tempfile"
   ]
  },
  {
   "cell_type": "code",
   "execution_count": 7,
   "id": "5bfc6724-ddf2-4084-b574-81edb6f6d059",
   "metadata": {},
   "outputs": [],
   "source": [
    "n_replicas = 3  # Number of temperature replicas.\n",
    "T_min = 298.0 * unit.kelvin  # Minimum temperature.\n",
    "T_max = 600.0 * unit.kelvin  # Maximum temperature.\n",
    "temperatures = [T_min + (T_max - T_min) * (math.exp(float(i) / float(n_replicas-1)) - 1.0) / (math.e - 1.0)\n",
    "                for i in range(n_replicas)]\n",
    "thermodynamic_states = [states.ThermodynamicState(system=testsystem.system, temperature=T)\n",
    "                        for T in temperatures]"
   ]
  },
  {
   "cell_type": "code",
   "execution_count": 8,
   "id": "2a601626-02bf-41bf-becb-1742b7b4f689",
   "metadata": {},
   "outputs": [
    {
     "name": "stderr",
     "output_type": "stream",
     "text": [
      "Warning: The openmmtools.multistate API is experimental and may change in future releases\n"
     ]
    }
   ],
   "source": [
    "move = mcmc.GHMCMove(timestep=2.0*unit.femtoseconds, n_steps=50)\n",
    "simulation = ReplicaExchangeSampler(mcmc_moves=move, number_of_iterations=2)\n"
   ]
  },
  {
   "cell_type": "code",
   "execution_count": 16,
   "id": "2dece1ae-bbcb-40e0-be2d-b6302bf91a05",
   "metadata": {},
   "outputs": [
    {
     "name": "stderr",
     "output_type": "stream",
     "text": [
      "Warning: The openmmtools.multistate API is experimental and may change in future releases\n"
     ]
    }
   ],
   "source": [
    "# storage_path = tempfile.NamedTemporaryFile(delete=False).name + '.nc'\n",
    "storage_path = './alanin_dipeptide.nc'\n",
    "reporter = multistate.MultiStateReporter(storage_path, checkpoint_interval=1)\n",
    "simulation.create(thermodynamic_states=thermodynamic_states,\n",
    "                  sampler_states=states.SamplerState(testsystem.positions),\n",
    "                  storage=reporter)"
   ]
  },
  {
   "cell_type": "code",
   "execution_count": 17,
   "id": "7525f936-a832-4fc0-aaff-bfd34902a663",
   "metadata": {},
   "outputs": [
    {
     "name": "stdout",
     "output_type": "stream",
     "text": [
      "./alanin_dipeptide.nc\n"
     ]
    }
   ],
   "source": [
    "print(storage_path)"
   ]
  },
  {
   "cell_type": "code",
   "execution_count": 18,
   "id": "9cd70ac4-6d52-4e67-a1c2-e162295f0991",
   "metadata": {},
   "outputs": [
    {
     "data": {
      "text/plain": [
       "2"
      ]
     },
     "execution_count": 18,
     "metadata": {},
     "output_type": "execute_result"
    }
   ],
   "source": [
    "simulation.run()  # This runs for a maximum of 2 iterations.\n",
    "simulation.iteration"
   ]
  },
  {
   "cell_type": "code",
   "execution_count": 19,
   "id": "01feccbe-1c1d-4ead-96f9-7038184b3120",
   "metadata": {},
   "outputs": [
    {
     "data": {
      "text/plain": [
       "2"
      ]
     },
     "execution_count": 19,
     "metadata": {},
     "output_type": "execute_result"
    }
   ],
   "source": [
    "simulation.run(n_iterations=1)\n",
    "simulation.iteration"
   ]
  },
  {
   "cell_type": "code",
   "execution_count": 20,
   "id": "dc3de7b1-95df-4ef4-a8e0-3e59e83de617",
   "metadata": {},
   "outputs": [
    {
     "name": "stderr",
     "output_type": "stream",
     "text": [
      "Warning: The openmmtools.multistate API is experimental and may change in future releases\n"
     ]
    },
    {
     "name": "stdout",
     "output_type": "stream",
     "text": [
      "3\n"
     ]
    }
   ],
   "source": [
    "reporter = multistate.MultiStateReporter(storage=storage_path, open_mode='r', checkpoint_interval=1)\n",
    "sampler_states = reporter.read_sampler_states(iteration=1)\n",
    "print(len(sampler_states))"
   ]
  },
  {
   "cell_type": "code",
   "execution_count": 21,
   "id": "a7ef3bff-4099-4eba-a719-d33cdc485fbe",
   "metadata": {},
   "outputs": [
    {
     "name": "stdout",
     "output_type": "stream",
     "text": [
      "(22, 3)\n"
     ]
    }
   ],
   "source": [
    "print(sampler_states[0].positions.shape)"
   ]
  },
  {
   "cell_type": "code",
   "execution_count": 22,
   "id": "78fabccf-3967-454b-8ab1-c607c8056fbd",
   "metadata": {},
   "outputs": [],
   "source": [
    "import netCDF4"
   ]
  },
  {
   "cell_type": "code",
   "execution_count": null,
   "id": "e76a6057-b3f1-47fd-8e56-c3733f89e23e",
   "metadata": {},
   "outputs": [],
   "source": [
    "netCDF4"
   ]
  }
 ],
 "metadata": {
  "kernelspec": {
   "display_name": "Python 3 (ipykernel)",
   "language": "python",
   "name": "python3"
  },
  "language_info": {
   "codemirror_mode": {
    "name": "ipython",
    "version": 3
   },
   "file_extension": ".py",
   "mimetype": "text/x-python",
   "name": "python",
   "nbconvert_exporter": "python",
   "pygments_lexer": "ipython3",
   "version": "3.11.5"
  }
 },
 "nbformat": 4,
 "nbformat_minor": 5
}
