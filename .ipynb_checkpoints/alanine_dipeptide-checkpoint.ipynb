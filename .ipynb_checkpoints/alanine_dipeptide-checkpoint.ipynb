{
 "cells": [
  {
   "cell_type": "code",
   "execution_count": 1,
   "id": "c85232cd-d13d-44ab-bc9d-cb9a8c8f0212",
   "metadata": {},
   "outputs": [
    {
     "ename": "ModuleNotFoundError",
     "evalue": "No module named 'openmmtools'",
     "output_type": "error",
     "traceback": [
      "\u001b[0;31m---------------------------------------------------------------------------\u001b[0m",
      "\u001b[0;31mModuleNotFoundError\u001b[0m                       Traceback (most recent call last)",
      "Cell \u001b[0;32mIn[1], line 3\u001b[0m\n\u001b[1;32m      1\u001b[0m \u001b[38;5;28;01mimport\u001b[39;00m \u001b[38;5;21;01mmath\u001b[39;00m\n\u001b[1;32m      2\u001b[0m \u001b[38;5;28;01mfrom\u001b[39;00m \u001b[38;5;21;01mopenmm\u001b[39;00m \u001b[38;5;28;01mimport\u001b[39;00m unit\n\u001b[0;32m----> 3\u001b[0m \u001b[38;5;28;01mfrom\u001b[39;00m \u001b[38;5;21;01mopenmmtools\u001b[39;00m \u001b[38;5;28;01mimport\u001b[39;00m testsystems, states, mcmc\n\u001b[1;32m      4\u001b[0m testsystem \u001b[38;5;241m=\u001b[39m testsystems\u001b[38;5;241m.\u001b[39mAlanineDipeptideImplicit()\n\u001b[1;32m      5\u001b[0m \u001b[38;5;28;01mimport\u001b[39;00m \u001b[38;5;21;01mos\u001b[39;00m\n",
      "\u001b[0;31mModuleNotFoundError\u001b[0m: No module named 'openmmtools'"
     ]
    }
   ],
   "source": [
    "import math\n",
    "from openmm import unit\n",
    "from openmmtools import testsystems, states, mcmc\n",
    "testsystem = testsystems.AlanineDipeptideImplicit()\n",
    "import os\n",
    "import tempfile"
   ]
  },
  {
   "cell_type": "code",
   "execution_count": null,
   "id": "5bfc6724-ddf2-4084-b574-81edb6f6d059",
   "metadata": {},
   "outputs": [],
   "source": [
    "n_replicas = 3  # Number of temperature replicas.\n",
    "T_min = 298.0 * unit.kelvin  # Minimum temperature.\n",
    "T_max = 600.0 * unit.kelvin  # Maximum temperature.\n",
    "temperatures = [T_min + (T_max - T_min) * (math.exp(float(i) / float(n_replicas-1)) - 1.0) / (math.e - 1.0)\n",
    "                for i in range(n_replicas)]\n",
    "thermodynamic_states = [states.ThermodynamicState(system=testsystem.system, temperature=T)\n",
    "                        for T in temperatures]"
   ]
  },
  {
   "cell_type": "code",
   "execution_count": null,
   "id": "2a601626-02bf-41bf-becb-1742b7b4f689",
   "metadata": {},
   "outputs": [],
   "source": [
    "move = mcmc.GHMCMove(timestep=2.0*unit.femtoseconds, n_steps=50)\n",
    "simulation = ReplicaExchangeSampler(mcmc_moves=move, number_of_iterations=2)\n"
   ]
  },
  {
   "cell_type": "code",
   "execution_count": null,
   "id": "2dece1ae-bbcb-40e0-be2d-b6302bf91a05",
   "metadata": {},
   "outputs": [],
   "source": [
    "storage_path = tempfile.NamedTemporaryFile(delete=False).name + '.nc'\n",
    "reporter = multistate.MultiStateReporter(storage_path, checkpoint_interval=1)\n",
    "simulation.create(thermodynamic_states=thermodynamic_states,\n",
    "                  sampler_states=states.SamplerState(testsystem.positions),\n",
    "                  storage=reporter)"
   ]
  },
  {
   "cell_type": "code",
   "execution_count": null,
   "id": "9cd70ac4-6d52-4e67-a1c2-e162295f0991",
   "metadata": {},
   "outputs": [],
   "source": [
    "simulation.run()  # This runs for a maximum of 2 iterations.\n",
    "simulation.iteration"
   ]
  },
  {
   "cell_type": "code",
   "execution_count": null,
   "id": "01feccbe-1c1d-4ead-96f9-7038184b3120",
   "metadata": {},
   "outputs": [],
   "source": [
    "simulation.run(n_iterations=1)\n",
    "simulation.iteration"
   ]
  },
  {
   "cell_type": "code",
   "execution_count": null,
   "id": "dc3de7b1-95df-4ef4-a8e0-3e59e83de617",
   "metadata": {},
   "outputs": [],
   "source": [
    "reporter = multistate.MultiStateReporter(storage=storage_path, open_mode='r', checkpoint_interval=1)\n",
    "sampler_states = reporter.read_sampler_states(iteration=1)\n",
    "print(len(sampler_states))"
   ]
  },
  {
   "cell_type": "code",
   "execution_count": null,
   "id": "a7ef3bff-4099-4eba-a719-d33cdc485fbe",
   "metadata": {},
   "outputs": [],
   "source": [
    "print(sampler_states[0].positions.shape)"
   ]
  }
 ],
 "metadata": {
  "kernelspec": {
   "display_name": "Python 3 (ipykernel)",
   "language": "python",
   "name": "python3"
  },
  "language_info": {
   "codemirror_mode": {
    "name": "ipython",
    "version": 3
   },
   "file_extension": ".py",
   "mimetype": "text/x-python",
   "name": "python",
   "nbconvert_exporter": "python",
   "pygments_lexer": "ipython3",
   "version": "3.11.5"
  }
 },
 "nbformat": 4,
 "nbformat_minor": 5
}
