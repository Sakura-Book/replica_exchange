{
 "cells": [
  {
   "cell_type": "markdown",
   "id": "c3c6e861-3d0e-4ae2-a806-069aff38da7c",
   "metadata": {},
   "source": [
    "# REMDのOpenMM実装\n",
    "- ChatGPTを使用\n",
    "- 一定時間ごとに、レプリカ間の座標を交換する(温度はそのまま)\n",
    "- 速度は交換しない"
   ]
  },
  {
   "cell_type": "code",
   "execution_count": 1,
   "id": "7e595089-2c75-4ed0-bfd5-bc4e255bb0f6",
   "metadata": {},
   "outputs": [],
   "source": [
    "from openmm.app import *\n",
    "from openmm import *\n",
    "from openmm.unit import *\n",
    "import numpy as np\n",
    "from tqdm.notebook import tqdm\n",
    "import random\n",
    "import os\n",
    "from datetime import datetime"
   ]
  },
  {
   "cell_type": "code",
   "execution_count": 2,
   "id": "12c646f4-3a18-4e5a-a36c-a55bcd9e30d3",
   "metadata": {},
   "outputs": [
    {
     "name": "stdout",
     "output_type": "stream",
     "text": [
      "ディレクトリ './output/output_2024-12-02_16-48-34' を作成しました！\n"
     ]
    }
   ],
   "source": [
    "# 現在の日付と時刻を取得\n",
    "current_time = datetime.now().strftime('%Y-%m-%d_%H-%M-%S')\n",
    "# ディレクトリ名を作成\n",
    "output_dir = f\"./output/output_{current_time}\"\n",
    "# ディレクトリを作成\n",
    "os.makedirs(output_dir, exist_ok=True)\n",
    "print(f\"ディレクトリ '{output_dir}' を作成しました！\")"
   ]
  },
  {
   "cell_type": "code",
   "execution_count": 4,
   "id": "dc753e79-d3f2-4459-8601-2ffce6fe62e3",
   "metadata": {},
   "outputs": [
    {
     "name": "stdout",
     "output_type": "stream",
     "text": [
      "Temperatures (K): [300.0, 328.57142857142856, 357.14285714285717, 385.7142857142857, 414.2857142857143, 442.8571428571429, 471.42857142857144, 500.0]\n"
     ]
    }
   ],
   "source": [
    "# パラメータ設定\n",
    "params = {}\n",
    "params['num_replicas'] = 8  # レプリカ数\n",
    "params['temperature_min'] = 300 # K\n",
    "params['temperature_max'] = 500 # K\n",
    "params['temperatures'] = np.linspace(params['temperature_min'], params['temperature_max'], params['num_replicas'])  # 温度 (Kelvin)\n",
    "params['temperatures'] = params['temperatures'].tolist()\n",
    "print('Temperatures (K):', params['temperatures'])\n",
    "\n",
    "params['n_steps'] = 100000 # シミュレーション総ステップ数\n",
    "params['n_steps_exchange'] = 1000 # 交換を試みる間隔 (steps)\n",
    "params['n_steps_save'] = 100\n",
    "params['n_steps_equil'] = 20000\n",
    "\n",
    "params['pdb_path'] = './structures/ala2_solvated.pdb'\n",
    "params['ff'] = ['amber99sbildn.xml', 'tip3p.xml']"
   ]
  },
  {
   "cell_type": "code",
   "execution_count": 5,
   "id": "adfdafb4-2237-4c15-bb47-74e21811a66f",
   "metadata": {},
   "outputs": [],
   "source": [
    "# パラメータ保存\n",
    "import json\n",
    "filepath = f\"{output_dir}/params.json\"\n",
    "with open(filepath, mode=\"wt\", encoding=\"utf-8\") as f:\n",
    "\tjson.dump(params, f, ensure_ascii=False, indent=2)"
   ]
  },
  {
   "cell_type": "code",
   "execution_count": 7,
   "id": "3c716206-e00b-4692-a459-9aa55790672c",
   "metadata": {},
   "outputs": [],
   "source": [
    "pdb = app.PDBFile(params['pdb_path'])\n",
    "forcefield = app.ForceField(*params['ff'])"
   ]
  },
  {
   "cell_type": "code",
   "execution_count": 8,
   "id": "d1b73afa-3c27-49d3-9d50-699ecf1ce270",
   "metadata": {},
   "outputs": [
    {
     "name": "stdout",
     "output_type": "stream",
     "text": [
      "System created...\n"
     ]
    }
   ],
   "source": [
    "system = forcefield.createSystem(\n",
    "    pdb.topology,\n",
    "    nonbondedMethod=app.PME,\n",
    "    nonbondedCutoff=1.0*nanometer,\n",
    "    constraints=app.HBonds,\n",
    ")\n",
    "print('System created...')\n",
    "\n",
    "# レプリカごとに異なるシミュレーションをセットアップ\n",
    "integrators = []\n",
    "simulations = []\n",
    "for i, temp in enumerate(params['temperatures']):\n",
    "    integrator = LangevinIntegrator(\n",
    "        temp*kelvin,       # 温度\n",
    "        1.0/picosecond,    # 摩擦係数\n",
    "        0.002*picoseconds  # タイムステップ\n",
    "    )\n",
    "    integrators.append(integrator)\n",
    "    simulation = app.Simulation(pdb.topology, system, integrator)\n",
    "    simulation.context.setPositions(pdb.positions)\n",
    "    simulation.context.setVelocitiesToTemperature(temp*kelvin)\n",
    "    simulations.append(simulation)"
   ]
  },
  {
   "cell_type": "code",
   "execution_count": 9,
   "id": "96607128-755c-4021-8278-a4e2465b026a",
   "metadata": {},
   "outputs": [],
   "source": [
    "# エネルギー交換関数\n",
    "def attempt_exchange(replica1, replica2):\n",
    "    E1 = simulations[replica1].context.getState(getEnergy=True).getPotentialEnergy()\n",
    "    E2 = simulations[replica2].context.getState(getEnergy=True).getPotentialEnergy()\n",
    "    beta1 = 1 / (BOLTZMANN_CONSTANT_kB * params['temperatures'][replica1] * kelvin)\n",
    "    beta2 = 1 / (BOLTZMANN_CONSTANT_kB * params['temperatures'][replica2] * kelvin)\n",
    "    delta = (beta2 - beta1) * (E1 - E2) / AVOGADRO_CONSTANT_NA\n",
    "    # print(delta)\n",
    "    if delta < 0 or random.uniform(0, 1) < np.exp(-delta):\n",
    "        # 交換を行う\n",
    "        # print(f\"Exchange accepted between replica {replica1} and {replica2}\")\n",
    "        # temp1 = temperatures[replica1]\n",
    "        # temperatures[replica1] = temperatures[replica2]\n",
    "        # temperatures[replica2] = temp1\n",
    "        positions1 = simulations[replica1].context.getState(getPositions=True).getPositions()\n",
    "        positions2 = simulations[replica2].context.getState(getPositions=True).getPositions()\n",
    "        simulations[replica1].context.setPositions(positions2)\n",
    "        simulations[replica2].context.setPositions(positions1)\n",
    "    else:\n",
    "        # print(f\"Exchange rejected between replica {replica1} and {replica2}\")\n",
    "        pass"
   ]
  },
  {
   "cell_type": "code",
   "execution_count": 12,
   "id": "b6aafb00-7300-439e-99c9-0f03b47f1bb8",
   "metadata": {},
   "outputs": [
    {
     "name": "stdout",
     "output_type": "stream",
     "text": [
      "Equilibration...\n"
     ]
    }
   ],
   "source": [
    "# equilibrium\n",
    "print('Equilibration...')\n",
    "for sim in simulations:\n",
    "    sim.step(params['n_steps_equil'])"
   ]
  },
  {
   "cell_type": "code",
   "execution_count": 14,
   "id": "b4562dfa-b7f6-4bec-853b-e645223ee15c",
   "metadata": {},
   "outputs": [
    {
     "name": "stdout",
     "output_type": "stream",
     "text": [
      "Addint Reporters...\n"
     ]
    }
   ],
   "source": [
    "# append reporters\n",
    "print('Addint Reporters...')\n",
    "dcd_reporters = [app.DCDReporter(file=f'{output_dir}/replica_{i}.dcd', reportInterval=params['n_steps_save']) \n",
    "                 for i, temp in enumerate(params['temperatures'])]\n",
    "state_data_reporters = [app.StateDataReporter(file=f'{output_dir}/replica_{i}.log', reportInterval=params['n_steps_save'], step=True, temperature=True) \n",
    "                        for i, temp in enumerate(params['temperatures'])]\n",
    "\n",
    "# 各レプリカにreporterを追加\n",
    "for i, temp in enumerate(params['temperatures']):\n",
    "    simulations[i].reporters.append(dcd_reporters[i])\n",
    "    simulations[i].reporters.append(state_data_reporters[i])"
   ]
  },
  {
   "cell_type": "code",
   "execution_count": 15,
   "id": "df2a6056-263a-410b-8840-bc7556646743",
   "metadata": {},
   "outputs": [
    {
     "name": "stdout",
     "output_type": "stream",
     "text": [
      "Production...\n"
     ]
    },
    {
     "data": {
      "application/vnd.jupyter.widget-view+json": {
       "model_id": "",
       "version_major": 2,
       "version_minor": 0
      },
      "text/plain": [
       "  0%|          | 0/100 [00:00<?, ?it/s]"
      ]
     },
     "metadata": {},
     "output_type": "display_data"
    }
   ],
   "source": [
    "# シミュレーションループ\n",
    "print('Production...')\n",
    "for step in tqdm(range(0, params['n_steps'], params['n_steps_exchange']), leave=False):\n",
    "    # print(f'*** Step {step} ***\"')\n",
    "    for sim in simulations:\n",
    "        sim.step(params['n_steps_exchange'])  # 各レプリカで実行\n",
    "\n",
    "    # レプリカ間での交換試行\n",
    "    for i in range(params['num_replicas'] - 1):\n",
    "        attempt_exchange(i, i + 1)"
   ]
  },
  {
   "cell_type": "code",
   "execution_count": 16,
   "id": "e2ec478f-bd26-4bd9-ac3b-b3c5cecf817a",
   "metadata": {},
   "outputs": [],
   "source": [
    "# シミュレーション結果を保存\n",
    "for i, sim in enumerate(simulations):\n",
    "    state = sim.context.getState(getPositions=True, getEnergy=True)\n",
    "    with open(f\"{output_dir}/output_replica_{i}.pdb\", \"w\") as f:\n",
    "        app.PDBFile.writeFile(pdb.topology, state.getPositions(), f)"
   ]
  },
  {
   "cell_type": "code",
   "execution_count": null,
   "id": "21d1f604-03aa-4cff-961a-46276112dbcd",
   "metadata": {},
   "outputs": [],
   "source": []
  }
 ],
 "metadata": {
  "kernelspec": {
   "display_name": "Python 3 (ipykernel)",
   "language": "python",
   "name": "python3"
  },
  "language_info": {
   "codemirror_mode": {
    "name": "ipython",
    "version": 3
   },
   "file_extension": ".py",
   "mimetype": "text/x-python",
   "name": "python",
   "nbconvert_exporter": "python",
   "pygments_lexer": "ipython3",
   "version": "3.11.5"
  }
 },
 "nbformat": 4,
 "nbformat_minor": 5
}
