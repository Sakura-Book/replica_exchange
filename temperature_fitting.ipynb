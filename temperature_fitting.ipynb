{
 "cells": [
  {
   "cell_type": "markdown",
   "id": "c3c6e861-3d0e-4ae2-a806-069aff38da7c",
   "metadata": {},
   "source": [
    "# REMDのOpenMM実装\n",
    "- ChatGPTを使用\n",
    "- 一定時間ごとに、レプリカ間の座標を交換する(温度はそのまま)\n",
    "- 速度は交換しない\n",
    "- 交換確率が0.25になるよう温度を調整するための予備MD"
   ]
  },
  {
   "cell_type": "code",
   "execution_count": 5,
   "id": "7e595089-2c75-4ed0-bfd5-bc4e255bb0f6",
   "metadata": {},
   "outputs": [],
   "source": [
    "from openmm.app import *\n",
    "from openmm import *\n",
    "from openmm.unit import *\n",
    "import numpy as np\n",
    "from tqdm.notebook import tqdm\n",
    "import random\n",
    "import os\n",
    "from datetime import datetime\n",
    "from math import ceil"
   ]
  },
  {
   "cell_type": "code",
   "execution_count": 3,
   "id": "12c646f4-3a18-4e5a-a36c-a55bcd9e30d3",
   "metadata": {},
   "outputs": [
    {
     "name": "stdout",
     "output_type": "stream",
     "text": [
      "ディレクトリ './output/output_2024-12-09_15-35-42' を作成しました！\n"
     ]
    }
   ],
   "source": [
    "# 現在の日付と時刻を取得\n",
    "current_time = datetime.now().strftime('%Y-%m-%d_%H-%M-%S')\n",
    "# ディレクトリ名を作成\n",
    "output_dir = f\"./output/output_{current_time}\"\n",
    "# ディレクトリを作成\n",
    "os.makedirs(output_dir, exist_ok=True)\n",
    "print(f\"ディレクトリ '{output_dir}' を作成しました！\")"
   ]
  },
  {
   "cell_type": "code",
   "execution_count": 7,
   "id": "dc753e79-d3f2-4459-8601-2ffce6fe62e3",
   "metadata": {},
   "outputs": [
    {
     "name": "stdout",
     "output_type": "stream",
     "text": [
      "Replicas: ['0', '1', '2', '3', '4', '5', '6', '7']\n",
      "Temperatures (K): [300.0, 328.57142857142856, 357.14285714285717, 385.7142857142857, 414.2857142857143, 442.8571428571429, 471.42857142857144, 500.0]\n",
      "n_replicas: 8\n",
      "temperature_min: 300\n",
      "temperature_max: 500\n",
      "temperatures: [300.0, 328.57142857142856, 357.14285714285717, 385.7142857142857, 414.2857142857143, 442.8571428571429, 471.42857142857144, 500.0]\n",
      "old_temperatures: [300.0, 328.57142857142856, 357.14285714285717, 385.7142857142857, 414.2857142857143, 442.8571428571429, 471.42857142857144, 500.0]\n",
      "acceptance_ratio: 0.25\n",
      "dt: 0.002\n",
      "n_steps: 1000000\n",
      "n_steps_exchange: 1000\n",
      "n_steps_save: 500\n",
      "n_steps_equil: 25000\n",
      "adjust_interval: 10\n",
      "n_steps_adjust: 10000\n",
      "learning_rate: 0.1\n",
      "n_times_exchange: 1000\n",
      "nonbondedCutoff: 1.0\n",
      "friction: 1.0\n",
      "restraint_force: 10\n",
      "pdb_path: ./structures/ala2_solvated.pdb\n",
      "ff: ['amber99sbildn.xml', 'tip3p.xml']\n"
     ]
    }
   ],
   "source": [
    "# パラメータ設定\n",
    "params = {}\n",
    "params['n_replicas'] = 8  # レプリカ数\n",
    "replicas = [str(i) for i in np.arange(params['n_replicas'])]\n",
    "print('Replicas:', replicas)\n",
    "params['temperature_min'] = 300 # K\n",
    "params['temperature_max'] = 500 # K\n",
    "params['temperatures'] = np.linspace(params['temperature_min'], params['temperature_max'], params['n_replicas'])  # 温度 (Kelvin)\n",
    "\n",
    "params['temperatures'] = params['temperatures'].tolist()\n",
    "params['old_temperatures'] = copy.deepcopy(params['temperatures'])\n",
    "\n",
    "print('Temperatures (K):', params['temperatures'])\n",
    "params['acceptance_ratio'] = 0.25\n",
    "\n",
    "params['dt'] = 0.002 # タイムステップ(ps)\n",
    "params['n_steps'] = 2 * int(ceil(1e3 / params['dt'])) # シミュレーション総ステップ数(1us) 1e6\n",
    "params['n_steps_exchange'] = 2 * int(ceil(1e0 / params['dt'])) # 交換を試みる間隔(1ns) 1e3\n",
    "params['n_steps_save'] = 1 * int(ceil(1e0 / params['dt'])) # 保存間隔(100ps) 100\n",
    "params['n_steps_equil'] = 50 * int(ceil(1e0 / params['dt'])) # 平衡化(10ns) 20000\n",
    "params['adjust_interval'] = 10\n",
    "params['n_steps_adjust'] = params['adjust_interval'] * params['n_steps_exchange'] # 10回交換後に温度調整]\n",
    "params['learning_rate'] = 0.1 # 0~1\n",
    "\n",
    "params['n_times_exchange'] = params['n_steps'] // params['n_steps_exchange']\n",
    "\n",
    "params['nonbondedCutoff'] = 1.0 # nm\n",
    "params['friction'] = 1.0 # /ps\n",
    "params['restraint_force'] = 10 # kcal/mol/A^2\n",
    "\n",
    "params['pdb_path'] = './structures/ala2_solvated.pdb'\n",
    "params['ff'] = ['amber99sbildn.xml', 'tip3p.xml']\n",
    "\n",
    "for key in params.keys():\n",
    "    print(f'{key}: {params[key]}')"
   ]
  },
  {
   "cell_type": "code",
   "execution_count": null,
   "id": "d25ef9fb-ece3-4d3b-a7f6-0f59cc359c8b",
   "metadata": {},
   "outputs": [],
   "source": [
    "# パラメータをJSONに保存\n",
    "import json\n",
    "filepath = f\"{output_dir}/params.json\"\n",
    "with open(filepath, mode=\"wt\", encoding=\"utf-8\") as f:\n",
    "\tjson.dump(params, f, ensure_ascii=False, indent=2)"
   ]
  },
  {
   "cell_type": "markdown",
   "id": "e04cb833-5b80-4c53-9011-7299525f55d3",
   "metadata": {},
   "source": [
    "## レプリカ交換関数の定義"
   ]
  },
  {
   "cell_type": "code",
   "execution_count": 8,
   "id": "f327b228-59f1-4f7a-b683-a3faee4ea306",
   "metadata": {},
   "outputs": [
    {
     "name": "stdout",
     "output_type": "stream",
     "text": [
      "0.00831446261815324\n"
     ]
    }
   ],
   "source": [
    "kB = MOLAR_GAS_CONSTANT_R.value_in_unit(kilojoule_per_mole/kelvin)\n",
    "print(kB)"
   ]
  },
  {
   "cell_type": "code",
   "execution_count": 9,
   "id": "96607128-755c-4021-8278-a4e2465b026a",
   "metadata": {},
   "outputs": [],
   "source": [
    "# エネルギー交換関数\n",
    "# 全部value_in_unitする\n",
    "def attempt_exchange(replica1, replica2):\n",
    "    E1 = simulations[replica1].context.getState(getEnergy=True).getPotentialEnergy().value_in_unit(kilojoule_per_mole)\n",
    "    E2 = simulations[replica2].context.getState(getEnergy=True).getPotentialEnergy().value_in_unit(kilojoule_per_mole)\n",
    "    kB = MOLAR_GAS_CONSTANT_R.value_in_unit(kilojoule_per_mole/kelvin)\n",
    "    beta1 = 1 / (kB * params['temperatures'][replica1])\n",
    "    beta2 = 1 / (kB * params['temperatures'][replica2])\n",
    "    delta = (beta2 - beta1) * (E1 - E2)\n",
    "    # print(delta)\n",
    "    \n",
    "    if delta < 0 or random.uniform(0, 1) < np.exp(-delta):\n",
    "        # 交換を行う\n",
    "        # print(f\"Exchange accepted between replica {replica1} and {replica2}\")\n",
    "        # temp1 = temperatures[replica1]\n",
    "        # temperatures[replica1] = temperatures[replica2]\n",
    "        # temperatures[replica2] = temp1\n",
    "        rep1 = replicas[replica1]\n",
    "        replicas[replica1] = replicas[replica2]\n",
    "        replicas[replica2] = rep1        \n",
    "        positions1 = simulations[replica1].context.getState(getPositions=True).getPositions()\n",
    "        positions2 = simulations[replica2].context.getState(getPositions=True).getPositions()\n",
    "        simulations[replica1].context.setPositions(positions2)\n",
    "        simulations[replica2].context.setPositions(positions1)\n",
    "        # Write log\n",
    "        with open(f'{output_dir}/acceptance.csv', 'a') as f:\n",
    "            # f.write(','.join(replicas)+'\\n')\n",
    "            f.write(f\"{replica1},{replica2},accept\\n\")\n",
    "        return True\n",
    "    else:\n",
    "        # print(f\"Exchange rejected between replica {replica1} and {replica2}\")\n",
    "        # Write log\n",
    "        with open(f'{output_dir}/acceptance.csv', 'a') as f:\n",
    "            # f.write(','.join(replicas)+'\\n')\n",
    "            f.write(f\"{replica1},{replica2},reject\\n\")\n",
    "        return False"
   ]
  },
  {
   "cell_type": "code",
   "execution_count": 10,
   "id": "dc9d94d1-c301-4b31-85f2-d6b7d2e68bf6",
   "metadata": {},
   "outputs": [],
   "source": [
    "def adjust_temperatures(exchange_attempts, exchange_success):\n",
    "    # temperatures: 現在の温度リスト\n",
    "    # exchange_attempts[i], exchange_success[i]: レプリカ i と i+1 の交換試行数と成功数\n",
    "    # target: 目標成功率(0.25)\n",
    "    \n",
    "    # 現在の温度の逆数 (beta) リストを用意 (等間隔調整などの参考)\n",
    "    betas = [1.0/(MOLAR_GAS_CONSTANT_R.value_in_unit(kilojoule_per_mole/kelvin)*T) for T in params['temperatures']]\n",
    "    \n",
    "    # 各ペアの交換成功率を計算\n",
    "    acceptance = []\n",
    "    for i in range(len(params['temperatures'])-1):\n",
    "        if exchange_attempts[i] > 0:\n",
    "            acc = exchange_success[i]/exchange_attempts[i]\n",
    "        else:\n",
    "            acc = 0.0\n",
    "        acceptance.append(acc)\n",
    "    \n",
    "    # 隣接温度間の調整\n",
    "    # 非常に単純な方針：成功率が高いペア -> 温度差を小さく\n",
    "    # 成功率が低いペア -> 温度差を大きく\n",
    "    # 以下はbetasを微調整し、それに基づいてtemperaturesを更新する例\n",
    "    #\n",
    "    # delta_beta[i] = betas[i+1]-betas[i] がペアiの温度差を支配\n",
    "    # 目標交換率からのズレによって delta_beta をスケール\n",
    "\n",
    "    for i, acc in enumerate(acceptance):\n",
    "        # 誤差\n",
    "        diff = acc - params['acceptance_ratio']\n",
    "        # diff > 0 (成功率が高い)：温度差を小さくしたい => beta差を小さくする\n",
    "        # diff < 0 (成功率が低い)：温度差を大きくしたい => beta差を大きくする\n",
    "        # 下では調整強度を0.1程度とする（適宜調整が必要）\n",
    "        adjust_factor = 1.0 + params['learning_rate']*diff  # acc=0.25なら1.0に近い値\n",
    "        # betas[i+1]とbetas[i]の中点を固定して差分を調整する簡易法\n",
    "        # mid_beta = 0.5*(betas[i] + betas[i+1])\n",
    "        # half_diff = 0.5*(betas[i+1]-betas[i])*adjust_factor\n",
    "        beta_diff = (betas[i+1]-betas[i])*adjust_factor\n",
    "        \n",
    "        # betas[i] = mid_beta - half_diff\n",
    "        # betas[i+1] = mid_beta + half_diff\n",
    "        betas[i+1] = betas[i] + beta_diff\n",
    "    \n",
    "    # betasから温度を再計算\n",
    "    new_temperatures = []\n",
    "    for b in betas:\n",
    "        new_T = 1.0/(b*MOLAR_GAS_CONSTANT_R.value_in_unit(kilojoule_per_mole/kelvin))\n",
    "        new_temperatures.append(new_T)\n",
    "    \n",
    "    params['temperatures'] = new_temperatures\n"
   ]
  },
  {
   "cell_type": "markdown",
   "id": "61ae4f4a-c137-4a30-b06d-5d8ca6abfd58",
   "metadata": {},
   "source": [
    "## システムの作成"
   ]
  },
  {
   "cell_type": "code",
   "execution_count": 11,
   "id": "3c716206-e00b-4692-a459-9aa55790672c",
   "metadata": {},
   "outputs": [],
   "source": [
    "pdb = app.PDBFile(params['pdb_path'])\n",
    "forcefield = app.ForceField(*params['ff'])"
   ]
  },
  {
   "cell_type": "code",
   "execution_count": 12,
   "id": "d1b73afa-3c27-49d3-9d50-699ecf1ce270",
   "metadata": {},
   "outputs": [
    {
     "name": "stdout",
     "output_type": "stream",
     "text": [
      "System created...\n"
     ]
    }
   ],
   "source": [
    "system = forcefield.createSystem(\n",
    "    pdb.topology,\n",
    "    nonbondedMethod=app.PME,\n",
    "    nonbondedCutoff=params['nonbondedCutoff']*nanometer,\n",
    "    constraints=app.HBonds,\n",
    ")\n",
    "print('System created...')\n",
    "\n",
    "# レプリカごとに異なるシミュレーションをセットアップ\n",
    "integrators = []\n",
    "simulations = []\n",
    "for i, temp in enumerate(params['temperatures']):\n",
    "    integrator = LangevinIntegrator(\n",
    "        temp*kelvin,       # 温度\n",
    "        params['friction']/picosecond,    # 摩擦係数\n",
    "        params['dt']*picoseconds  # タイムステップ\n",
    "    )\n",
    "    integrators.append(integrator)\n",
    "    simulation = app.Simulation(pdb.topology, system, integrator)\n",
    "    # simulation.context.setPositions(pdb.positions)\n",
    "    # simulation.context.setVelocitiesToTemperature(temp*kelvin)\n",
    "    simulations.append(simulation)"
   ]
  },
  {
   "cell_type": "markdown",
   "id": "f820209a-da5e-4652-b2ef-1aeba2554b08",
   "metadata": {},
   "source": [
    "## 平衡化"
   ]
  },
  {
   "cell_type": "code",
   "execution_count": 13,
   "id": "e383b8a0-9758-4b3d-b5d7-aaaed991d5bb",
   "metadata": {},
   "outputs": [
    {
     "name": "stdout",
     "output_type": "stream",
     "text": [
      "System_equil created...\n",
      "Equilibrating for 25000 steps\n",
      "Equilibrating for 25000 steps\n",
      "Equilibrating for 25000 steps\n",
      "Equilibrating for 25000 steps\n",
      "Equilibrating for 25000 steps\n",
      "Equilibrating for 25000 steps\n",
      "Equilibrating for 25000 steps\n",
      "Equilibrating for 25000 steps\n",
      "CPU times: user 22.8 s, sys: 3.54 s, total: 26.3 s\n",
      "Wall time: 26.8 s\n"
     ]
    }
   ],
   "source": [
    "%%time\n",
    "system_equil = forcefield.createSystem(\n",
    "    pdb.topology,\n",
    "    nonbondedMethod=app.PME,\n",
    "    nonbondedCutoff=params['nonbondedCutoff']*nanometer,\n",
    "    constraints=app.HBonds,\n",
    ")\n",
    "# Positional restraints for all heavy-atoms for equilibration\n",
    "pos_res = CustomExternalForce(\"k*periodicdistance(x, y, z, x0, y0, z0)^2;\")\n",
    "pos_res.addPerParticleParameter(\"k\")\n",
    "pos_res.addPerParticleParameter(\"x0\")\n",
    "pos_res.addPerParticleParameter(\"y0\")\n",
    "pos_res.addPerParticleParameter(\"z0\")\n",
    "\n",
    "for ai, atom in enumerate(pdb.topology.atoms()):\n",
    "    if atom.name == 'CA':\n",
    "        x = pdb.positions[ai][0].value_in_unit(nanometers)\n",
    "        y = pdb.positions[ai][1].value_in_unit(nanometers)\n",
    "        z = pdb.positions[ai][2].value_in_unit(nanometers)\n",
    "        pos_res.addParticle(ai, [params['restraint_force']*kilocalories_per_mole/(angstrom**2), x, y, z])\n",
    "\n",
    "system_equil.addForce(pos_res)\n",
    "print('System_equil created...')\n",
    "\n",
    "integrators_equil = []\n",
    "simulations_equil = []\n",
    "for i, temp in enumerate(params['temperatures']):\n",
    "    integrator = LangevinIntegrator(\n",
    "        temp*kelvin,       # 温度\n",
    "        params['friction'],    # 摩擦係数\n",
    "        params['dt']*picoseconds  # タイムステップ\n",
    "    )\n",
    "    # integrators_equil.append(integrator)\n",
    "    simulation_equil = app.Simulation(pdb.topology, system_equil, integrator)\n",
    "    simulation_equil.context.setPositions(pdb.positions)\n",
    "    simulation_equil.minimizeEnergy()\n",
    "    simulation_equil.context.setVelocitiesToTemperature(temp*kelvin)\n",
    "    print(\"Equilibrating for\", params['n_steps_equil'], \"steps\")\n",
    "    simulation_equil.step(params['n_steps_equil'])\n",
    "    # simulations_equil.append(simulation)\n",
    "    simulations[i].context.setPositions(\n",
    "        simulation_equil.context.getState(getPositions=True ).getPositions()\n",
    "    )\n",
    "    simulations[i].context.setVelocities(\n",
    "        simulation_equil.context.getState(getVelocities=True).getVelocities()\n",
    "    )"
   ]
  },
  {
   "cell_type": "markdown",
   "id": "c51c6531-35cb-428b-b8bc-d10387ed4a2d",
   "metadata": {},
   "source": [
    "## レポーターの追加"
   ]
  },
  {
   "cell_type": "code",
   "execution_count": 14,
   "id": "b4562dfa-b7f6-4bec-853b-e645223ee15c",
   "metadata": {},
   "outputs": [
    {
     "name": "stdout",
     "output_type": "stream",
     "text": [
      "Adding Reporters...\n"
     ]
    }
   ],
   "source": [
    "# append reporters\n",
    "print('Adding Reporters...')\n",
    "dcd_reporters = [app.DCDReporter(file=f'{output_dir}/replica_{i}.dcd', reportInterval=params['n_steps_save']) \n",
    "                 for i, temp in enumerate(params['temperatures'])]\n",
    "state_data_reporters = [app.StateDataReporter(file=f'{output_dir}/replica_{i}.log', \n",
    "                                              reportInterval=params['n_steps_save'], \n",
    "                                              totalSteps=params['n_steps'], \n",
    "                                              step=True,\n",
    "                                              potentialEnergy=True,\n",
    "                                              temperature=True,\n",
    "                                              speed=True, \n",
    "                                              progress=True, \n",
    "                                              elapsedTime=True) \n",
    "                        for i, temp in enumerate(params['temperatures'])]\n",
    "\n",
    "# 各レプリカにreporterを追加\n",
    "for i, temp in enumerate(params['temperatures']):\n",
    "    simulations[i].reporters.append(dcd_reporters[i])\n",
    "    simulations[i].reporters.append(state_data_reporters[i])"
   ]
  },
  {
   "cell_type": "markdown",
   "id": "cd7ea491-094d-4735-9116-44a364c429c4",
   "metadata": {},
   "source": [
    "## Production\n",
    "- 隣接ペアの組み合わせを1回毎に変えるようにしたい\n",
    "- accept/rejectのログを記録したい"
   ]
  },
  {
   "cell_type": "code",
   "execution_count": 15,
   "id": "a90ac455-a641-4a64-ad62-08f41903d811",
   "metadata": {},
   "outputs": [
    {
     "name": "stdout",
     "output_type": "stream",
     "text": [
      "0 1\n",
      "2 3\n",
      "4 5\n",
      "6 7\n",
      "1 2\n",
      "3 4\n",
      "5 6\n"
     ]
    }
   ],
   "source": [
    "for i in range(0, 8, 2):\n",
    "    print(i, i+1)\n",
    "for i in range(1, 8-1, 2):\n",
    "    print(i, i+1)"
   ]
  },
  {
   "cell_type": "code",
   "execution_count": 16,
   "id": "df2a6056-263a-410b-8840-bc7556646743",
   "metadata": {},
   "outputs": [
    {
     "name": "stdout",
     "output_type": "stream",
     "text": [
      "Production...\n"
     ]
    },
    {
     "data": {
      "application/vnd.jupyter.widget-view+json": {
       "model_id": "e96d577ccf30465eb8d2f1b3c0859508",
       "version_major": 2,
       "version_minor": 0
      },
      "text/plain": [
       "  0%|          | 0/1000 [00:00<?, ?it/s]"
      ]
     },
     "metadata": {},
     "output_type": "display_data"
    },
    {
     "name": "stdout",
     "output_type": "stream",
     "text": [
      "Iteration: 10 Adjusted temperatures: [300.0, 327.7909738717339, 356.34513834196224, 384.9211777425838, 413.49710148333514, 442.07241761814316, 471.8986232124146, 500.7454798929779]\n",
      "Current acceptance rates: [0.0, 0.0, 0.0, 0.0, 0.0, 0.4, 0.5]\n",
      "Iteration: 20 Adjusted temperatures: [300.0, 327.03359203744293, 355.5484560372708, 384.76224702283776, 412.72651935389104, 441.915311142619, 471.0995377259302, 500.5879717564613]\n",
      "Current acceptance rates: [0.0, 0.0, 0.2, 0.0, 0.2, 0.0, 0.2]\n",
      "Iteration: 30 Adjusted temperatures: [300.0, 326.88631018490685, 355.3926478007563, 383.96896846268396, 411.9551795443178, 441.7546743933296, 470.3184802563701, 501.0717030883441]\n",
      "Current acceptance rates: [0.2, 0.2, 0.0, 0.0, 0.2, 0.0, 0.4]\n",
      "Iteration: 40 Adjusted temperatures: [300.0, 326.1555502438747, 354.5979797566386, 383.8100155036405, 411.2013346373573, 441.59061767660194, 469.5548031469329, 500.9035978057813]\n",
      "Current acceptance rates: [0.0, 0.0, 0.2, 0.0, 0.2, 0.0, 0.2]\n",
      "Iteration: 50 Adjusted temperatures: [300.0, 325.4461982114582, 355.0750664837456, 384.27648722944053, 411.63395991864763, 440.78865791050157, 469.4016359159862, 500.064603282238]\n",
      "Current acceptance rates: [0.0, 0.4, 0.4, 0.4, 0.0, 0.2, 0.0]\n",
      "Iteration: 60 Adjusted temperatures: [300.0, 324.75754447417853, 354.2483011898427, 384.1136884628864, 410.89797834312253, 440.62839085233344, 469.2484251808888, 500.55768777742634]\n",
      "Current acceptance rates: [0.0, 0.0, 0.2, 0.0, 0.2, 0.2, 0.4]\n",
      "Iteration: 70 Adjusted temperatures: [300.0, 324.62359642208213, 353.4419355168267, 383.94709348345276, 411.3310745933112, 439.8451845573965, 469.7194297719591, 499.73746235017313]\n",
      "Current acceptance rates: [0.2, 0.0, 0.2, 0.4, 0.0, 0.4, 0.0]\n",
      "Iteration: 80 Adjusted temperatures: [300.0, 323.95884376988596, 352.6396032163526, 383.0968061489848, 410.5745900047849, 439.6884536883816, 468.91874422547465, 500.23061174152684]\n",
      "Current acceptance rates: [0.0, 0.0, 0.0, 0.0, 0.2, 0.0, 0.4]\n",
      "Iteration: 90 Adjusted temperatures: [300.0, 323.31332598106076, 351.84175419519255, 382.24790334425785, 409.81535032578415, 439.5282586994375, 468.7620177462888, 500.0627624763479]\n",
      "Current acceptance rates: [0.0, 0.0, 0.0, 0.0, 0.2, 0.2, 0.2]\n",
      "Iteration: 100 Adjusted temperatures: [300.0, 322.6864181763436, 351.0488058931944, 381.4004890512852, 410.2738398103584, 438.7461430604663, 468.6017258451177, 499.8949524519344]\n",
      "Current acceptance rates: [0.0, 0.0, 0.0, 0.4, 0.0, 0.2, 0.2]\n",
      "Iteration: 110 Adjusted temperatures: [300.0, 322.0775194021472, 350.2611448982292, 380.5546756356182, 410.11370202699663, 437.98169134322654, 467.7841365096232, 499.72343608331767]\n",
      "Current acceptance rates: [0.0, 0.0, 0.0, 0.2, 0.0, 0.0, 0.2]\n",
      "Iteration: 120 Adjusted temperatures: [300.0, 321.48605152381083, 349.4791285006785, 379.7105827307067, 409.9495803700781, 437.2342458348399, 467.6207714075086, 498.86724187836586]\n",
      "Current acceptance rates: [0.0, 0.0, 0.0, 0.2, 0.0, 0.2, 0.0]\n",
      "Iteration: 130 Adjusted temperatures: [300.0, 320.91145818005765, 348.70308618806536, 378.868336197046, 409.11052476032006, 437.0840122414411, 467.4574774410262, 500.0432170514918]\n",
      "Current acceptance rates: [0.0, 0.0, 0.0, 0.0, 0.2, 0.2, 0.6]\n",
      "Iteration: 140 Adjusted temperatures: [300.0, 320.3532037947242, 347.93332108063714, 378.0280671524295, 408.9424031839675, 436.3333489189041, 467.2908156509113, 500.56949059472436]\n",
      "Current acceptance rates: [0.0, 0.0, 0.0, 0.2, 0.0, 0.2, 0.4]\n",
      "Iteration: 150 Adjusted temperatures: [300.0, 319.81077264211314, 347.17011130888426, 377.1899110697716, 408.08357384626487, 435.57951905241976, 467.12077774873063, 499.67499573147427]\n",
      "Current acceptance rates: [0.0, 0.0, 0.0, 0.0, 0.0, 0.2, 0.0]\n",
      "Iteration: 160 Adjusted temperatures: [300.0, 319.70521252081727, 346.42610109014515, 377.0225066981378, 407.2448004396742, 434.82318082160765, 466.9473592390919, 500.2008706060975]\n",
      "Current acceptance rates: [0.2, 0.0, 0.2, 0.0, 0.0, 0.2, 0.4]\n",
      "Iteration: 170 Adjusted temperatures: [300.0, 319.6002493402347, 345.700685874711, 376.17044422512913, 406.40550076235274, 434.0643880099672, 466.77055594463025, 500.0218116842213]\n",
      "Current acceptance rates: [0.2, 0.0, 0.0, 0.0, 0.0, 0.2, 0.2]\n",
      "Iteration: 180 Adjusted temperatures: [300.0, 319.0790802126164, 344.9811188553911, 375.3221337301798, 405.5657987141523, 433.30319649205927, 465.8709853983549, 499.83860751406263]\n",
      "Current acceptance rates: [0.0, 0.0, 0.0, 0.0, 0.0, 0.0, 0.2]\n",
      "Iteration: 190 Adjusted temperatures: [300.0, 318.57257423783113, 344.8381894972227, 374.49449415724825, 405.39762223647796, 432.5588160677802, 465.6916664355701, 499.6554208108887]\n",
      "Current acceptance rates: [0.0, 0.2, 0.0, 0.2, 0.0, 0.2, 0.2]\n",
      "Iteration: 200 Adjusted temperatures: [300.0, 318.4739928732402, 344.1259959097858, 373.6701013510605, 404.5389091201712, 432.4090645670059, 464.7972782260929, 498.72036447615704]\n",
      "Current acceptance rates: [0.2, 0.0, 0.0, 0.0, 0.2, 0.0, 0.0]\n",
      "Iteration: 210 Adjusted temperatures: [300.0, 318.3759649514481, 343.4315831030337, 372.8493838158231, 404.3670676075199, 432.25918328741534, 463.92423657436854, 498.53340472339494]\n",
      "Current acceptance rates: [0.2, 0.0, 0.0, 0.2, 0.2, 0.0, 0.2]\n",
      "Iteration: 220 Adjusted temperatures: [300.0, 317.8891715951417, 343.8460037679236, 372.0647930051317, 404.1916101518755, 431.5100682578506, 463.0546432409872, 497.58030269023476]\n",
      "Current acceptance rates: [0.0, 0.4, 0.0, 0.2, 0.0, 0.0, 0.0]\n",
      "Iteration: 230 Adjusted temperatures: [300.0, 317.4159791852513, 343.13172184466254, 371.2821247576092, 403.29792807102825, 430.75674368107457, 462.18827778110034, 496.62956860049843]\n",
      "Current acceptance rates: [0.0, 0.0, 0.0, 0.0, 0.0, 0.0, 0.0]\n",
      "Iteration: 240 Adjusted temperatures: [300.0, 316.9559709691646, 342.9900929742708, 371.12905918292927, 402.4258873827503, 430.6051702661601, 462.0188419293482, 495.7012201283466]\n",
      "Current acceptance rates: [0.0, 0.2, 0.2, 0.0, 0.2, 0.2, 0.0]\n",
      "Iteration: 250 Adjusted temperatures: [300.0, 317.2249137906111, 342.2950582271949, 370.34912920083724, 401.5563951679315, 430.4494756967156, 461.8494806428097, 495.51962199024507]\n",
      "Current acceptance rates: [0.4, 0.0, 0.0, 0.0, 0.2, 0.2, 0.2]\n"
     ]
    },
    {
     "ename": "KeyboardInterrupt",
     "evalue": "",
     "output_type": "error",
     "traceback": [
      "\u001b[0;31m---------------------------------------------------------------------------\u001b[0m",
      "\u001b[0;31mKeyboardInterrupt\u001b[0m                         Traceback (most recent call last)",
      "\u001b[0;32m/tmp/ipykernel_1510102/900758175.py\u001b[0m in \u001b[0;36m?\u001b[0;34m()\u001b[0m\n\u001b[1;32m      7\u001b[0m \u001b[0;34m\u001b[0m\u001b[0m\n\u001b[1;32m      8\u001b[0m \u001b[0;32mfor\u001b[0m \u001b[0mstep\u001b[0m \u001b[0;32min\u001b[0m \u001b[0mtqdm\u001b[0m\u001b[0;34m(\u001b[0m\u001b[0mrange\u001b[0m\u001b[0;34m(\u001b[0m\u001b[0;36m0\u001b[0m\u001b[0;34m,\u001b[0m \u001b[0mparams\u001b[0m\u001b[0;34m[\u001b[0m\u001b[0;34m'n_steps'\u001b[0m\u001b[0;34m]\u001b[0m\u001b[0;34m,\u001b[0m \u001b[0mparams\u001b[0m\u001b[0;34m[\u001b[0m\u001b[0;34m'n_steps_exchange'\u001b[0m\u001b[0;34m]\u001b[0m\u001b[0;34m)\u001b[0m\u001b[0;34m,\u001b[0m \u001b[0mleave\u001b[0m\u001b[0;34m=\u001b[0m\u001b[0;32mFalse\u001b[0m\u001b[0;34m)\u001b[0m\u001b[0;34m:\u001b[0m\u001b[0;34m\u001b[0m\u001b[0;34m\u001b[0m\u001b[0m\n\u001b[1;32m      9\u001b[0m     \u001b[0;31m# print(f'*** Step {step} ***\"')\u001b[0m\u001b[0;34m\u001b[0m\u001b[0;34m\u001b[0m\u001b[0m\n\u001b[1;32m     10\u001b[0m     \u001b[0;32mfor\u001b[0m \u001b[0msim\u001b[0m \u001b[0;32min\u001b[0m \u001b[0msimulations\u001b[0m\u001b[0;34m:\u001b[0m\u001b[0;34m\u001b[0m\u001b[0;34m\u001b[0m\u001b[0m\n\u001b[0;32m---> 11\u001b[0;31m         \u001b[0msim\u001b[0m\u001b[0;34m.\u001b[0m\u001b[0mstep\u001b[0m\u001b[0;34m(\u001b[0m\u001b[0mparams\u001b[0m\u001b[0;34m[\u001b[0m\u001b[0;34m'n_steps_exchange'\u001b[0m\u001b[0;34m]\u001b[0m\u001b[0;34m)\u001b[0m  \u001b[0;31m# 各レプリカで実行\u001b[0m\u001b[0;34m\u001b[0m\u001b[0;34m\u001b[0m\u001b[0m\n\u001b[0m\u001b[1;32m     12\u001b[0m \u001b[0;34m\u001b[0m\u001b[0m\n\u001b[1;32m     13\u001b[0m     \u001b[0;31m# レプリカ間での交換試行\u001b[0m\u001b[0;34m\u001b[0m\u001b[0;34m\u001b[0m\u001b[0m\n\u001b[1;32m     14\u001b[0m     \u001b[0;32mif\u001b[0m \u001b[0mis_even_step\u001b[0m\u001b[0;34m:\u001b[0m\u001b[0;34m\u001b[0m\u001b[0;34m\u001b[0m\u001b[0m\n",
      "\u001b[0;32m/opt/anaconda3/lib/python3.11/site-packages/openmm/app/simulation.py\u001b[0m in \u001b[0;36m?\u001b[0;34m(self, steps)\u001b[0m\n\u001b[1;32m    145\u001b[0m     \u001b[0;32mdef\u001b[0m \u001b[0mstep\u001b[0m\u001b[0;34m(\u001b[0m\u001b[0mself\u001b[0m\u001b[0;34m,\u001b[0m \u001b[0msteps\u001b[0m\u001b[0;34m)\u001b[0m\u001b[0;34m:\u001b[0m\u001b[0;34m\u001b[0m\u001b[0;34m\u001b[0m\u001b[0m\n\u001b[1;32m    146\u001b[0m         \u001b[0;34m\"\"\"Advance the simulation by integrating a specified number of time steps.\"\"\"\u001b[0m\u001b[0;34m\u001b[0m\u001b[0;34m\u001b[0m\u001b[0m\n\u001b[0;32m--> 147\u001b[0;31m         \u001b[0mself\u001b[0m\u001b[0;34m.\u001b[0m\u001b[0m_simulate\u001b[0m\u001b[0;34m(\u001b[0m\u001b[0mendStep\u001b[0m\u001b[0;34m=\u001b[0m\u001b[0mself\u001b[0m\u001b[0;34m.\u001b[0m\u001b[0mcurrentStep\u001b[0m\u001b[0;34m+\u001b[0m\u001b[0msteps\u001b[0m\u001b[0;34m)\u001b[0m\u001b[0;34m\u001b[0m\u001b[0;34m\u001b[0m\u001b[0m\n\u001b[0m",
      "\u001b[0;32m/opt/anaconda3/lib/python3.11/site-packages/openmm/app/simulation.py\u001b[0m in \u001b[0;36m?\u001b[0;34m(self, endStep, endTime)\u001b[0m\n\u001b[1;32m    208\u001b[0m                     \u001b[0mnextSteps\u001b[0m \u001b[0;34m=\u001b[0m \u001b[0mnextReport\u001b[0m\u001b[0;34m[\u001b[0m\u001b[0mi\u001b[0m\u001b[0;34m]\u001b[0m\u001b[0;34m[\u001b[0m\u001b[0;36m0\u001b[0m\u001b[0;34m]\u001b[0m\u001b[0;34m\u001b[0m\u001b[0;34m\u001b[0m\u001b[0m\n\u001b[1;32m    209\u001b[0m                     \u001b[0manyReport\u001b[0m \u001b[0;34m=\u001b[0m \u001b[0;32mTrue\u001b[0m\u001b[0;34m\u001b[0m\u001b[0;34m\u001b[0m\u001b[0m\n\u001b[1;32m    210\u001b[0m             \u001b[0mstepsToGo\u001b[0m \u001b[0;34m=\u001b[0m \u001b[0mnextSteps\u001b[0m\u001b[0;34m\u001b[0m\u001b[0;34m\u001b[0m\u001b[0m\n\u001b[1;32m    211\u001b[0m             \u001b[0;32mwhile\u001b[0m \u001b[0mstepsToGo\u001b[0m \u001b[0;34m>\u001b[0m \u001b[0;36m10\u001b[0m\u001b[0;34m:\u001b[0m\u001b[0;34m\u001b[0m\u001b[0;34m\u001b[0m\u001b[0m\n\u001b[0;32m--> 212\u001b[0;31m                 \u001b[0mself\u001b[0m\u001b[0;34m.\u001b[0m\u001b[0mintegrator\u001b[0m\u001b[0;34m.\u001b[0m\u001b[0mstep\u001b[0m\u001b[0;34m(\u001b[0m\u001b[0;36m10\u001b[0m\u001b[0;34m)\u001b[0m \u001b[0;31m# Only take 10 steps at a time, to give Python more chances to respond to a control-c.\u001b[0m\u001b[0;34m\u001b[0m\u001b[0;34m\u001b[0m\u001b[0m\n\u001b[0m\u001b[1;32m    213\u001b[0m                 \u001b[0mstepsToGo\u001b[0m \u001b[0;34m-=\u001b[0m \u001b[0;36m10\u001b[0m\u001b[0;34m\u001b[0m\u001b[0;34m\u001b[0m\u001b[0m\n\u001b[1;32m    214\u001b[0m                 \u001b[0;32mif\u001b[0m \u001b[0mendTime\u001b[0m \u001b[0;32mis\u001b[0m \u001b[0;32mnot\u001b[0m \u001b[0;32mNone\u001b[0m \u001b[0;32mand\u001b[0m \u001b[0mdatetime\u001b[0m\u001b[0;34m.\u001b[0m\u001b[0mnow\u001b[0m\u001b[0;34m(\u001b[0m\u001b[0;34m)\u001b[0m \u001b[0;34m>=\u001b[0m \u001b[0mendTime\u001b[0m\u001b[0;34m:\u001b[0m\u001b[0;34m\u001b[0m\u001b[0;34m\u001b[0m\u001b[0m\n\u001b[1;32m    215\u001b[0m                     \u001b[0;32mreturn\u001b[0m\u001b[0;34m\u001b[0m\u001b[0;34m\u001b[0m\u001b[0m\n",
      "\u001b[0;32m/opt/anaconda3/lib/python3.11/site-packages/openmm/openmm.py\u001b[0m in \u001b[0;36m?\u001b[0;34m(self, steps)\u001b[0m\n\u001b[1;32m   6858\u001b[0m         \u001b[0;34m-\u001b[0m\u001b[0;34m-\u001b[0m\u001b[0;34m-\u001b[0m\u001b[0;34m-\u001b[0m\u001b[0;34m-\u001b[0m\u001b[0;34m-\u001b[0m\u001b[0;34m-\u001b[0m\u001b[0;34m-\u001b[0m\u001b[0;34m-\u001b[0m\u001b[0;34m-\u001b[0m\u001b[0;34m\u001b[0m\u001b[0;34m\u001b[0m\u001b[0m\n\u001b[1;32m   6859\u001b[0m         \u001b[0msteps\u001b[0m \u001b[0;34m:\u001b[0m \u001b[0mint\u001b[0m\u001b[0;34m\u001b[0m\u001b[0;34m\u001b[0m\u001b[0m\n\u001b[1;32m   6860\u001b[0m             \u001b[0mthe\u001b[0m \u001b[0mnumber\u001b[0m \u001b[0mof\u001b[0m \u001b[0mtime\u001b[0m \u001b[0msteps\u001b[0m \u001b[0mto\u001b[0m \u001b[0mtake\u001b[0m\u001b[0;34m\u001b[0m\u001b[0;34m\u001b[0m\u001b[0m\n\u001b[1;32m   6861\u001b[0m         \"\"\"\n\u001b[0;32m-> 6862\u001b[0;31m         \u001b[0;32mreturn\u001b[0m \u001b[0m_openmm\u001b[0m\u001b[0;34m.\u001b[0m\u001b[0mLangevinIntegrator_step\u001b[0m\u001b[0;34m(\u001b[0m\u001b[0mself\u001b[0m\u001b[0;34m,\u001b[0m \u001b[0msteps\u001b[0m\u001b[0;34m)\u001b[0m\u001b[0;34m\u001b[0m\u001b[0;34m\u001b[0m\u001b[0m\n\u001b[0m",
      "\u001b[0;31mKeyboardInterrupt\u001b[0m: "
     ]
    }
   ],
   "source": [
    "# %%time\n",
    "# シミュレーションループ\n",
    "print('Production...')\n",
    "is_even_step = True # 交換ペアを交互に変えるための変数\n",
    "exchange_attempts = np.zeros(params['n_replicas']-1)\n",
    "exchange_success = np.zeros(params['n_replicas']-1)\n",
    "\n",
    "for step in tqdm(range(0, params['n_steps'], params['n_steps_exchange']), leave=False):\n",
    "    # print(f'*** Step {step} ***\"')\n",
    "    for sim in simulations:\n",
    "        sim.step(params['n_steps_exchange'])  # 各レプリカで実行\n",
    "\n",
    "    # レプリカ間での交換試行\n",
    "    if is_even_step:\n",
    "        for i in range(0, params['n_replicas'], 2):\n",
    "            success = attempt_exchange(i, i + 1)\n",
    "            exchange_attempts[i] += 1\n",
    "            if success:\n",
    "                exchange_success[i] += 1\n",
    "    else:\n",
    "        for i in range(1, params['n_replicas']-1, 2):\n",
    "            success = attempt_exchange(i, i + 1)\n",
    "            exchange_attempts[i] += 1\n",
    "            if success:\n",
    "                exchange_success[i] += 1\n",
    "\n",
    "    # n_steps_adjust回温度交換したら、交換確率に基づいて温度を更新\n",
    "    if step % params['n_steps_adjust'] == 0 and step > 0:\n",
    "        adjust_temperatures(exchange_attempts, exchange_success)\n",
    "        # integratorの温度をセット\n",
    "        for i, integrator in enumerate(integrators):\n",
    "            integrator.setTemperature(params['temperatures'][i])\n",
    "            \n",
    "        print(\"Iteration:\", step//params['n_steps_exchange'], \"Adjusted temperatures:\", [T for T in params['temperatures']])\n",
    "        print(\"Current acceptance rates:\", [exchange_success[j]/exchange_attempts[j] if exchange_attempts[j] > 0 else 0 for j in range(params['n_replicas']-1)])\n",
    "\n",
    "        # 交換確率をリセット\n",
    "        for i in range(params['n_replicas'] - 1):\n",
    "            exchange_attempts[i] = 0\n",
    "            exchange_success[i] = 0\n",
    "            \n",
    "    is_even_step = not is_even_step\n",
    "        \n",
    "    with open(f'{output_dir}/replicas.csv', 'a') as f:\n",
    "            f.write(','.join(replicas)+'\\n')"
   ]
  },
  {
   "cell_type": "code",
   "execution_count": 13,
   "id": "a7f95dec-8c55-42f5-8f23-77eb27033a70",
   "metadata": {},
   "outputs": [],
   "source": [
    "# # 参考コード\n",
    "# import math\n",
    "# import random\n",
    "# from simtk.openmm import app, Platform\n",
    "# import simtk.openmm as mm\n",
    "# import simtk.unit as unit\n",
    "\n",
    "# # -------------------------\n",
    "# # 準備段階: SystemとIntegratorなどの基本設定\n",
    "# # -------------------------\n",
    "# pdb = app.PDBFile('input.pdb')\n",
    "# forcefield = app.ForceField('amber14-all.xml', 'amber14-tip3p.xml')\n",
    "\n",
    "# system = forcefield.createSystem(\n",
    "#     pdb.topology,\n",
    "#     nonbondedMethod=app.PME,\n",
    "#     nonbondedCutoff=1.0*unit.nanometer,\n",
    "#     constraints=app.HBonds\n",
    "# )\n",
    "\n",
    "# # 初期的な温度リスト（粗い間隔から開始）\n",
    "# T_min = 300.0*unit.kelvin\n",
    "# T_max = 400.0*unit.kelvin\n",
    "# n_replicas = 8\n",
    "# temperatures = [T_min + i*(T_max - T_min)/(n_replicas-1) for i in range(n_replicas)]\n",
    "\n",
    "# def create_simulations(temps):\n",
    "#     simulations = []\n",
    "#     for T in temps:\n",
    "#         integrator = mm.LangevinIntegrator(T, 1.0/unit.picosecond, 0.002*unit.picoseconds)\n",
    "#         sim = app.Simulation(pdb.topology, system, integrator)\n",
    "#         sim.context.setPositions(pdb.positions)\n",
    "#         sim.minimizeEnergy()\n",
    "#         sim.context.setVelocitiesToTemperature(T)\n",
    "#         simulations.append(sim)\n",
    "#     return simulations\n",
    "\n",
    "# simulations = create_simulations(temperatures)\n",
    "\n",
    "# # -------------------------\n",
    "# # 交換試行関数：Metropolis判定\n",
    "# # -------------------------\n",
    "# def attempt_exchange(sim1, sim2, T1, T2):\n",
    "#     state1 = sim1.context.getState(getEnergy=True, getPositions=True, getVelocities=True)\n",
    "#     E1 = state1.getPotentialEnergy().value_in_unit(unit.kilojoule_per_mole)\n",
    "#     pos1 = state1.getPositions()\n",
    "#     vel1 = state1.getVelocities()\n",
    "    \n",
    "#     state2 = sim2.context.getState(getEnergy=True, getPositions=True, getVelocities=True)\n",
    "#     E2 = state2.getPotentialEnergy().value_in_unit(unit.kilojoule_per_mole)\n",
    "#     pos2 = state2.getPositions()\n",
    "#     vel2 = state2.getVelocities()\n",
    "    \n",
    "#     kB = unit.MOLAR_GAS_CONSTANT_R.value_in_unit(unit.kilojoule_per_mole/unit.kelvin)\n",
    "#     beta1 = 1.0/(kB*T1.value_in_unit(unit.kelvin))\n",
    "#     beta2 = 1.0/(kB*T2.value_in_unit(unit.kelvin))\n",
    "    \n",
    "#     delta = (beta1 - beta2)*(E2 - E1)\n",
    "#     if delta < 0.0 or random.random() < math.exp(-delta):\n",
    "#         # 交換成立\n",
    "#         sim1.context.setPositions(pos2)\n",
    "#         sim1.context.setVelocities(vel2)\n",
    "#         sim2.context.setPositions(pos1)\n",
    "#         sim2.context.setVelocities(vel1)\n",
    "#         return True\n",
    "#     return False\n",
    "\n",
    "# # -------------------------\n",
    "# # 温度調整用関数\n",
    "# # -------------------------\n",
    "# def adjust_temperatures(temperatures, exchange_attempts, exchange_success, target=0.25):\n",
    "#     # temperatures: 現在の温度リスト\n",
    "#     # exchange_attempts[i], exchange_success[i]: レプリカ i と i+1 の交換試行数と成功数\n",
    "#     # target: 目標成功率(0.25)\n",
    "    \n",
    "#     # 現在の温度の逆数 (beta) リストを用意 (等間隔調整などの参考)\n",
    "#     betas = [1.0/(unit.MOLAR_GAS_CONSTANT_R.value_in_unit(unit.kilojoule_per_mole/unit.kelvin)*T.value_in_unit(unit.kelvin)) for T in temperatures]\n",
    "    \n",
    "#     # 各ペアの交換成功率を計算\n",
    "#     acceptance = []\n",
    "#     for i in range(len(temperatures)-1):\n",
    "#         if exchange_attempts[i] > 0:\n",
    "#             acc = exchange_success[i]/exchange_attempts[i]\n",
    "#         else:\n",
    "#             acc = 0.0\n",
    "#         acceptance.append(acc)\n",
    "    \n",
    "#     # 隣接温度間の調整\n",
    "#     # 非常に単純な方針：成功率が高いペア -> 温度差を小さく\n",
    "#     # 成功率が低いペア -> 温度差を大きく\n",
    "#     # 以下はbetasを微調整し、それに基づいてtemperaturesを更新する例\n",
    "#     #\n",
    "#     # delta_beta[i] = betas[i+1]-betas[i] がペアiの温度差を支配\n",
    "#     # 目標交換率からのズレによって delta_beta をスケール\n",
    "\n",
    "#     for i, acc in enumerate(acceptance):\n",
    "#         # 誤差\n",
    "#         diff = acc - target\n",
    "#         # diff > 0 (成功率が高い)：温度差を小さくしたい => beta差を小さくする\n",
    "#         # diff < 0 (成功率が低い)：温度差を大きくしたい => beta差を大きくする\n",
    "#         # 下では調整強度を0.1程度とする（適宜調整が必要）\n",
    "#         adjust_factor = 1.0 - 0.1*diff  # acc=0.25なら1.0に近い値\n",
    "#         # betas[i+1]とbetas[i]の中点を固定して差分を調整する簡易法\n",
    "#         mid_beta = 0.5*(betas[i] + betas[i+1])\n",
    "#         half_diff = 0.5*(betas[i+1]-betas[i])*adjust_factor\n",
    "#         betas[i] = mid_beta - half_diff\n",
    "#         betas[i+1] = mid_beta + half_diff\n",
    "    \n",
    "#     # betasから温度を再計算\n",
    "#     new_temperatures = []\n",
    "#     for b in betas:\n",
    "#         new_T = 1.0/(b*unit.MOLAR_GAS_CONSTANT_R.value_in_unit(unit.kilojoule_per_mole/unit.kelvin))\n",
    "#         new_temperatures.append(new_T*unit.kelvin)\n",
    "    \n",
    "#     return new_temperatures\n",
    "\n",
    "# # -------------------------\n",
    "# # メインループ: ステップ実行と交換試行 + 温度調整\n",
    "# # -------------------------\n",
    "# steps_per_exchange = 1000\n",
    "# n_iterations = 100\n",
    "# n_steps_adjust = 10  # 10回交換後に温度調整\n",
    "# target_acceptance = 0.25\n",
    "\n",
    "# exchange_attempts = [0]*(n_replicas-1)\n",
    "# exchange_success = [0]*(n_replicas-1)\n",
    "\n",
    "# for iteration in range(n_iterations):\n",
    "#     # 各レプリカを同数のステップ進める\n",
    "#     for sim in simulations:\n",
    "#         sim.step(steps_per_exchange)\n",
    "    \n",
    "#     # 隣接レプリカ間で交換試行\n",
    "#     for i in range(n_replicas-1):\n",
    "#         exchange_attempts[i] += 1\n",
    "#         success = attempt_exchange(simulations[i], simulations[i+1], \n",
    "#                                    temperatures[i], temperatures[i+1])\n",
    "#         if success:\n",
    "#             exchange_success[i] += 1\n",
    "    \n",
    "#     # 一定間隔で温度分布を調整\n",
    "#     if (iteration+1) % n_steps_adjust == 0 and iteration > 0:\n",
    "#         # 現在の交換成功率を踏まえ温度を更新\n",
    "#         temperatures = adjust_temperatures(temperatures, exchange_attempts, exchange_success, target=target_acceptance)\n",
    "        \n",
    "#         # 新しい温度に合わせてSimulationを作り直し(必要なら）\n",
    "#         # 通常はpositions/velocitiesを保持しつつContextのみ再初期化する方が望ましいが、ここでは簡易化\n",
    "#         # 既存シミュレーションのContextに対してIntegratorだけ変える、あるいは温度スケールし直すなど\n",
    "#         # 簡易法として、positions/velocitiesを保持してintegratorだけ変えなおす例：\n",
    "#         positions = [sim.context.getState(getPositions=True).getPositions() for sim in simulations]\n",
    "#         velocities = [sim.context.getState(getVelocities=True).getVelocities() for sim in simulations]\n",
    "        \n",
    "#         simulations = []\n",
    "#         for i, T in enumerate(temperatures):\n",
    "#             integrator = mm.LangevinIntegrator(T, 1.0/unit.picosecond, 0.002*unit.picoseconds)\n",
    "#             sim = app.Simulation(pdb.topology, system, integrator)\n",
    "#             sim.context.setPositions(positions[i])\n",
    "#             sim.context.setVelocities(velocities[i])\n",
    "#             simulations.append(sim)\n",
    "        \n",
    "#         # 統計をリセットまたは継続するか判断\n",
    "#         # ここでは継続\n",
    "#         # (もし統計をリセットするなら exchange_attempts = [0]*(n_replicas-1), exchange_success = [0]*(n_replicas-1)など)\n",
    "        \n",
    "#         print(\"Iteration:\", iteration+1, \"Adjusted temperatures:\", [T.value_in_unit(unit.kelvin) for T in temperatures])\n",
    "#         print(\"Current acceptance rates:\", [exchange_success[j]/exchange_attempts[j] if exchange_attempts[j] > 0 else 0 for j in range(n_replicas-1)])\n",
    "\n",
    "\n",
    "# # 最終的には temperatures の分布が目標交換率付近に収束することが期待される\n"
   ]
  },
  {
   "cell_type": "markdown",
   "id": "c12a4448-48ce-41c2-af1f-36520040369d",
   "metadata": {},
   "source": [
    "## 最終構造を保存"
   ]
  },
  {
   "cell_type": "code",
   "execution_count": 14,
   "id": "e2ec478f-bd26-4bd9-ac3b-b3c5cecf817a",
   "metadata": {},
   "outputs": [],
   "source": [
    "# シミュレーション結果(PDB)を保存\n",
    "for i, sim in enumerate(simulations):\n",
    "    state = sim.context.getState(getPositions=True, getEnergy=True)\n",
    "    with open(f\"{output_dir}/output_replica_{i}.pdb\", \"w\") as f:\n",
    "        app.PDBFile.writeFile(pdb.topology, state.getPositions(), f)"
   ]
  },
  {
   "cell_type": "code",
   "execution_count": 15,
   "id": "55adcbd4-9d4a-43ea-973b-9c4ea63e688f",
   "metadata": {},
   "outputs": [],
   "source": [
    "# パラメータをJSONに保存\n",
    "import json\n",
    "filepath = f\"{output_dir}/params.json\"\n",
    "with open(filepath, mode=\"wt\", encoding=\"utf-8\") as f:\n",
    "\tjson.dump(params, f, ensure_ascii=False, indent=2)"
   ]
  },
  {
   "cell_type": "code",
   "execution_count": 16,
   "id": "21d1f604-03aa-4cff-961a-46276112dbcd",
   "metadata": {},
   "outputs": [
    {
     "name": "stdout",
     "output_type": "stream",
     "text": [
      "[300.0, 315.12468049486813, 326.1787616390951, 344.58789477537226, 367.92306799806414, 391.2232847012879, 424.1932516875824, 459.3041591248497]\n"
     ]
    }
   ],
   "source": [
    "print(params['temperatures'])"
   ]
  },
  {
   "cell_type": "code",
   "execution_count": null,
   "id": "743c88af-4f40-4d44-af8f-c55fbe3f8106",
   "metadata": {},
   "outputs": [],
   "source": []
  }
 ],
 "metadata": {
  "kernelspec": {
   "display_name": "Python 3 (ipykernel)",
   "language": "python",
   "name": "python3"
  },
  "language_info": {
   "codemirror_mode": {
    "name": "ipython",
    "version": 3
   },
   "file_extension": ".py",
   "mimetype": "text/x-python",
   "name": "python",
   "nbconvert_exporter": "python",
   "pygments_lexer": "ipython3",
   "version": "3.11.5"
  }
 },
 "nbformat": 4,
 "nbformat_minor": 5
}
