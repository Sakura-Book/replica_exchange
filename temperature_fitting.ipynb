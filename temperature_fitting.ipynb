{
 "cells": [
  {
   "cell_type": "markdown",
   "id": "c3c6e861-3d0e-4ae2-a806-069aff38da7c",
   "metadata": {},
   "source": [
    "# REMDのOpenMM実装\n",
    "- ChatGPTを使用\n",
    "- 一定時間ごとに、レプリカ間の座標を交換する(温度はそのまま)\n",
    "- 速度は交換しない\n",
    "- 交換確率が0.25になるよう温度を調整するための予備MD"
   ]
  },
  {
   "cell_type": "code",
   "execution_count": 1,
   "id": "7e595089-2c75-4ed0-bfd5-bc4e255bb0f6",
   "metadata": {},
   "outputs": [],
   "source": [
    "from openmm.app import *\n",
    "from openmm import *\n",
    "from openmm.unit import *\n",
    "import numpy as np\n",
    "from tqdm.notebook import tqdm\n",
    "import random\n",
    "import os\n",
    "from datetime import datetime\n",
    "from math import ceil"
   ]
  },
  {
   "cell_type": "code",
   "execution_count": 2,
   "id": "12c646f4-3a18-4e5a-a36c-a55bcd9e30d3",
   "metadata": {},
   "outputs": [
    {
     "name": "stdout",
     "output_type": "stream",
     "text": [
      "ディレクトリ './output/output_2024-12-09_18-07-20' を作成しました！\n"
     ]
    }
   ],
   "source": [
    "# 現在の日付と時刻を取得\n",
    "current_time = datetime.now().strftime('%Y-%m-%d_%H-%M-%S')\n",
    "# ディレクトリ名を作成\n",
    "output_dir = f\"./output/output_{current_time}\"\n",
    "# ディレクトリを作成\n",
    "os.makedirs(output_dir, exist_ok=True)\n",
    "print(f\"ディレクトリ '{output_dir}' を作成しました！\")"
   ]
  },
  {
   "cell_type": "code",
   "execution_count": 3,
   "id": "dc753e79-d3f2-4459-8601-2ffce6fe62e3",
   "metadata": {},
   "outputs": [
    {
     "name": "stdout",
     "output_type": "stream",
     "text": [
      "Replicas: ['0', '1', '2', '3', '4', '5', '6', '7']\n",
      "Temperatures (K): [300.0, 328.57142857142856, 357.14285714285717, 385.7142857142857, 414.2857142857143, 442.8571428571429, 471.42857142857144, 500.0]\n",
      "n_replicas: 8\n",
      "temperature_min: 300\n",
      "temperature_max: 500\n",
      "temperatures: [300.0, 328.57142857142856, 357.14285714285717, 385.7142857142857, 414.2857142857143, 442.8571428571429, 471.42857142857144, 500.0]\n",
      "old_temperatures: [300.0, 328.57142857142856, 357.14285714285717, 385.7142857142857, 414.2857142857143, 442.8571428571429, 471.42857142857144, 500.0]\n",
      "acceptance_ratio: 0.25\n",
      "dt: 0.002\n",
      "n_steps: 1000000\n",
      "n_steps_exchange: 1000\n",
      "n_steps_save: 500\n",
      "n_steps_equil: 25000\n",
      "adjust_interval: 40\n",
      "n_steps_adjust: 40000\n",
      "learning_rate: 0.1\n",
      "n_times_exchange: 1000\n",
      "nonbondedCutoff: 1.0\n",
      "friction: 1.0\n",
      "restraint_force: 10\n",
      "pdb_path: ./structures/ala2_solvated.pdb\n",
      "ff: ['amber99sbildn.xml', 'tip3p.xml']\n"
     ]
    }
   ],
   "source": [
    "# パラメータ設定\n",
    "params = {}\n",
    "params['n_replicas'] = 8  # レプリカ数\n",
    "replicas = [str(i) for i in np.arange(params['n_replicas'])]\n",
    "print('Replicas:', replicas)\n",
    "params['temperature_min'] = 300 # K\n",
    "params['temperature_max'] = 500 # K\n",
    "params['temperatures'] = np.linspace(params['temperature_min'], params['temperature_max'], params['n_replicas'])  # 温度 (Kelvin)\n",
    "\n",
    "params['temperatures'] = params['temperatures'].tolist()\n",
    "params['old_temperatures'] = copy.deepcopy(params['temperatures'])\n",
    "\n",
    "print('Temperatures (K):', params['temperatures'])\n",
    "params['acceptance_ratio'] = 0.25\n",
    "\n",
    "params['dt'] = 0.002 # タイムステップ(ps)\n",
    "params['n_steps'] = 2 * int(ceil(1e3 / params['dt'])) # シミュレーション総ステップ数(1us) 1e6\n",
    "params['n_steps_exchange'] = 2 * int(ceil(1e0 / params['dt'])) # 交換を試みる間隔(1ns) 1e3\n",
    "params['n_steps_save'] = 1 * int(ceil(1e0 / params['dt'])) # 保存間隔(100ps) 100\n",
    "params['n_steps_equil'] = 50 * int(ceil(1e0 / params['dt'])) # 平衡化(10ns) 20000\n",
    "params['adjust_interval'] = 40\n",
    "params['n_steps_adjust'] = params['adjust_interval'] * params['n_steps_exchange'] # 10回交換後に温度調整]\n",
    "params['learning_rate'] = 0.1 # 0~1\n",
    "\n",
    "params['n_times_exchange'] = params['n_steps'] // params['n_steps_exchange']\n",
    "\n",
    "params['nonbondedCutoff'] = 1.0 # nm\n",
    "params['friction'] = 1.0 # /ps\n",
    "params['restraint_force'] = 10 # kcal/mol/A^2\n",
    "\n",
    "params['pdb_path'] = './structures/ala2_solvated.pdb'\n",
    "params['ff'] = ['amber99sbildn.xml', 'tip3p.xml']\n",
    "\n",
    "for key in params.keys():\n",
    "    print(f'{key}: {params[key]}')"
   ]
  },
  {
   "cell_type": "markdown",
   "id": "e873a443",
   "metadata": {},
   "source": [
    "### 初期パラメータをJSONに保存"
   ]
  },
  {
   "cell_type": "code",
   "execution_count": 4,
   "id": "d25ef9fb-ece3-4d3b-a7f6-0f59cc359c8b",
   "metadata": {},
   "outputs": [],
   "source": [
    "# パラメータをJSONに保存\n",
    "import json\n",
    "filepath = f\"{output_dir}/params.json\"\n",
    "with open(filepath, mode=\"wt\", encoding=\"utf-8\") as f:\n",
    "\tjson.dump(params, f, ensure_ascii=False, indent=2)"
   ]
  },
  {
   "cell_type": "markdown",
   "id": "a374a6b5",
   "metadata": {},
   "source": [
    "### CSVファイルのセットアップ"
   ]
  },
  {
   "cell_type": "code",
   "execution_count": 5,
   "id": "efb59ee9",
   "metadata": {},
   "outputs": [],
   "source": [
    "# 各レプリカサンプルの現在位置を保存するファイル\n",
    "with open(f'{output_dir}/replicas.csv', 'a') as f:\n",
    "    f.write('step,'+','.join(replicas)+'\\n')\n",
    "\n",
    "# レプリカ交換のaccept/rejectを保存するファイル\n",
    "with open(f'{output_dir}/acceptance.csv', 'a') as f:\n",
    "    f.write(f\"step,replica1,replica2,acceptance\\n\")\n",
    "\n",
    "# 温度更新ごとに、温度を保存するファイル\n",
    "with open(f'{output_dir}/adjusted_temperatures.csv', 'a') as f:\n",
    "    f.write('step,'+','.join(replicas)+'\\n')\n",
    "\n",
    "# 温度更新ごとに、直近の交換確率を保存するファイル\n",
    "with open(f'{output_dir}/acceptance_rates.csv', 'a') as f:\n",
    "    f.write('step,'+','.join([f'{i}_{i+1}' for i in range(params['n_replicas']-1)])+'\\n')"
   ]
  },
  {
   "cell_type": "markdown",
   "id": "e04cb833-5b80-4c53-9011-7299525f55d3",
   "metadata": {},
   "source": [
    "## レプリカ交換関数の定義"
   ]
  },
  {
   "cell_type": "code",
   "execution_count": 6,
   "id": "f327b228-59f1-4f7a-b683-a3faee4ea306",
   "metadata": {},
   "outputs": [
    {
     "name": "stdout",
     "output_type": "stream",
     "text": [
      "0.00831446261815324\n"
     ]
    }
   ],
   "source": [
    "kB = MOLAR_GAS_CONSTANT_R.value_in_unit(kilojoule_per_mole/kelvin)\n",
    "print(kB)"
   ]
  },
  {
   "cell_type": "markdown",
   "id": "056edabe",
   "metadata": {},
   "source": [
    "### レプリカ交換"
   ]
  },
  {
   "cell_type": "code",
   "execution_count": 7,
   "id": "96607128-755c-4021-8278-a4e2465b026a",
   "metadata": {},
   "outputs": [],
   "source": [
    "# エネルギー交換関数\n",
    "# 全部value_in_unitする\n",
    "def attempt_exchange(replica1, replica2, step):\n",
    "    E1 = simulations[replica1].context.getState(getEnergy=True).getPotentialEnergy().value_in_unit(kilojoule_per_mole)\n",
    "    E2 = simulations[replica2].context.getState(getEnergy=True).getPotentialEnergy().value_in_unit(kilojoule_per_mole)\n",
    "    kB = MOLAR_GAS_CONSTANT_R.value_in_unit(kilojoule_per_mole/kelvin)\n",
    "    beta1 = 1 / (kB * params['temperatures'][replica1])\n",
    "    beta2 = 1 / (kB * params['temperatures'][replica2])\n",
    "    delta = (beta2 - beta1) * (E1 - E2)\n",
    "    # print(delta)\n",
    "    \n",
    "    if delta < 0 or random.uniform(0, 1) < np.exp(-delta):\n",
    "        # 交換を行う\n",
    "        # print(f\"Exchange accepted between replica {replica1} and {replica2}\")\n",
    "        # temp1 = temperatures[replica1]\n",
    "        # temperatures[replica1] = temperatures[replica2]\n",
    "        # temperatures[replica2] = temp1\n",
    "        rep1 = replicas[replica1]\n",
    "        replicas[replica1] = replicas[replica2]\n",
    "        replicas[replica2] = rep1        \n",
    "        positions1 = simulations[replica1].context.getState(getPositions=True).getPositions()\n",
    "        positions2 = simulations[replica2].context.getState(getPositions=True).getPositions()\n",
    "        simulations[replica1].context.setPositions(positions2)\n",
    "        simulations[replica2].context.setPositions(positions1)\n",
    "        # Write log\n",
    "        with open(f'{output_dir}/acceptance.csv', 'a') as f:\n",
    "            # f.write(','.join(replicas)+'\\n')\n",
    "            f.write(f\"{step},{replica1},{replica2},1\\n\")\n",
    "        return True\n",
    "    else:\n",
    "        # print(f\"Exchange rejected between replica {replica1} and {replica2}\")\n",
    "        # Write log\n",
    "        with open(f'{output_dir}/acceptance.csv', 'a') as f:\n",
    "            # f.write(','.join(replicas)+'\\n')\n",
    "            f.write(f\"{step},{replica1},{replica2},0\\n\")\n",
    "        return False"
   ]
  },
  {
   "cell_type": "markdown",
   "id": "72887cf6",
   "metadata": {},
   "source": [
    "### 温度調整"
   ]
  },
  {
   "cell_type": "code",
   "execution_count": 8,
   "id": "dc9d94d1-c301-4b31-85f2-d6b7d2e68bf6",
   "metadata": {},
   "outputs": [],
   "source": [
    "def adjust_temperatures(exchange_attempts, exchange_success, step):\n",
    "    # temperatures: 現在の温度リスト\n",
    "    # exchange_attempts[i], exchange_success[i]: レプリカ i と i+1 の交換試行数と成功数\n",
    "    # target: 目標成功率(0.25)\n",
    "    \n",
    "    # 現在の温度の逆数 (beta) リストを用意 (等間隔調整などの参考)\n",
    "    betas = [1.0/(MOLAR_GAS_CONSTANT_R.value_in_unit(kilojoule_per_mole/kelvin)*T) for T in params['temperatures']]\n",
    "    \n",
    "    # 各ペアの交換成功率を計算\n",
    "    acceptance = []\n",
    "    for i in range(len(params['temperatures'])-1):\n",
    "        if exchange_attempts[i] > 0:\n",
    "            acc = exchange_success[i]/exchange_attempts[i]\n",
    "        else:\n",
    "            acc = 0.0\n",
    "        acceptance.append(acc)\n",
    "    \n",
    "    # 隣接温度間の調整\n",
    "    # 非常に単純な方針：成功率が高いペア -> 温度差を小さく\n",
    "    # 成功率が低いペア -> 温度差を大きく\n",
    "    # 以下はbetasを微調整し、それに基づいてtemperaturesを更新する例\n",
    "    #\n",
    "    # delta_beta[i] = betas[i+1]-betas[i] がペアiの温度差を支配\n",
    "    # 目標交換率からのズレによって delta_beta をスケール\n",
    "\n",
    "    for i, acc in enumerate(acceptance):\n",
    "        # 誤差\n",
    "        diff = acc - params['acceptance_ratio']\n",
    "        # diff > 0 (成功率が高い)：温度差を小さくしたい => beta差を小さくする\n",
    "        # diff < 0 (成功率が低い)：温度差を大きくしたい => beta差を大きくする\n",
    "    \n",
    "        adjust_factor = 1.0 + params['learning_rate']*diff  # acc=0.25なら1.0に近い値\n",
    "        # betas[i+1]とbetas[i]の中点を固定して差分を調整する簡易法\n",
    "        # mid_beta = 0.5*(betas[i] + betas[i+1])\n",
    "        # half_diff = 0.5*(betas[i+1]-betas[i])*adjust_factor\n",
    "        beta_diff = (betas[i+1]-betas[i])*adjust_factor\n",
    "        \n",
    "        # betas[i] = mid_beta - half_diff\n",
    "        # betas[i+1] = mid_beta + half_diff\n",
    "        betas[i+1] = betas[i] + beta_diff\n",
    "    \n",
    "    # betasから温度を再計算\n",
    "    new_temperatures = []\n",
    "    for b in betas:\n",
    "        new_T = 1.0/(b*MOLAR_GAS_CONSTANT_R.value_in_unit(kilojoule_per_mole/kelvin))\n",
    "        new_temperatures.append(new_T)\n",
    "    \n",
    "    params['temperatures'] = new_temperatures # 新しい温度に更新\n",
    "    \n",
    "    print(\"Iteration:\", step//params['n_steps_exchange'])\n",
    "    print(\"Adjusted temperatures:\", [T for T in params['temperatures']])\n",
    "    print(\"Current acceptance rates:\", [exchange_success[j]/exchange_attempts[j] if exchange_attempts[j] > 0 else 0 for j in range(params['n_replicas']-1)])\n",
    "\n",
    "    with open(f'{output_dir}/adjusted_temperatures.csv', 'a') as f:\n",
    "        f.write(str(step)+','+','.join([str(T) for T in params['temperatures']])+'\\n')\n",
    "\n",
    "    with open(f'{output_dir}/acceptance_rates.csv', 'a') as f:\n",
    "        f.write(str(step)+','+','.join([str(exchange_success[j]/exchange_attempts[j]) if exchange_attempts[j] > 0 else '0' for j in range(params['n_replicas']-1)])+'\\n')\n"
   ]
  },
  {
   "cell_type": "markdown",
   "id": "61ae4f4a-c137-4a30-b06d-5d8ca6abfd58",
   "metadata": {},
   "source": [
    "## システムの作成"
   ]
  },
  {
   "cell_type": "code",
   "execution_count": 9,
   "id": "3c716206-e00b-4692-a459-9aa55790672c",
   "metadata": {},
   "outputs": [],
   "source": [
    "pdb = app.PDBFile(params['pdb_path'])\n",
    "forcefield = app.ForceField(*params['ff'])"
   ]
  },
  {
   "cell_type": "code",
   "execution_count": 10,
   "id": "d1b73afa-3c27-49d3-9d50-699ecf1ce270",
   "metadata": {},
   "outputs": [
    {
     "name": "stdout",
     "output_type": "stream",
     "text": [
      "System created...\n"
     ]
    }
   ],
   "source": [
    "system = forcefield.createSystem(\n",
    "    pdb.topology,\n",
    "    nonbondedMethod=app.PME,\n",
    "    nonbondedCutoff=params['nonbondedCutoff']*nanometer,\n",
    "    constraints=app.HBonds,\n",
    ")\n",
    "print('System created...')\n",
    "\n",
    "# レプリカごとに異なるシミュレーションをセットアップ\n",
    "integrators = []\n",
    "simulations = []\n",
    "for i, temp in enumerate(params['temperatures']):\n",
    "    integrator = LangevinIntegrator(\n",
    "        temp*kelvin,       # 温度\n",
    "        params['friction']/picosecond,    # 摩擦係数\n",
    "        params['dt']*picoseconds  # タイムステップ\n",
    "    )\n",
    "    integrators.append(integrator)\n",
    "    simulation = app.Simulation(pdb.topology, system, integrator)\n",
    "    # simulation.context.setPositions(pdb.positions)\n",
    "    # simulation.context.setVelocitiesToTemperature(temp*kelvin)\n",
    "    simulations.append(simulation)"
   ]
  },
  {
   "cell_type": "markdown",
   "id": "f820209a-da5e-4652-b2ef-1aeba2554b08",
   "metadata": {},
   "source": [
    "## 平衡化"
   ]
  },
  {
   "cell_type": "code",
   "execution_count": 11,
   "id": "e383b8a0-9758-4b3d-b5d7-aaaed991d5bb",
   "metadata": {},
   "outputs": [
    {
     "name": "stdout",
     "output_type": "stream",
     "text": [
      "System_equil created...\n",
      "Equilibrating for 25000 steps\n",
      "Equilibrating for 25000 steps\n",
      "Equilibrating for 25000 steps\n",
      "Equilibrating for 25000 steps\n",
      "Equilibrating for 25000 steps\n",
      "Equilibrating for 25000 steps\n",
      "Equilibrating for 25000 steps\n",
      "Equilibrating for 25000 steps\n",
      "CPU times: user 23.1 s, sys: 2.9 s, total: 26 s\n",
      "Wall time: 26.5 s\n"
     ]
    }
   ],
   "source": [
    "%%time\n",
    "system_equil = forcefield.createSystem(\n",
    "    pdb.topology,\n",
    "    nonbondedMethod=app.PME,\n",
    "    nonbondedCutoff=params['nonbondedCutoff']*nanometer,\n",
    "    constraints=app.HBonds,\n",
    ")\n",
    "# Positional restraints for all heavy-atoms for equilibration\n",
    "pos_res = CustomExternalForce(\"k*periodicdistance(x, y, z, x0, y0, z0)^2;\")\n",
    "pos_res.addPerParticleParameter(\"k\")\n",
    "pos_res.addPerParticleParameter(\"x0\")\n",
    "pos_res.addPerParticleParameter(\"y0\")\n",
    "pos_res.addPerParticleParameter(\"z0\")\n",
    "\n",
    "for ai, atom in enumerate(pdb.topology.atoms()):\n",
    "    if atom.name == 'CA':\n",
    "        x = pdb.positions[ai][0].value_in_unit(nanometers)\n",
    "        y = pdb.positions[ai][1].value_in_unit(nanometers)\n",
    "        z = pdb.positions[ai][2].value_in_unit(nanometers)\n",
    "        pos_res.addParticle(ai, [params['restraint_force']*kilocalories_per_mole/(angstrom**2), x, y, z])\n",
    "\n",
    "system_equil.addForce(pos_res)\n",
    "print('System_equil created...')\n",
    "\n",
    "integrators_equil = []\n",
    "simulations_equil = []\n",
    "for i, temp in enumerate(params['temperatures']):\n",
    "    integrator = LangevinIntegrator(\n",
    "        temp*kelvin,       # 温度\n",
    "        params['friction'],    # 摩擦係数\n",
    "        params['dt']*picoseconds  # タイムステップ\n",
    "    )\n",
    "    # integrators_equil.append(integrator)\n",
    "    simulation_equil = app.Simulation(pdb.topology, system_equil, integrator)\n",
    "    simulation_equil.context.setPositions(pdb.positions)\n",
    "    simulation_equil.minimizeEnergy()\n",
    "    simulation_equil.context.setVelocitiesToTemperature(temp*kelvin)\n",
    "    print(\"Equilibrating for\", params['n_steps_equil'], \"steps\")\n",
    "    simulation_equil.step(params['n_steps_equil'])\n",
    "    # simulations_equil.append(simulation)\n",
    "    simulations[i].context.setPositions(\n",
    "        simulation_equil.context.getState(getPositions=True ).getPositions()\n",
    "    )\n",
    "    simulations[i].context.setVelocities(\n",
    "        simulation_equil.context.getState(getVelocities=True).getVelocities()\n",
    "    )"
   ]
  },
  {
   "cell_type": "markdown",
   "id": "c51c6531-35cb-428b-b8bc-d10387ed4a2d",
   "metadata": {},
   "source": [
    "## レポーターの追加"
   ]
  },
  {
   "cell_type": "code",
   "execution_count": 12,
   "id": "b4562dfa-b7f6-4bec-853b-e645223ee15c",
   "metadata": {},
   "outputs": [
    {
     "name": "stdout",
     "output_type": "stream",
     "text": [
      "Adding Reporters...\n"
     ]
    }
   ],
   "source": [
    "# append reporters\n",
    "print('Adding Reporters...')\n",
    "dcd_reporters = [app.DCDReporter(file=f'{output_dir}/replica_{i}.dcd', reportInterval=params['n_steps_save']) \n",
    "                 for i, temp in enumerate(params['temperatures'])]\n",
    "state_data_reporters = [app.StateDataReporter(file=f'{output_dir}/replica_{i}.log', \n",
    "                                              reportInterval=params['n_steps_save'], \n",
    "                                              totalSteps=params['n_steps'], \n",
    "                                              step=True,\n",
    "                                              potentialEnergy=True,\n",
    "                                              temperature=True,\n",
    "                                              speed=True, \n",
    "                                              progress=True, \n",
    "                                              elapsedTime=True) \n",
    "                        for i, temp in enumerate(params['temperatures'])]\n",
    "\n",
    "# 各レプリカにreporterを追加\n",
    "for i, temp in enumerate(params['temperatures']):\n",
    "    simulations[i].reporters.append(dcd_reporters[i])\n",
    "    simulations[i].reporters.append(state_data_reporters[i])"
   ]
  },
  {
   "cell_type": "markdown",
   "id": "cd7ea491-094d-4735-9116-44a364c429c4",
   "metadata": {},
   "source": [
    "## Production\n",
    "- 隣接ペアの組み合わせを1回毎に変えるようにしたい\n",
    "- accept/rejectのログを記録したい"
   ]
  },
  {
   "cell_type": "code",
   "execution_count": 13,
   "id": "a90ac455-a641-4a64-ad62-08f41903d811",
   "metadata": {},
   "outputs": [
    {
     "name": "stdout",
     "output_type": "stream",
     "text": [
      "0 1\n",
      "2 3\n",
      "4 5\n",
      "6 7\n",
      "1 2\n",
      "3 4\n",
      "5 6\n"
     ]
    }
   ],
   "source": [
    "for i in range(0, 8, 2):\n",
    "    print(i, i+1)\n",
    "for i in range(1, 8-1, 2):\n",
    "    print(i, i+1)"
   ]
  },
  {
   "cell_type": "code",
   "execution_count": 14,
   "id": "df2a6056-263a-410b-8840-bc7556646743",
   "metadata": {},
   "outputs": [
    {
     "name": "stdout",
     "output_type": "stream",
     "text": [
      "Production...\n"
     ]
    },
    {
     "data": {
      "application/vnd.jupyter.widget-view+json": {
       "model_id": "28914e6dee7949c298259ddb1f64d575",
       "version_major": 2,
       "version_minor": 0
      },
      "text/plain": [
       "  0%|          | 0/1000 [00:00<?, ?it/s]"
      ]
     },
     "metadata": {},
     "output_type": "display_data"
    },
    {
     "name": "stdout",
     "output_type": "stream",
     "text": [
      "Iteration: 40\n",
      "Adjusted temperatures: [300.0, 327.9393459318773, 356.3495201024536, 385.07209792018534, 414.6002520768095, 442.3905214159597, 471.2739018044751, 500.5448264716059]\n",
      "Current acceptance rates: [0.047619047619047616, 0.0, 0.047619047619047616, 0.35, 0.09523809523809523, 0.2, 0.42857142857142855]\n",
      "Iteration: 80\n",
      "Adjusted temperatures: [300.0, 327.1775852871694, 355.55696240620046, 384.43385322390486, 413.7885058554698, 442.237678975963, 470.65586001036775, 499.90989163898706]\n",
      "Current acceptance rates: [0.0, 0.0, 0.05, 0.0, 0.2, 0.05, 0.05]\n",
      "Iteration: 120\n",
      "Adjusted temperatures: [300.0, 326.4382682973654, 354.7658237358239, 383.7919452391537, 413.4653479953912, 441.9301475096361, 470.19741349586366, 499.43648955231765]\n",
      "Current acceptance rates: [0.0, 0.0, 0.05, 0.15, 0.15, 0.1, 0.1]\n",
      "Iteration: 160\n",
      "Adjusted temperatures: [300.0, 326.00731485451405, 353.9851598595995, 383.1466994641984, 413.62900166043886, 441.3262228452784, 470.19741349586354, 498.9710642072105]\n",
      "Current acceptance rates: [0.1, 0.0, 0.05, 0.3, 0.05, 0.25, 0.1]\n",
      "Iteration: 200\n",
      "Adjusted temperatures: [300.0, 325.302294920606, 353.362020382046, 382.6628829880759, 413.1275306512412, 441.0251939190885, 470.1974134958635, 499.27659567037523]\n",
      "Current acceptance rates: [0.0, 0.05, 0.1, 0.1, 0.15, 0.25, 0.35]\n",
      "Iteration: 240\n",
      "Adjusted temperatures: [300.0, 324.7544926572723, 352.74056413148116, 382.17659316024344, 412.62627663710606, 440.72186801420185, 469.56931615195845, 499.59266272088917]\n",
      "Current acceptance rates: [0.05, 0.05, 0.1, 0.1, 0.15, 0.05, 0.35]\n",
      "Iteration: 280\n",
      "Adjusted temperatures: [300.0, 324.08594406371805, 351.9625796044314, 381.5215634293985, 412.2901444775745, 440.26645326868385, 469.10098606102486, 499.106032542671]\n",
      "Current acceptance rates: [0.0, 0.0, 0.05, 0.15, 0.1, 0.1, 0.1]\n",
      "Iteration: 320\n",
      "Adjusted temperatures: [300.0, 323.56638394208284, 351.19206395000134, 381.02797079897266, 411.61471004544467, 439.8072406669554, 468.3211625593775, 499.43433333806917]\n",
      "Current acceptance rates: [0.05, 0.0, 0.1, 0.05, 0.1, 0.0, 0.35]\n",
      "Iteration: 360\n",
      "Adjusted temperatures: [300.0, 323.18556818286595, 350.4328718859558, 380.69559845536776, 411.2806785187981, 439.04593143805056, 468.3211625593775, 499.2684874724857]\n",
      "Current acceptance rates: [0.1, 0.0, 0.15, 0.15, 0.0, 0.25, 0.2]\n",
      "Iteration: 400\n",
      "Adjusted temperatures: [300.0, 322.6867897451761, 349.8312701182615, 380.0250341900522, 410.77390914643934, 438.89489401879047, 468.3211625593775, 499.10358011943293]\n",
      "Current acceptance rates: [0.05, 0.05, 0.05, 0.1, 0.2, 0.25, 0.2]\n",
      "Iteration: 440\n",
      "Adjusted temperatures: [300.0, 322.1994782905107, 349.2322677007629, 379.35605691862776, 410.2642446303308, 438.13051098939513, 467.67663030978736, 498.93594254884994]\n",
      "Current acceptance rates: [0.05, 0.05, 0.05, 0.1, 0.0, 0.05, 0.2]\n",
      "Iteration: 480\n",
      "Adjusted temperatures: [300.0, 321.72333893862276, 348.4873331512683, 378.85267999722265, 409.5850514770807, 437.97788969532564, 467.3597194472056, 498.4308103622118]\n",
      "Current acceptance rates: [0.05, 0.0, 0.1, 0.05, 0.2, 0.15, 0.1]\n",
      "Iteration: 520\n",
      "Adjusted temperatures: [300.0, 321.4905440035244, 347.90303820751126, 378.34780962126825, 408.90984124546907, 437.97788969532564, 467.04640048412284, 498.4308103622118]\n",
      "Current acceptance rates: [0.15, 0.05, 0.1, 0.05, 0.25, 0.15, 0.25]\n",
      "Iteration: 560\n",
      "Adjusted temperatures: [300.0, 321.0306025175324, 347.1765125714826, 377.5004611842407, 408.400136102924, 437.97788969532564, 466.4272666715524, 498.25987179669727]\n",
      "Current acceptance rates: [0.05, 0.0, 0.0, 0.1, 0.25, 0.05, 0.2]\n",
      "Iteration: 600\n",
      "Adjusted temperatures: [300.0, 320.8057112708959, 346.46451255890486, 376.6569472570777, 407.54148564952743, 437.6510389495347, 466.1207850991523, 497.57371639145725]\n",
      "Current acceptance rates: [0.15, 0.0, 0.0, 0.0, 0.15, 0.15, 0.05]\n",
      "Iteration: 640\n",
      "Adjusted temperatures: [300.0, 320.4723285340064, 345.9034166725846, 376.15529984796825, 407.0320477863294, 437.15776097450777, 466.1207850991523, 496.7357471448137]\n",
      "Current acceptance rates: [0.1, 0.05, 0.1, 0.1, 0.1, 0.25, 0.0]\n",
      "Iteration: 680\n",
      "Adjusted temperatures: [300.0, 320.03553702357283, 345.20585792099376, 375.48202279935504, 406.69032463781156, 436.66706356347515, 466.1207850991523, 496.8989295468318]\n",
      "Current acceptance rates: [0.05, 0.0, 0.05, 0.15, 0.1, 0.25, 0.3]\n",
      "Iteration: 720\n",
      "Adjusted temperatures: [300.0, 319.7152536834641, 344.9308477165334, 374.9838274375407, 406.17516674918903, 436.1759024205157, 465.64126847257916, 496.5655939924239]\n",
      "Current acceptance rates: [0.1, 0.15, 0.1, 0.1, 0.1, 0.1, 0.15]\n",
      "Iteration: 760\n",
      "Adjusted temperatures: [300.0, 319.5052827600367, 344.3827424887634, 374.3186050545372, 406.00240161835285, 436.1759024205157, 465.16990812655956, 496.2306733093776]\n",
      "Current acceptance rates: [0.15, 0.05, 0.05, 0.2, 0.25, 0.1, 0.15]\n",
      "Iteration: 800\n",
      "Adjusted temperatures: [300.0, 319.19398431406927, 343.84006908158887, 373.49093414765343, 405.2967998208995, 435.67799525020223, 464.8552383397285, 495.7287846042136]\n",
      "Current acceptance rates: [0.1, 0.05, 0.0, 0.05, 0.1, 0.15, 0.1]\n",
      "Iteration: 840\n",
      "Adjusted temperatures: [300.0, 318.9898947461991, 343.1717189877242, 372.66780430356346, 404.5883237759927, 435.84545302334755, 465.0099931958249, 494.91143222069115]\n",
      "Current acceptance rates: [0.15, 0.0, 0.0, 0.05, 0.3, 0.3, 0.0]\n",
      "Iteration: 880\n",
      "Adjusted temperatures: [300.0, 318.9898947461992, 342.6522068916049, 371.8534651804953, 403.87724450811515, 435.15657162645334, 464.8505404832079, 494.75145961907697]\n",
      "Current acceptance rates: [0.25, 0.05, 0.0, 0.05, 0.05, 0.2, 0.2]\n",
      "Iteration: 920\n",
      "Adjusted temperatures: [300.0, 318.58656638864767, 342.1353172034729, 371.208595655408, 402.99060296389627, 434.8095146697852, 464.369290784865, 495.0753712948668]\n",
      "Current acceptance rates: [0.05, 0.05, 0.05, 0.0, 0.15, 0.1, 0.35]\n",
      "Iteration: 960\n",
      "Adjusted temperatures: [300.0, 318.2907697624934, 341.75128605048053, 370.56976918325563, 402.1110940275931, 434.4562284083984, 464.0497844861529, 495.2409261648359]\n",
      "Current acceptance rates: [0.1, 0.1, 0.05, 0.0, 0.15, 0.15, 0.3]\n"
     ]
    }
   ],
   "source": [
    "# %%time\n",
    "# シミュレーションループ\n",
    "print('Production...')\n",
    "is_even_step = True # 交換ペアを交互に変えるための変数\n",
    "exchange_attempts = np.zeros(params['n_replicas']-1)\n",
    "exchange_success = np.zeros(params['n_replicas']-1)\n",
    "\n",
    "for step in tqdm(range(0, params['n_steps'], params['n_steps_exchange']), leave=False):\n",
    "    # print(f'*** Step {step} ***\"')\n",
    "    for sim in simulations:\n",
    "        sim.step(params['n_steps_exchange'])  # 各レプリカで実行\n",
    "\n",
    "    # レプリカ間での交換試行\n",
    "    if is_even_step:\n",
    "        for i in range(0, params['n_replicas'], 2):\n",
    "            success = attempt_exchange(i, i + 1, step)\n",
    "            exchange_attempts[i] += 1\n",
    "            if success:\n",
    "                exchange_success[i] += 1\n",
    "    else:\n",
    "        for i in range(1, params['n_replicas']-1, 2):\n",
    "            success = attempt_exchange(i, i + 1, step)\n",
    "            exchange_attempts[i] += 1\n",
    "            if success:\n",
    "                exchange_success[i] += 1\n",
    "\n",
    "    # n_steps_adjust回温度交換したら、交換確率に基づいて温度を更新\n",
    "    if step % params['n_steps_adjust'] == 0 and step > 0:\n",
    "        adjust_temperatures(exchange_attempts, exchange_success, step)\n",
    "        # integratorの温度をセット\n",
    "        for i, integrator in enumerate(integrators):\n",
    "            integrator.setTemperature(params['temperatures'][i])\n",
    "\n",
    "        # 交換確率をリセット\n",
    "        for i in range(params['n_replicas'] - 1):\n",
    "            exchange_attempts[i] = 0\n",
    "            exchange_success[i] = 0\n",
    "            \n",
    "    is_even_step = not is_even_step\n",
    "        \n",
    "    with open(f'{output_dir}/replicas.csv', 'a') as f:\n",
    "            f.write(str(step)+','+','.join(replicas)+'\\n')"
   ]
  },
  {
   "cell_type": "code",
   "execution_count": 15,
   "id": "a7f95dec-8c55-42f5-8f23-77eb27033a70",
   "metadata": {},
   "outputs": [],
   "source": [
    "# # 参考コード\n",
    "# import math\n",
    "# import random\n",
    "# from simtk.openmm import app, Platform\n",
    "# import simtk.openmm as mm\n",
    "# import simtk.unit as unit\n",
    "\n",
    "# # -------------------------\n",
    "# # 準備段階: SystemとIntegratorなどの基本設定\n",
    "# # -------------------------\n",
    "# pdb = app.PDBFile('input.pdb')\n",
    "# forcefield = app.ForceField('amber14-all.xml', 'amber14-tip3p.xml')\n",
    "\n",
    "# system = forcefield.createSystem(\n",
    "#     pdb.topology,\n",
    "#     nonbondedMethod=app.PME,\n",
    "#     nonbondedCutoff=1.0*unit.nanometer,\n",
    "#     constraints=app.HBonds\n",
    "# )\n",
    "\n",
    "# # 初期的な温度リスト（粗い間隔から開始）\n",
    "# T_min = 300.0*unit.kelvin\n",
    "# T_max = 400.0*unit.kelvin\n",
    "# n_replicas = 8\n",
    "# temperatures = [T_min + i*(T_max - T_min)/(n_replicas-1) for i in range(n_replicas)]\n",
    "\n",
    "# def create_simulations(temps):\n",
    "#     simulations = []\n",
    "#     for T in temps:\n",
    "#         integrator = mm.LangevinIntegrator(T, 1.0/unit.picosecond, 0.002*unit.picoseconds)\n",
    "#         sim = app.Simulation(pdb.topology, system, integrator)\n",
    "#         sim.context.setPositions(pdb.positions)\n",
    "#         sim.minimizeEnergy()\n",
    "#         sim.context.setVelocitiesToTemperature(T)\n",
    "#         simulations.append(sim)\n",
    "#     return simulations\n",
    "\n",
    "# simulations = create_simulations(temperatures)\n",
    "\n",
    "# # -------------------------\n",
    "# # 交換試行関数：Metropolis判定\n",
    "# # -------------------------\n",
    "# def attempt_exchange(sim1, sim2, T1, T2):\n",
    "#     state1 = sim1.context.getState(getEnergy=True, getPositions=True, getVelocities=True)\n",
    "#     E1 = state1.getPotentialEnergy().value_in_unit(unit.kilojoule_per_mole)\n",
    "#     pos1 = state1.getPositions()\n",
    "#     vel1 = state1.getVelocities()\n",
    "    \n",
    "#     state2 = sim2.context.getState(getEnergy=True, getPositions=True, getVelocities=True)\n",
    "#     E2 = state2.getPotentialEnergy().value_in_unit(unit.kilojoule_per_mole)\n",
    "#     pos2 = state2.getPositions()\n",
    "#     vel2 = state2.getVelocities()\n",
    "    \n",
    "#     kB = unit.MOLAR_GAS_CONSTANT_R.value_in_unit(unit.kilojoule_per_mole/unit.kelvin)\n",
    "#     beta1 = 1.0/(kB*T1.value_in_unit(unit.kelvin))\n",
    "#     beta2 = 1.0/(kB*T2.value_in_unit(unit.kelvin))\n",
    "    \n",
    "#     delta = (beta1 - beta2)*(E2 - E1)\n",
    "#     if delta < 0.0 or random.random() < math.exp(-delta):\n",
    "#         # 交換成立\n",
    "#         sim1.context.setPositions(pos2)\n",
    "#         sim1.context.setVelocities(vel2)\n",
    "#         sim2.context.setPositions(pos1)\n",
    "#         sim2.context.setVelocities(vel1)\n",
    "#         return True\n",
    "#     return False\n",
    "\n",
    "# # -------------------------\n",
    "# # 温度調整用関数\n",
    "# # -------------------------\n",
    "# def adjust_temperatures(temperatures, exchange_attempts, exchange_success, target=0.25):\n",
    "#     # temperatures: 現在の温度リスト\n",
    "#     # exchange_attempts[i], exchange_success[i]: レプリカ i と i+1 の交換試行数と成功数\n",
    "#     # target: 目標成功率(0.25)\n",
    "    \n",
    "#     # 現在の温度の逆数 (beta) リストを用意 (等間隔調整などの参考)\n",
    "#     betas = [1.0/(unit.MOLAR_GAS_CONSTANT_R.value_in_unit(unit.kilojoule_per_mole/unit.kelvin)*T.value_in_unit(unit.kelvin)) for T in temperatures]\n",
    "    \n",
    "#     # 各ペアの交換成功率を計算\n",
    "#     acceptance = []\n",
    "#     for i in range(len(temperatures)-1):\n",
    "#         if exchange_attempts[i] > 0:\n",
    "#             acc = exchange_success[i]/exchange_attempts[i]\n",
    "#         else:\n",
    "#             acc = 0.0\n",
    "#         acceptance.append(acc)\n",
    "    \n",
    "#     # 隣接温度間の調整\n",
    "#     # 非常に単純な方針：成功率が高いペア -> 温度差を小さく\n",
    "#     # 成功率が低いペア -> 温度差を大きく\n",
    "#     # 以下はbetasを微調整し、それに基づいてtemperaturesを更新する例\n",
    "#     #\n",
    "#     # delta_beta[i] = betas[i+1]-betas[i] がペアiの温度差を支配\n",
    "#     # 目標交換率からのズレによって delta_beta をスケール\n",
    "\n",
    "#     for i, acc in enumerate(acceptance):\n",
    "#         # 誤差\n",
    "#         diff = acc - target\n",
    "#         # diff > 0 (成功率が高い)：温度差を小さくしたい => beta差を小さくする\n",
    "#         # diff < 0 (成功率が低い)：温度差を大きくしたい => beta差を大きくする\n",
    "#         # 下では調整強度を0.1程度とする（適宜調整が必要）\n",
    "#         adjust_factor = 1.0 - 0.1*diff  # acc=0.25なら1.0に近い値\n",
    "#         # betas[i+1]とbetas[i]の中点を固定して差分を調整する簡易法\n",
    "#         mid_beta = 0.5*(betas[i] + betas[i+1])\n",
    "#         half_diff = 0.5*(betas[i+1]-betas[i])*adjust_factor\n",
    "#         betas[i] = mid_beta - half_diff\n",
    "#         betas[i+1] = mid_beta + half_diff\n",
    "    \n",
    "#     # betasから温度を再計算\n",
    "#     new_temperatures = []\n",
    "#     for b in betas:\n",
    "#         new_T = 1.0/(b*unit.MOLAR_GAS_CONSTANT_R.value_in_unit(unit.kilojoule_per_mole/unit.kelvin))\n",
    "#         new_temperatures.append(new_T*unit.kelvin)\n",
    "    \n",
    "#     return new_temperatures\n",
    "\n",
    "# # -------------------------\n",
    "# # メインループ: ステップ実行と交換試行 + 温度調整\n",
    "# # -------------------------\n",
    "# steps_per_exchange = 1000\n",
    "# n_iterations = 100\n",
    "# n_steps_adjust = 10  # 10回交換後に温度調整\n",
    "# target_acceptance = 0.25\n",
    "\n",
    "# exchange_attempts = [0]*(n_replicas-1)\n",
    "# exchange_success = [0]*(n_replicas-1)\n",
    "\n",
    "# for iteration in range(n_iterations):\n",
    "#     # 各レプリカを同数のステップ進める\n",
    "#     for sim in simulations:\n",
    "#         sim.step(steps_per_exchange)\n",
    "    \n",
    "#     # 隣接レプリカ間で交換試行\n",
    "#     for i in range(n_replicas-1):\n",
    "#         exchange_attempts[i] += 1\n",
    "#         success = attempt_exchange(simulations[i], simulations[i+1], \n",
    "#                                    temperatures[i], temperatures[i+1])\n",
    "#         if success:\n",
    "#             exchange_success[i] += 1\n",
    "    \n",
    "#     # 一定間隔で温度分布を調整\n",
    "#     if (iteration+1) % n_steps_adjust == 0 and iteration > 0:\n",
    "#         # 現在の交換成功率を踏まえ温度を更新\n",
    "#         temperatures = adjust_temperatures(temperatures, exchange_attempts, exchange_success, target=target_acceptance)\n",
    "        \n",
    "#         # 新しい温度に合わせてSimulationを作り直し(必要なら）\n",
    "#         # 通常はpositions/velocitiesを保持しつつContextのみ再初期化する方が望ましいが、ここでは簡易化\n",
    "#         # 既存シミュレーションのContextに対してIntegratorだけ変える、あるいは温度スケールし直すなど\n",
    "#         # 簡易法として、positions/velocitiesを保持してintegratorだけ変えなおす例：\n",
    "#         positions = [sim.context.getState(getPositions=True).getPositions() for sim in simulations]\n",
    "#         velocities = [sim.context.getState(getVelocities=True).getVelocities() for sim in simulations]\n",
    "        \n",
    "#         simulations = []\n",
    "#         for i, T in enumerate(temperatures):\n",
    "#             integrator = mm.LangevinIntegrator(T, 1.0/unit.picosecond, 0.002*unit.picoseconds)\n",
    "#             sim = app.Simulation(pdb.topology, system, integrator)\n",
    "#             sim.context.setPositions(positions[i])\n",
    "#             sim.context.setVelocities(velocities[i])\n",
    "#             simulations.append(sim)\n",
    "        \n",
    "#         # 統計をリセットまたは継続するか判断\n",
    "#         # ここでは継続\n",
    "#         # (もし統計をリセットするなら exchange_attempts = [0]*(n_replicas-1), exchange_success = [0]*(n_replicas-1)など)\n",
    "        \n",
    "#         print(\"Iteration:\", iteration+1, \"Adjusted temperatures:\", [T.value_in_unit(unit.kelvin) for T in temperatures])\n",
    "#         print(\"Current acceptance rates:\", [exchange_success[j]/exchange_attempts[j] if exchange_attempts[j] > 0 else 0 for j in range(n_replicas-1)])\n",
    "\n",
    "\n",
    "# # 最終的には temperatures の分布が目標交換率付近に収束することが期待される\n"
   ]
  },
  {
   "cell_type": "markdown",
   "id": "c12a4448-48ce-41c2-af1f-36520040369d",
   "metadata": {},
   "source": [
    "## 最終構造を保存"
   ]
  },
  {
   "cell_type": "code",
   "execution_count": 16,
   "id": "e2ec478f-bd26-4bd9-ac3b-b3c5cecf817a",
   "metadata": {},
   "outputs": [],
   "source": [
    "# シミュレーション結果(PDB)を保存\n",
    "for i, sim in enumerate(simulations):\n",
    "    state = sim.context.getState(getPositions=True, getEnergy=True)\n",
    "    with open(f\"{output_dir}/output_replica_{i}.pdb\", \"w\") as f:\n",
    "        app.PDBFile.writeFile(pdb.topology, state.getPositions(), f)"
   ]
  },
  {
   "cell_type": "code",
   "execution_count": 17,
   "id": "55adcbd4-9d4a-43ea-973b-9c4ea63e688f",
   "metadata": {},
   "outputs": [],
   "source": [
    "# パラメータをJSONに保存\n",
    "import json\n",
    "filepath = f\"{output_dir}/params.json\"\n",
    "with open(filepath, mode=\"wt\", encoding=\"utf-8\") as f:\n",
    "\tjson.dump(params, f, ensure_ascii=False, indent=2)"
   ]
  },
  {
   "cell_type": "code",
   "execution_count": 18,
   "id": "21d1f604-03aa-4cff-961a-46276112dbcd",
   "metadata": {},
   "outputs": [
    {
     "name": "stdout",
     "output_type": "stream",
     "text": [
      "[300.0, 318.2907697624934, 341.75128605048053, 370.56976918325563, 402.1110940275931, 434.4562284083984, 464.0497844861529, 495.2409261648359]\n"
     ]
    }
   ],
   "source": [
    "print(params['temperatures'])"
   ]
  },
  {
   "cell_type": "code",
   "execution_count": null,
   "id": "743c88af-4f40-4d44-af8f-c55fbe3f8106",
   "metadata": {},
   "outputs": [],
   "source": []
  }
 ],
 "metadata": {
  "kernelspec": {
   "display_name": "base",
   "language": "python",
   "name": "python3"
  },
  "language_info": {
   "codemirror_mode": {
    "name": "ipython",
    "version": 3
   },
   "file_extension": ".py",
   "mimetype": "text/x-python",
   "name": "python",
   "nbconvert_exporter": "python",
   "pygments_lexer": "ipython3",
   "version": "3.11.5"
  }
 },
 "nbformat": 4,
 "nbformat_minor": 5
}
