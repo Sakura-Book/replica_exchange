{
 "cells": [
  {
   "cell_type": "markdown",
   "id": "c3c6e861-3d0e-4ae2-a806-069aff38da7c",
   "metadata": {},
   "source": [
    "# REMDのOpenMM実装\n",
    "- ChatGPTを使用\n",
    "- 一定時間ごとに、レプリカ間の座標を交換する(温度はそのまま)\n",
    "- 速度は交換しない\n",
    "- 交換確率が0.25になるよう温度を調整するための予備MD"
   ]
  },
  {
   "cell_type": "code",
   "execution_count": 1,
   "id": "7e595089-2c75-4ed0-bfd5-bc4e255bb0f6",
   "metadata": {},
   "outputs": [],
   "source": [
    "from openmm.app import *\n",
    "from openmm import *\n",
    "from openmm.unit import *\n",
    "import numpy as np\n",
    "from tqdm.notebook import tqdm\n",
    "import random\n",
    "import os\n",
    "from datetime import datetime"
   ]
  },
  {
   "cell_type": "code",
   "execution_count": 2,
   "id": "12c646f4-3a18-4e5a-a36c-a55bcd9e30d3",
   "metadata": {},
   "outputs": [
    {
     "name": "stdout",
     "output_type": "stream",
     "text": [
      "ディレクトリ './output/output_2024-12-06_18-41-07' を作成しました！\n"
     ]
    }
   ],
   "source": [
    "# 現在の日付と時刻を取得\n",
    "current_time = datetime.now().strftime('%Y-%m-%d_%H-%M-%S')\n",
    "# ディレクトリ名を作成\n",
    "output_dir = f\"./output/output_{current_time}\"\n",
    "# ディレクトリを作成\n",
    "os.makedirs(output_dir, exist_ok=True)\n",
    "print(f\"ディレクトリ '{output_dir}' を作成しました！\")"
   ]
  },
  {
   "cell_type": "code",
   "execution_count": 3,
   "id": "dc753e79-d3f2-4459-8601-2ffce6fe62e3",
   "metadata": {},
   "outputs": [
    {
     "name": "stdout",
     "output_type": "stream",
     "text": [
      "Replicas: ['0', '1', '2', '3', '4', '5', '6', '7']\n",
      "Temperatures (K): [300.0, 328.57142857142856, 357.14285714285717, 385.7142857142857, 414.2857142857143, 442.8571428571429, 471.42857142857144, 500.0]\n"
     ]
    }
   ],
   "source": [
    "# パラメータ設定\n",
    "params = {}\n",
    "params['n_replicas'] = 8  # レプリカ数\n",
    "replicas = [str(i) for i in np.arange(params['n_replicas'])]\n",
    "print('Replicas:', replicas)\n",
    "params['temperature_min'] = 300 # K\n",
    "params['temperature_max'] = 500 # K\n",
    "params['temperatures'] = np.linspace(params['temperature_min'], params['temperature_max'], params['n_replicas'])  # 温度 (Kelvin)\n",
    "params['temperatures'] = params['temperatures'].tolist()\n",
    "print('Temperatures (K):', params['temperatures'])\n",
    "params['acceptance_ratio'] = 0.25\n",
    "\n",
    "params['dt'] = 0.002 # タイムステップ(ps)\n",
    "params['n_steps'] = 20000 # シミュレーション総ステップ数\n",
    "params['n_steps_exchange'] = 1000 # 交換を試みる間隔 (steps)\n",
    "params['n_steps_save'] = 100\n",
    "params['n_steps_equil'] = 20000\n",
    "\n",
    "params['nonbondedCutoff'] = 1.0 # nm\n",
    "params['friction'] = 1.0 # /ps\n",
    "params['restraint_force'] = 10 # kcal/mol/A^2\n",
    "\n",
    "params['pdb_path'] = './structures/ala2_solvated.pdb'\n",
    "params['ff'] = ['amber99sbildn.xml', 'tip3p.xml']"
   ]
  },
  {
   "cell_type": "code",
   "execution_count": 4,
   "id": "adfdafb4-2237-4c15-bb47-74e21811a66f",
   "metadata": {},
   "outputs": [],
   "source": [
    "# 初期パラメータ保存\n",
    "import json\n",
    "filepath = f\"{output_dir}/params.json\"\n",
    "with open(filepath, mode=\"wt\", encoding=\"utf-8\") as f:\n",
    "\tjson.dump(params, f, ensure_ascii=False, indent=2)"
   ]
  },
  {
   "cell_type": "markdown",
   "id": "e04cb833-5b80-4c53-9011-7299525f55d3",
   "metadata": {},
   "source": [
    "## レプリカ交換関数の定義"
   ]
  },
  {
   "cell_type": "code",
   "execution_count": 5,
   "id": "f327b228-59f1-4f7a-b683-a3faee4ea306",
   "metadata": {},
   "outputs": [
    {
     "name": "stdout",
     "output_type": "stream",
     "text": [
      "1.3806490000000003e-26\n"
     ]
    }
   ],
   "source": [
    "kB = BOLTZMANN_CONSTANT_kB.value_in_unit(kilojoule/kelvin)\n",
    "print(kB)"
   ]
  },
  {
   "cell_type": "code",
   "execution_count": 6,
   "id": "96607128-755c-4021-8278-a4e2465b026a",
   "metadata": {},
   "outputs": [],
   "source": [
    "# エネルギー交換関数\n",
    "def attempt_exchange(replica1, replica2):\n",
    "    E1 = simulations[replica1].context.getState(getEnergy=True).getPotentialEnergy()\n",
    "    E2 = simulations[replica2].context.getState(getEnergy=True).getPotentialEnergy()\n",
    "    beta1 = 1 / (BOLTZMANN_CONSTANT_kB * params['temperatures'][replica1] * kelvin)\n",
    "    beta2 = 1 / (BOLTZMANN_CONSTANT_kB * params['temperatures'][replica2] * kelvin)\n",
    "    delta = (beta2 - beta1) * (E1 - E2) / AVOGADRO_CONSTANT_NA\n",
    "    print('Before:\\t', np.exp(-delta))\n",
    "    \n",
    "    new_beta2 = -np.log(params['acceptance_ratio']) / ((E1 - E2) / AVOGADRO_CONSTANT_NA) + beta1\n",
    "    new_temp2 = (1 / (BOLTZMANN_CONSTANT_kB * new_beta2)).value_in_unit(kelvin)\n",
    "    print(f'Changed:\\t', params['temperatures'][replica2], '->' ,new_temp2)\n",
    "    params['temperatures'][replica2] = new_temp2\n",
    "    beta2 = 1 / (BOLTZMANN_CONSTANT_kB * params['temperatures'][replica2] * kelvin)\n",
    "    delta = (beta2 - beta1) * (E1 - E2) / AVOGADRO_CONSTANT_NA\n",
    "    print('After:\\t', np.exp(-delta))\n",
    "    print('==========')\n",
    "    \n",
    "    if delta < 0 or random.uniform(0, 1) < np.exp(-delta):\n",
    "        # 交換を行う\n",
    "        # print(f\"Exchange accepted between replica {replica1} and {replica2}\")\n",
    "        # temp1 = temperatures[replica1]\n",
    "        # temperatures[replica1] = temperatures[replica2]\n",
    "        # temperatures[replica2] = temp1\n",
    "        rep1 = replicas[replica1]\n",
    "        replicas[replica1] = replicas[replica2]\n",
    "        replicas[replica2] = rep1\n",
    "        # Write log\n",
    "        with open(f'{output_dir}/acceptance.csv', 'a') as f:\n",
    "            # f.write(','.join(replicas)+'\\n')\n",
    "            f.write(f\"{replica1},{replica2},accept\\n\")\n",
    "            \n",
    "        positions1 = simulations[replica1].context.getState(getPositions=True).getPositions()\n",
    "        positions2 = simulations[replica2].context.getState(getPositions=True).getPositions()\n",
    "        simulations[replica1].context.setPositions(positions2)\n",
    "        simulations[replica2].context.setPositions(positions1)\n",
    "    else:\n",
    "        # print(f\"Exchange rejected between replica {replica1} and {replica2}\")\n",
    "        # Write log\n",
    "        with open(f'{output_dir}/acceptance.csv', 'a') as f:\n",
    "            # f.write(','.join(replicas)+'\\n')\n",
    "            f.write(f\"{replica1},{replica2},reject\\n\")\n",
    "        pass"
   ]
  },
  {
   "cell_type": "markdown",
   "id": "61ae4f4a-c137-4a30-b06d-5d8ca6abfd58",
   "metadata": {},
   "source": [
    "## システムの作成"
   ]
  },
  {
   "cell_type": "code",
   "execution_count": 7,
   "id": "3c716206-e00b-4692-a459-9aa55790672c",
   "metadata": {},
   "outputs": [],
   "source": [
    "pdb = app.PDBFile(params['pdb_path'])\n",
    "forcefield = app.ForceField(*params['ff'])"
   ]
  },
  {
   "cell_type": "code",
   "execution_count": 8,
   "id": "d1b73afa-3c27-49d3-9d50-699ecf1ce270",
   "metadata": {},
   "outputs": [
    {
     "name": "stdout",
     "output_type": "stream",
     "text": [
      "System created...\n"
     ]
    }
   ],
   "source": [
    "system = forcefield.createSystem(\n",
    "    pdb.topology,\n",
    "    nonbondedMethod=app.PME,\n",
    "    nonbondedCutoff=params['nonbondedCutoff']*nanometer,\n",
    "    constraints=app.HBonds,\n",
    ")\n",
    "print('System created...')\n",
    "\n",
    "# レプリカごとに異なるシミュレーションをセットアップ\n",
    "integrators = []\n",
    "simulations = []\n",
    "for i, temp in enumerate(params['temperatures']):\n",
    "    integrator = LangevinIntegrator(\n",
    "        temp*kelvin,       # 温度\n",
    "        params['friction']/picosecond,    # 摩擦係数\n",
    "        params['dt']*picoseconds  # タイムステップ\n",
    "    )\n",
    "    integrators.append(integrator)\n",
    "    simulation = app.Simulation(pdb.topology, system, integrator)\n",
    "    # simulation.context.setPositions(pdb.positions)\n",
    "    # simulation.context.setVelocitiesToTemperature(temp*kelvin)\n",
    "    simulations.append(simulation)"
   ]
  },
  {
   "cell_type": "markdown",
   "id": "f820209a-da5e-4652-b2ef-1aeba2554b08",
   "metadata": {},
   "source": [
    "## 平衡化"
   ]
  },
  {
   "cell_type": "code",
   "execution_count": 9,
   "id": "e383b8a0-9758-4b3d-b5d7-aaaed991d5bb",
   "metadata": {},
   "outputs": [
    {
     "name": "stdout",
     "output_type": "stream",
     "text": [
      "System_equil created...\n",
      "Equilibrating for 20000 steps\n",
      "Equilibrating for 20000 steps\n",
      "Equilibrating for 20000 steps\n",
      "Equilibrating for 20000 steps\n",
      "Equilibrating for 20000 steps\n",
      "Equilibrating for 20000 steps\n",
      "Equilibrating for 20000 steps\n",
      "Equilibrating for 20000 steps\n",
      "CPU times: user 19.4 s, sys: 3.51 s, total: 22.9 s\n",
      "Wall time: 23.5 s\n"
     ]
    }
   ],
   "source": [
    "%%time\n",
    "system_equil = forcefield.createSystem(\n",
    "    pdb.topology,\n",
    "    nonbondedMethod=app.PME,\n",
    "    nonbondedCutoff=params['nonbondedCutoff']*nanometer,\n",
    "    constraints=app.HBonds,\n",
    ")\n",
    "# Positional restraints for all heavy-atoms for equilibration\n",
    "pos_res = CustomExternalForce(\"k*periodicdistance(x, y, z, x0, y0, z0)^2;\")\n",
    "pos_res.addPerParticleParameter(\"k\")\n",
    "pos_res.addPerParticleParameter(\"x0\")\n",
    "pos_res.addPerParticleParameter(\"y0\")\n",
    "pos_res.addPerParticleParameter(\"z0\")\n",
    "\n",
    "for ai, atom in enumerate(pdb.topology.atoms()):\n",
    "    if atom.name == 'CA':\n",
    "        x = pdb.positions[ai][0].value_in_unit(nanometers)\n",
    "        y = pdb.positions[ai][1].value_in_unit(nanometers)\n",
    "        z = pdb.positions[ai][2].value_in_unit(nanometers)\n",
    "        pos_res.addParticle(ai, [params['restraint_force']*kilocalories_per_mole/(angstrom**2), x, y, z])\n",
    "\n",
    "system_equil.addForce(pos_res)\n",
    "print('System_equil created...')\n",
    "\n",
    "integrators_equil = []\n",
    "simulations_equil = []\n",
    "for i, temp in enumerate(params['temperatures']):\n",
    "    integrator = LangevinIntegrator(\n",
    "        temp*kelvin,       # 温度\n",
    "        params['friction'],    # 摩擦係数\n",
    "        params['dt']*picoseconds  # タイムステップ\n",
    "    )\n",
    "    # integrators_equil.append(integrator)\n",
    "    simulation_equil = app.Simulation(pdb.topology, system_equil, integrator)\n",
    "    simulation_equil.context.setPositions(pdb.positions)\n",
    "    simulation_equil.minimizeEnergy()\n",
    "    simulation_equil.context.setVelocitiesToTemperature(temp*kelvin)\n",
    "    print(\"Equilibrating for\", params['n_steps_equil'], \"steps\")\n",
    "    simulation_equil.step(params['n_steps_equil'])\n",
    "    # simulations_equil.append(simulation)\n",
    "    simulations[i].context.setPositions(\n",
    "        simulation_equil.context.getState(getPositions=True ).getPositions()\n",
    "    )\n",
    "    simulations[i].context.setVelocities(\n",
    "        simulation_equil.context.getState(getVelocities=True).getVelocities()\n",
    "    )"
   ]
  },
  {
   "cell_type": "markdown",
   "id": "c51c6531-35cb-428b-b8bc-d10387ed4a2d",
   "metadata": {},
   "source": [
    "## レポーターの追加"
   ]
  },
  {
   "cell_type": "code",
   "execution_count": 10,
   "id": "b4562dfa-b7f6-4bec-853b-e645223ee15c",
   "metadata": {},
   "outputs": [
    {
     "name": "stdout",
     "output_type": "stream",
     "text": [
      "Adding Reporters...\n"
     ]
    }
   ],
   "source": [
    "# append reporters\n",
    "print('Adding Reporters...')\n",
    "dcd_reporters = [app.DCDReporter(file=f'{output_dir}/replica_{i}.dcd', reportInterval=params['n_steps_save']) \n",
    "                 for i, temp in enumerate(params['temperatures'])]\n",
    "state_data_reporters = [app.StateDataReporter(file=f'{output_dir}/replica_{i}.log', \n",
    "                                              reportInterval=params['n_steps_save'], \n",
    "                                              totalSteps=params['n_steps'], \n",
    "                                              step=True,\n",
    "                                              potentialEnergy=True,\n",
    "                                              temperature=True,\n",
    "                                              speed=True, \n",
    "                                              progress=True, \n",
    "                                              elapsedTime=True) \n",
    "                        for i, temp in enumerate(params['temperatures'])]\n",
    "\n",
    "# 各レプリカにreporterを追加\n",
    "for i, temp in enumerate(params['temperatures']):\n",
    "    simulations[i].reporters.append(dcd_reporters[i])\n",
    "    simulations[i].reporters.append(state_data_reporters[i])"
   ]
  },
  {
   "cell_type": "markdown",
   "id": "cd7ea491-094d-4735-9116-44a364c429c4",
   "metadata": {},
   "source": [
    "## Production\n",
    "- 隣接ペアの組み合わせを1回毎に変えるようにしたい\n",
    "- accept/rejectのログを記録したい"
   ]
  },
  {
   "cell_type": "code",
   "execution_count": 11,
   "id": "a90ac455-a641-4a64-ad62-08f41903d811",
   "metadata": {},
   "outputs": [
    {
     "name": "stdout",
     "output_type": "stream",
     "text": [
      "1 2\n",
      "3 4\n",
      "5 6\n"
     ]
    }
   ],
   "source": [
    "for i in range(1, 8-1, 2):\n",
    "    print(i, i+1)"
   ]
  },
  {
   "cell_type": "code",
   "execution_count": 12,
   "id": "df2a6056-263a-410b-8840-bc7556646743",
   "metadata": {},
   "outputs": [
    {
     "name": "stdout",
     "output_type": "stream",
     "text": [
      "Production...\n"
     ]
    },
    {
     "data": {
      "application/vnd.jupyter.widget-view+json": {
       "model_id": "",
       "version_major": 2,
       "version_minor": 0
      },
      "text/plain": [
       "  0%|          | 0/20 [00:00<?, ?it/s]"
      ]
     },
     "metadata": {},
     "output_type": "display_data"
    },
    {
     "name": "stdout",
     "output_type": "stream",
     "text": [
      "Before:\t 3.360529773082805e-08\n",
      "Changed:\t 328.57142857142856 -> 302.11634639083576\n",
      "After:\t 0.2499999999999992\n",
      "==========\n",
      "Before:\t 0.1233548299339372\n",
      "Changed:\t 385.7142857142857 -> 375.57221425575847\n",
      "After:\t 0.25000000000000033\n",
      "==========\n",
      "Before:\t 0.0028756206830128704\n",
      "Changed:\t 442.8571428571429 -> 420.71624497262945\n",
      "After:\t 0.2499999999999992\n",
      "==========\n",
      "Before:\t 0.001956470703519057\n",
      "Changed:\t 500.0 -> 477.4936468191158\n",
      "After:\t 0.24999999999999598\n",
      "==========\n",
      "Before:\t 5.038367173298688e-07\n",
      "Changed:\t 357.14285714285717 -> 306.632886111762\n",
      "After:\t 0.24999999999999808\n",
      "==========\n",
      "Before:\t 7.328101730967849e-05\n",
      "Changed:\t 414.2857142857143 -> 380.75268002447643\n",
      "After:\t 0.25000000000000167\n",
      "==========\n",
      "Before:\t 0.0027767332590586066\n",
      "Changed:\t 471.42857142857144 -> 431.6515451462119\n",
      "After:\t 0.25000000000000105\n",
      "==========\n",
      "Before:\t 0.865149344902462\n",
      "Changed:\t 302.11634639083576 -> 321.55751797255124\n",
      "After:\t 0.25000000000000067\n",
      "==========\n",
      "Before:\t 1.571891893839954e-15\n",
      "Changed:\t 375.57221425575847 -> 308.93920688500964\n",
      "After:\t 0.25000000000000383\n",
      "==========\n",
      "Before:\t 1.3484288830667045e-05\n",
      "Changed:\t 420.71624497262945 -> 385.2768965372079\n",
      "After:\t 0.2500000000000037\n",
      "==========\n",
      "Before:\t 0.011532555454231529\n",
      "Changed:\t 477.4936468191158 -> 444.9208758575183\n",
      "After:\t 0.2500000000000004\n",
      "==========\n",
      "Before:\t 118.8213227062715\n",
      "Changed:\t 306.632886111762 -> 326.1639495766728\n",
      "After:\t 0.25000000000000006\n",
      "==========\n",
      "Before:\t 0.005093065777460875\n",
      "Changed:\t 380.75268002447643 -> 325.0354874002236\n",
      "After:\t 0.25000000000000017\n",
      "==========\n",
      "Before:\t 0.08930113048774913\n",
      "Changed:\t 431.6515451462119 -> 410.59095462954167\n",
      "After:\t 0.24999999999999975\n",
      "==========\n",
      "Before:\t 0.0035986107289659943\n",
      "Changed:\t 321.55751797255124 -> 305.03798117523473\n",
      "After:\t 0.2500000000000045\n",
      "==========\n",
      "Before:\t 51.58057708772691\n",
      "Changed:\t 308.93920688500964 -> 332.6851235318585\n",
      "After:\t 0.24999999999999836\n",
      "==========\n",
      "Before:\t 1.9088311643681073e-09\n",
      "Changed:\t 385.2768965372079 -> 328.5830397149607\n",
      "After:\t 0.24999999999999387\n",
      "==========\n",
      "Before:\t 3.126217492544719e-05\n",
      "Changed:\t 444.9208758575183 -> 414.86902432933476\n",
      "After:\t 0.25000000000000255\n",
      "==========\n",
      "Before:\t 0.001405882232175712\n",
      "Changed:\t 326.1639495766728 -> 309.2665765194676\n",
      "After:\t 0.2500000000000029\n",
      "==========\n",
      "Before:\t 24.93597493301411\n",
      "Changed:\t 325.0354874002236 -> 336.09445076708994\n",
      "After:\t 0.25000000000000283\n",
      "==========\n",
      "Before:\t 1.6156178685006657e-18\n",
      "Changed:\t 410.59095462954167 -> 330.8189793484832\n",
      "After:\t 0.2499999999999948\n",
      "==========\n",
      "Before:\t 0.1073386089571218\n",
      "Changed:\t 305.03798117523473 -> 303.10963194927166\n",
      "After:\t 0.24999999999999925\n",
      "==========\n",
      "Before:\t 7.094038977042845e-06\n",
      "Changed:\t 332.6851235318585 -> 311.8331681356338\n",
      "After:\t 0.24999999999999603\n",
      "==========\n",
      "Before:\t 40.29263868685656\n",
      "Changed:\t 328.5830397149607 -> 339.00102256472775\n",
      "After:\t 0.24999999999999903\n",
      "==========\n",
      "Before:\t 2.833944427254234e-10\n",
      "Changed:\t 414.86902432933476 -> 335.0999920419379\n",
      "After:\t 0.24999999999999842\n",
      "==========\n",
      "Before:\t 0.44191417172917485\n",
      "Changed:\t 309.2665765194676 -> 313.71163451153836\n",
      "After:\t 0.25000000000000056\n",
      "==========\n",
      "Before:\t 1.4090326494995355e-05\n",
      "Changed:\t 336.09445076708994 -> 314.6520993249746\n",
      "After:\t 0.25000000000000866\n",
      "==========\n",
      "Before:\t 5.701490381325767\n",
      "Changed:\t 330.8189793484832 -> 345.8124256936665\n",
      "After:\t 0.2500000000000003\n",
      "==========\n",
      "Before:\t 0.429282423226214\n",
      "Changed:\t 303.10963194927166 -> 305.13176169885725\n",
      "After:\t 0.24999999999999842\n",
      "==========\n",
      "Before:\t 4.672914243141338\n",
      "Changed:\t 311.8331681356338 -> 315.42008616503324\n",
      "After:\t 0.2500000000000066\n",
      "==========\n",
      "Before:\t 0.0035704252837777417\n",
      "Changed:\t 339.00102256472775 -> 320.31199004492356\n",
      "After:\t 0.25000000000000083\n",
      "==========\n",
      "Before:\t 0.35171316871557995\n",
      "Changed:\t 335.0999920419379 -> 331.7428906101385\n",
      "After:\t 0.24999999999999958\n",
      "==========\n",
      "Before:\t 0.14053081249614763\n",
      "Changed:\t 313.71163451153836 -> 311.1434242538345\n",
      "After:\t 0.2500000000000016\n",
      "==========\n",
      "Before:\t 1.1668168127255996\n",
      "Changed:\t 314.6520993249746 -> 322.49287802433264\n",
      "After:\t 0.25000000000000105\n",
      "==========\n",
      "Before:\t 0.09041608172131883\n",
      "Changed:\t 345.8124256936665 -> 334.5417924073684\n",
      "After:\t 0.2500000000000011\n",
      "==========\n",
      "Before:\t 0.5306498420397011\n",
      "Changed:\t 305.13176169885725 -> 311.4600205928388\n",
      "After:\t 0.24999999999999936\n",
      "==========\n",
      "Before:\t 0.07103933465850229\n",
      "Changed:\t 315.42008616503324 -> 313.37074297238837\n",
      "After:\t 0.24999999999999964\n",
      "==========\n",
      "Before:\t 0.9894465581930322\n",
      "Changed:\t 320.31199004492356 -> 170.66265948844747\n",
      "After:\t 0.25000000000000006\n",
      "==========\n",
      "Before:\t 3.0431283140455005\n",
      "Changed:\t 331.7428906101385 -> 338.09507413893215\n",
      "After:\t 0.24999999999999448\n",
      "==========\n",
      "Before:\t 1.2306860476761436\n",
      "Changed:\t 311.1434242538345 -> 313.5910827705422\n",
      "After:\t 0.2499999999999903\n",
      "==========\n",
      "Before:\t 0.0064521935907911245\n",
      "Changed:\t 322.49287802433264 -> 315.82636990627407\n",
      "After:\t 0.25000000000000133\n",
      "==========\n",
      "Before:\t 3.1217948453862455e-24\n",
      "Changed:\t 334.5417924073684 -> 172.8311817488642\n",
      "After:\t 0.24999999999999592\n",
      "==========\n",
      "Before:\t 0.05298557389219199\n",
      "Changed:\t 311.4600205928388 -> 305.3009535953459\n",
      "After:\t 0.2500000000000026\n",
      "==========\n",
      "Before:\t 1.0328840012297753\n",
      "Changed:\t 313.37074297238837 -> 323.3319735149855\n",
      "After:\t 0.24999999999999803\n",
      "==========\n",
      "Before:\t 1.164137613693722e+53\n",
      "Changed:\t 170.66265948844747 -> 318.9039032431062\n",
      "After:\t 0.25000000000000233\n",
      "==========\n",
      "Before:\t 1.4018387119095383e-38\n",
      "Changed:\t 338.09507413893215 -> 174.18539440747168\n",
      "After:\t 0.24999999999999692\n",
      "==========\n",
      "Before:\t 0.058149102836480955\n",
      "Changed:\t 313.5910827705422 -> 309.28541080988236\n",
      "After:\t 0.25000000000000194\n",
      "==========\n",
      "Before:\t 36.77113106003574\n",
      "Changed:\t 315.82636990627407 -> 326.31432019490353\n",
      "After:\t 0.250000000000003\n",
      "==========\n",
      "Before:\t 1.1517152721173817e-05\n",
      "Changed:\t 172.8311817488642 -> 289.11535927813617\n",
      "After:\t 0.24999999999999992\n",
      "==========\n",
      "Before:\t 0.3710919368883706\n",
      "Changed:\t 305.3009535953459 -> 307.4656991052065\n",
      "After:\t 0.250000000000001\n",
      "==========\n",
      "Before:\t 0.0007325708751554814\n",
      "Changed:\t 323.3319735149855 -> 311.88737067487233\n",
      "After:\t 0.25\n",
      "==========\n",
      "Before:\t 2.8541529599094577\n",
      "Changed:\t 318.9039032431062 -> 336.6548003342422\n",
      "After:\t 0.25000000000000355\n",
      "==========\n",
      "Before:\t 5.734104700095686e+69\n",
      "Changed:\t 174.18539440747168 -> 290.771189325107\n",
      "After:\t 0.24999999999999037\n",
      "==========\n",
      "Before:\t 0.4525296306769756\n",
      "Changed:\t 309.28541080988236 -> 310.66140184818966\n",
      "After:\t 0.2500000000000075\n",
      "==========\n",
      "Before:\t 0.01803827006730699\n",
      "Changed:\t 326.31432019490353 -> 316.721946292442\n",
      "After:\t 0.250000000000002\n",
      "==========\n",
      "Before:\t 506584.7882898639\n",
      "Changed:\t 289.11535927813617 -> 342.60020091127586\n",
      "After:\t 0.24999999999999742\n",
      "==========\n",
      "Before:\t 0.018181727092720045\n",
      "Changed:\t 307.4656991052065 -> 302.54131181729605\n",
      "After:\t 0.2500000000000055\n",
      "==========\n",
      "Before:\t 0.5952594507975596\n",
      "Changed:\t 311.88737067487233 -> 313.9593650034641\n",
      "After:\t 0.25000000000000494\n",
      "==========\n",
      "Before:\t 0.045080638430676646\n",
      "Changed:\t 336.6548003342422 -> 325.33805238576224\n",
      "After:\t 0.2500000000000006\n",
      "==========\n",
      "Before:\t 1354217782698.6462\n",
      "Changed:\t 290.771189325107 -> 345.65784185225647\n",
      "After:\t 0.2500000000000031\n",
      "==========\n",
      "Before:\t 0.017734101472946722\n",
      "Changed:\t 310.66140184818966 -> 305.2846848349502\n",
      "After:\t 0.2500000000000006\n",
      "==========\n",
      "Before:\t 0.9222711318217285\n",
      "Changed:\t 316.721946292442 -> 369.11942085392184\n",
      "After:\t 0.24999999999999992\n",
      "==========\n",
      "Before:\t 0.002889921850543128\n",
      "Changed:\t 342.60020091127586 -> 329.27191794637037\n",
      "After:\t 0.2500000000000009\n",
      "==========\n",
      "Before:\t 0.21070317248698603\n",
      "Changed:\t 302.54131181729605 -> 302.26014322042374\n",
      "After:\t 0.2500000000000004\n",
      "==========\n",
      "Before:\t 0.02870615163646518\n",
      "Changed:\t 313.9593650034641 -> 308.61391545385584\n",
      "After:\t 0.25000000000000516\n",
      "==========\n",
      "Before:\t 660.3268414166345\n",
      "Changed:\t 325.33805238576224 -> 380.039117007804\n",
      "After:\t 0.25000000000000033\n",
      "==========\n",
      "Before:\t 0.4561895426507006\n",
      "Changed:\t 345.65784185225647 -> 359.3622883335206\n",
      "After:\t 0.24999999999999964\n",
      "==========\n",
      "Before:\t 0.11265595162833003\n",
      "Changed:\t 305.2846848349502 -> 304.1734945694696\n",
      "After:\t 0.25000000000001354\n",
      "==========\n",
      "Before:\t 1.1570105455482587e-11\n",
      "Changed:\t 369.11942085392184 -> 311.4241021193732\n",
      "After:\t 0.25000000000000566\n",
      "==========\n",
      "Before:\t 755.8375648353293\n",
      "Changed:\t 329.27191794637037 -> 392.7033063077621\n",
      "After:\t 0.24999999999999936\n",
      "==========\n",
      "CPU times: user 20.7 s, sys: 4.74 s, total: 25.4 s\n",
      "Wall time: 20.4 s\n"
     ]
    }
   ],
   "source": [
    "%%time\n",
    "# シミュレーションループ\n",
    "print('Production...')\n",
    "is_even_step = True # 交換ペアを交互に変えるための変数\n",
    "for step in tqdm(range(0, params['n_steps'], params['n_steps_exchange']), leave=False):\n",
    "    # print(f'*** Step {step} ***\"')\n",
    "    for sim in simulations:\n",
    "        sim.step(params['n_steps_exchange'])  # 各レプリカで実行\n",
    "\n",
    "    # レプリカ間での交換試行\n",
    "    if is_even_step:\n",
    "        for i in range(0, params['n_replicas'], 2):\n",
    "            attempt_exchange(i, i + 1)\n",
    "    else:\n",
    "        for i in range(1, params['n_replicas']-1, 2):\n",
    "            attempt_exchange(i, i + 1)\n",
    "            \n",
    "    is_even_step = not is_even_step\n",
    "        \n",
    "    with open(f'{output_dir}/replicas.csv', 'a') as f:\n",
    "            f.write(','.join(replicas)+'\\n')"
   ]
  },
  {
   "cell_type": "markdown",
   "id": "c12a4448-48ce-41c2-af1f-36520040369d",
   "metadata": {},
   "source": [
    "## 最終構造を保存"
   ]
  },
  {
   "cell_type": "code",
   "execution_count": 13,
   "id": "e2ec478f-bd26-4bd9-ac3b-b3c5cecf817a",
   "metadata": {},
   "outputs": [],
   "source": [
    "# シミュレーション結果を保存\n",
    "for i, sim in enumerate(simulations):\n",
    "    state = sim.context.getState(getPositions=True, getEnergy=True)\n",
    "    with open(f\"{output_dir}/output_replica_{i}.pdb\", \"w\") as f:\n",
    "        app.PDBFile.writeFile(pdb.topology, state.getPositions(), f)"
   ]
  },
  {
   "cell_type": "code",
   "execution_count": 14,
   "id": "21d1f604-03aa-4cff-961a-46276112dbcd",
   "metadata": {},
   "outputs": [
    {
     "name": "stdout",
     "output_type": "stream",
     "text": [
      "[300.0, 302.26014322042374, 304.1734945694696, 308.61391545385584, 311.4241021193732, 380.039117007804, 392.7033063077621, 359.3622883335206]\n"
     ]
    }
   ],
   "source": [
    "print(params['temperatures'])"
   ]
  },
  {
   "cell_type": "code",
   "execution_count": null,
   "id": "743c88af-4f40-4d44-af8f-c55fbe3f8106",
   "metadata": {},
   "outputs": [],
   "source": []
  }
 ],
 "metadata": {
  "kernelspec": {
   "display_name": "Python 3 (ipykernel)",
   "language": "python",
   "name": "python3"
  },
  "language_info": {
   "codemirror_mode": {
    "name": "ipython",
    "version": 3
   },
   "file_extension": ".py",
   "mimetype": "text/x-python",
   "name": "python",
   "nbconvert_exporter": "python",
   "pygments_lexer": "ipython3",
   "version": "3.11.5"
  }
 },
 "nbformat": 4,
 "nbformat_minor": 5
}
