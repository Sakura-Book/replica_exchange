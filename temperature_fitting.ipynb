{
 "cells": [
  {
   "cell_type": "markdown",
   "id": "c3c6e861-3d0e-4ae2-a806-069aff38da7c",
   "metadata": {},
   "source": [
    "# REMDのOpenMM実装\n",
    "- ChatGPTを使用\n",
    "- 一定時間ごとに、レプリカ間の座標を交換する(温度はそのまま)\n",
    "- 速度は交換しない\n",
    "- 交換確率が0.25になるよう温度を調整するための予備MD"
   ]
  },
  {
   "cell_type": "code",
   "execution_count": 1,
   "id": "7e595089-2c75-4ed0-bfd5-bc4e255bb0f6",
   "metadata": {},
   "outputs": [],
   "source": [
    "from openmm.app import *\n",
    "from openmm import *\n",
    "from openmm.unit import *\n",
    "import numpy as np\n",
    "from tqdm.notebook import tqdm\n",
    "import random\n",
    "import os\n",
    "from datetime import datetime\n",
    "from math import ceil"
   ]
  },
  {
   "cell_type": "code",
   "execution_count": 2,
   "id": "12c646f4-3a18-4e5a-a36c-a55bcd9e30d3",
   "metadata": {},
   "outputs": [
    {
     "name": "stdout",
     "output_type": "stream",
     "text": [
      "ディレクトリ './output/output_2024-12-10_00-30-08' を作成しました！\n"
     ]
    }
   ],
   "source": [
    "# 現在の日付と時刻を取得\n",
    "current_time = datetime.now().strftime('%Y-%m-%d_%H-%M-%S')\n",
    "# ディレクトリ名を作成\n",
    "output_dir = f\"./output/output_{current_time}\"\n",
    "# ディレクトリを作成\n",
    "os.makedirs(output_dir, exist_ok=True)\n",
    "print(f\"ディレクトリ '{output_dir}' を作成しました！\")"
   ]
  },
  {
   "cell_type": "code",
   "execution_count": 3,
   "id": "dc753e79-d3f2-4459-8601-2ffce6fe62e3",
   "metadata": {},
   "outputs": [
    {
     "name": "stdout",
     "output_type": "stream",
     "text": [
      "Replicas: ['0', '1', '2', '3', '4', '5', '6', '7']\n",
      "Temperatures (K): [300.0, 328.57142857142856, 357.14285714285717, 385.7142857142857, 414.2857142857143, 442.8571428571429, 471.42857142857144, 500.0]\n",
      "n_replicas: 8\n",
      "temperature_min: 300\n",
      "temperature_max: 500\n",
      "temperatures: [300.0, 328.57142857142856, 357.14285714285717, 385.7142857142857, 414.2857142857143, 442.8571428571429, 471.42857142857144, 500.0]\n",
      "old_temperatures: [300.0, 328.57142857142856, 357.14285714285717, 385.7142857142857, 414.2857142857143, 442.8571428571429, 471.42857142857144, 500.0]\n",
      "acceptance_ratio: 0.25\n",
      "dt: 0.002\n",
      "n_steps: 10000000\n",
      "n_steps_exchange: 1000\n",
      "n_steps_save: 500\n",
      "n_steps_equil: 25000\n",
      "adjust_interval: 40\n",
      "n_steps_adjust: 40000\n",
      "learning_rate: 0.1\n",
      "n_times_exchange: 10000\n",
      "nonbondedCutoff: 1.0\n",
      "friction: 1.0\n",
      "restraint_force: 10\n",
      "pdb_path: ./structures/ala2_solvated.pdb\n",
      "ff: ['amber99sbildn.xml', 'tip3p.xml']\n"
     ]
    }
   ],
   "source": [
    "# パラメータ設定\n",
    "params = {}\n",
    "params['n_replicas'] = 8  # レプリカ数\n",
    "replicas = [str(i) for i in np.arange(params['n_replicas'])]\n",
    "print('Replicas:', replicas)\n",
    "params['temperature_min'] = 300 # K\n",
    "params['temperature_max'] = 500 # K\n",
    "params['temperatures'] = np.linspace(params['temperature_min'], params['temperature_max'], params['n_replicas'])  # 温度 (Kelvin)\n",
    "\n",
    "params['temperatures'] = params['temperatures'].tolist()\n",
    "params['old_temperatures'] = copy.deepcopy(params['temperatures'])\n",
    "\n",
    "print('Temperatures (K):', params['temperatures'])\n",
    "params['acceptance_ratio'] = 0.25\n",
    "\n",
    "params['dt'] = 0.002 # タイムステップ(ps)\n",
    "params['n_steps'] = 20 * int(ceil(1e3 / params['dt'])) # シミュレーション総ステップ数(1us) 1e6\n",
    "params['n_steps_exchange'] = 2 * int(ceil(1e0 / params['dt'])) # 交換を試みる間隔(1ns) 1e3\n",
    "params['n_steps_save'] = 1 * int(ceil(1e0 / params['dt'])) # 保存間隔(100ps) 100\n",
    "params['n_steps_equil'] = 50 * int(ceil(1e0 / params['dt'])) # 平衡化(10ns) 20000\n",
    "params['adjust_interval'] = 40\n",
    "params['n_steps_adjust'] = params['adjust_interval'] * params['n_steps_exchange'] # 10回交換後に温度調整]\n",
    "params['learning_rate'] = 0.1 # 0~1\n",
    "\n",
    "params['n_times_exchange'] = params['n_steps'] // params['n_steps_exchange']\n",
    "\n",
    "params['nonbondedCutoff'] = 1.0 # nm\n",
    "params['friction'] = 1.0 # /ps\n",
    "params['restraint_force'] = 10 # kcal/mol/A^2\n",
    "\n",
    "params['pdb_path'] = './structures/ala2_solvated.pdb'\n",
    "params['ff'] = ['amber99sbildn.xml', 'tip3p.xml']\n",
    "\n",
    "for key in params.keys():\n",
    "    print(f'{key}: {params[key]}')"
   ]
  },
  {
   "cell_type": "markdown",
   "id": "e873a443",
   "metadata": {},
   "source": [
    "### 初期パラメータをJSONに保存"
   ]
  },
  {
   "cell_type": "code",
   "execution_count": 4,
   "id": "d25ef9fb-ece3-4d3b-a7f6-0f59cc359c8b",
   "metadata": {},
   "outputs": [],
   "source": [
    "# パラメータをJSONに保存\n",
    "import json\n",
    "filepath = f\"{output_dir}/params.json\"\n",
    "with open(filepath, mode=\"wt\", encoding=\"utf-8\") as f:\n",
    "\tjson.dump(params, f, ensure_ascii=False, indent=2)"
   ]
  },
  {
   "cell_type": "markdown",
   "id": "a374a6b5",
   "metadata": {},
   "source": [
    "### CSVファイルのセットアップ"
   ]
  },
  {
   "cell_type": "code",
   "execution_count": 5,
   "id": "efb59ee9",
   "metadata": {},
   "outputs": [],
   "source": [
    "# 各レプリカサンプルの現在位置を保存するファイル\n",
    "with open(f'{output_dir}/replicas.csv', 'a') as f:\n",
    "    f.write('step,'+','.join(replicas)+'\\n')\n",
    "\n",
    "# レプリカ交換のaccept/rejectを保存するファイル\n",
    "with open(f'{output_dir}/acceptance.csv', 'a') as f:\n",
    "    f.write(f\"step,replica1,replica2,acceptance\\n\")\n",
    "\n",
    "# 温度更新ごとに、温度を保存するファイル\n",
    "with open(f'{output_dir}/adjusted_temperatures.csv', 'a') as f:\n",
    "    f.write('step,'+','.join(replicas)+'\\n')\n",
    "\n",
    "# 温度更新ごとに、直近の交換確率を保存するファイル\n",
    "with open(f'{output_dir}/acceptance_rates.csv', 'a') as f:\n",
    "    f.write('step,'+','.join([f'{i}_{i+1}' for i in range(params['n_replicas']-1)])+'\\n')"
   ]
  },
  {
   "cell_type": "markdown",
   "id": "e04cb833-5b80-4c53-9011-7299525f55d3",
   "metadata": {},
   "source": [
    "## レプリカ交換関数の定義"
   ]
  },
  {
   "cell_type": "code",
   "execution_count": 6,
   "id": "f327b228-59f1-4f7a-b683-a3faee4ea306",
   "metadata": {},
   "outputs": [
    {
     "name": "stdout",
     "output_type": "stream",
     "text": [
      "0.00831446261815324\n"
     ]
    }
   ],
   "source": [
    "kB = MOLAR_GAS_CONSTANT_R.value_in_unit(kilojoule_per_mole/kelvin)\n",
    "print(kB)"
   ]
  },
  {
   "cell_type": "markdown",
   "id": "056edabe",
   "metadata": {},
   "source": [
    "### レプリカ交換"
   ]
  },
  {
   "cell_type": "code",
   "execution_count": 7,
   "id": "96607128-755c-4021-8278-a4e2465b026a",
   "metadata": {},
   "outputs": [],
   "source": [
    "# エネルギー交換関数\n",
    "# 全部value_in_unitする\n",
    "def attempt_exchange(replica1, replica2, step):\n",
    "    E1 = simulations[replica1].context.getState(getEnergy=True).getPotentialEnergy().value_in_unit(kilojoule_per_mole)\n",
    "    E2 = simulations[replica2].context.getState(getEnergy=True).getPotentialEnergy().value_in_unit(kilojoule_per_mole)\n",
    "    kB = MOLAR_GAS_CONSTANT_R.value_in_unit(kilojoule_per_mole/kelvin)\n",
    "    beta1 = 1 / (kB * params['temperatures'][replica1])\n",
    "    beta2 = 1 / (kB * params['temperatures'][replica2])\n",
    "    delta = (beta2 - beta1) * (E1 - E2)\n",
    "    # print(delta)\n",
    "    \n",
    "    if delta < 0 or random.uniform(0, 1) < np.exp(-delta):\n",
    "        # 交換を行う\n",
    "        # print(f\"Exchange accepted between replica {replica1} and {replica2}\")\n",
    "        # temp1 = temperatures[replica1]\n",
    "        # temperatures[replica1] = temperatures[replica2]\n",
    "        # temperatures[replica2] = temp1\n",
    "        rep1 = replicas[replica1]\n",
    "        replicas[replica1] = replicas[replica2]\n",
    "        replicas[replica2] = rep1        \n",
    "        positions1 = simulations[replica1].context.getState(getPositions=True).getPositions()\n",
    "        positions2 = simulations[replica2].context.getState(getPositions=True).getPositions()\n",
    "        simulations[replica1].context.setPositions(positions2)\n",
    "        simulations[replica2].context.setPositions(positions1)\n",
    "        # Write log\n",
    "        with open(f'{output_dir}/acceptance.csv', 'a') as f:\n",
    "            # f.write(','.join(replicas)+'\\n')\n",
    "            f.write(f\"{step},{replica1},{replica2},1\\n\")\n",
    "        return True\n",
    "    else:\n",
    "        # print(f\"Exchange rejected between replica {replica1} and {replica2}\")\n",
    "        # Write log\n",
    "        with open(f'{output_dir}/acceptance.csv', 'a') as f:\n",
    "            # f.write(','.join(replicas)+'\\n')\n",
    "            f.write(f\"{step},{replica1},{replica2},0\\n\")\n",
    "        return False"
   ]
  },
  {
   "cell_type": "markdown",
   "id": "72887cf6",
   "metadata": {},
   "source": [
    "### 温度調整"
   ]
  },
  {
   "cell_type": "code",
   "execution_count": 8,
   "id": "dc9d94d1-c301-4b31-85f2-d6b7d2e68bf6",
   "metadata": {},
   "outputs": [],
   "source": [
    "def adjust_temperatures(exchange_attempts, exchange_success, step):\n",
    "    # temperatures: 現在の温度リスト\n",
    "    # exchange_attempts[i], exchange_success[i]: レプリカ i と i+1 の交換試行数と成功数\n",
    "    # target: 目標成功率(0.25)\n",
    "    \n",
    "    # 現在の温度の逆数 (beta) リストを用意 (等間隔調整などの参考)\n",
    "    betas = [1.0/(MOLAR_GAS_CONSTANT_R.value_in_unit(kilojoule_per_mole/kelvin)*T) for T in params['temperatures']]\n",
    "    \n",
    "    # 各ペアの交換成功率を計算\n",
    "    acceptance = []\n",
    "    for i in range(len(params['temperatures'])-1):\n",
    "        if exchange_attempts[i] > 0:\n",
    "            acc = exchange_success[i]/exchange_attempts[i]\n",
    "        else:\n",
    "            acc = 0.0\n",
    "        acceptance.append(acc)\n",
    "    \n",
    "    # 隣接温度間の調整\n",
    "    # 非常に単純な方針：成功率が高いペア -> 温度差を小さく\n",
    "    # 成功率が低いペア -> 温度差を大きく\n",
    "    # 以下はbetasを微調整し、それに基づいてtemperaturesを更新する例\n",
    "    #\n",
    "    # delta_beta[i] = betas[i+1]-betas[i] がペアiの温度差を支配\n",
    "    # 目標交換率からのズレによって delta_beta をスケール\n",
    "\n",
    "    for i, acc in enumerate(acceptance):\n",
    "        # 誤差\n",
    "        diff = acc - params['acceptance_ratio']\n",
    "        # diff > 0 (成功率が高い)：温度差を小さくしたい => beta差を小さくする\n",
    "        # diff < 0 (成功率が低い)：温度差を大きくしたい => beta差を大きくする\n",
    "    \n",
    "        adjust_factor = 1.0 + params['learning_rate']*diff  # acc=0.25なら1.0に近い値\n",
    "        # betas[i+1]とbetas[i]の中点を固定して差分を調整する簡易法\n",
    "        # mid_beta = 0.5*(betas[i] + betas[i+1])\n",
    "        # half_diff = 0.5*(betas[i+1]-betas[i])*adjust_factor\n",
    "        beta_diff = (betas[i+1]-betas[i])*adjust_factor\n",
    "        \n",
    "        # betas[i] = mid_beta - half_diff\n",
    "        # betas[i+1] = mid_beta + half_diff\n",
    "        betas[i+1] = betas[i] + beta_diff\n",
    "    \n",
    "    # betasから温度を再計算\n",
    "    new_temperatures = []\n",
    "    for b in betas:\n",
    "        new_T = 1.0/(b*MOLAR_GAS_CONSTANT_R.value_in_unit(kilojoule_per_mole/kelvin))\n",
    "        new_temperatures.append(new_T)\n",
    "    \n",
    "    params['temperatures'] = new_temperatures # 新しい温度に更新\n",
    "    \n",
    "    print(\"Iteration:\", step//params['n_steps_exchange'])\n",
    "    print(\"Adjusted temperatures:\", [T for T in params['temperatures']])\n",
    "    print(\"Current acceptance rates:\", [exchange_success[j]/exchange_attempts[j] if exchange_attempts[j] > 0 else 0 for j in range(params['n_replicas']-1)])\n",
    "\n",
    "    with open(f'{output_dir}/adjusted_temperatures.csv', 'a') as f:\n",
    "        f.write(str(step)+','+','.join([str(T) for T in params['temperatures']])+'\\n')\n",
    "\n",
    "    with open(f'{output_dir}/acceptance_rates.csv', 'a') as f:\n",
    "        f.write(str(step)+','+','.join([str(exchange_success[j]/exchange_attempts[j]) if exchange_attempts[j] > 0 else '0' for j in range(params['n_replicas']-1)])+'\\n')\n"
   ]
  },
  {
   "cell_type": "markdown",
   "id": "61ae4f4a-c137-4a30-b06d-5d8ca6abfd58",
   "metadata": {},
   "source": [
    "## システムの作成"
   ]
  },
  {
   "cell_type": "code",
   "execution_count": 9,
   "id": "3c716206-e00b-4692-a459-9aa55790672c",
   "metadata": {},
   "outputs": [],
   "source": [
    "pdb = app.PDBFile(params['pdb_path'])\n",
    "forcefield = app.ForceField(*params['ff'])"
   ]
  },
  {
   "cell_type": "code",
   "execution_count": 10,
   "id": "d1b73afa-3c27-49d3-9d50-699ecf1ce270",
   "metadata": {},
   "outputs": [
    {
     "name": "stdout",
     "output_type": "stream",
     "text": [
      "System created...\n"
     ]
    }
   ],
   "source": [
    "system = forcefield.createSystem(\n",
    "    pdb.topology,\n",
    "    nonbondedMethod=app.PME,\n",
    "    nonbondedCutoff=params['nonbondedCutoff']*nanometer,\n",
    "    constraints=app.HBonds,\n",
    ")\n",
    "print('System created...')\n",
    "\n",
    "# レプリカごとに異なるシミュレーションをセットアップ\n",
    "integrators = []\n",
    "simulations = []\n",
    "for i, temp in enumerate(params['temperatures']):\n",
    "    integrator = LangevinIntegrator(\n",
    "        temp*kelvin,       # 温度\n",
    "        params['friction']/picosecond,    # 摩擦係数\n",
    "        params['dt']*picoseconds  # タイムステップ\n",
    "    )\n",
    "    integrators.append(integrator)\n",
    "    simulation = app.Simulation(pdb.topology, system, integrator)\n",
    "    # simulation.context.setPositions(pdb.positions)\n",
    "    # simulation.context.setVelocitiesToTemperature(temp*kelvin)\n",
    "    simulations.append(simulation)"
   ]
  },
  {
   "cell_type": "markdown",
   "id": "f820209a-da5e-4652-b2ef-1aeba2554b08",
   "metadata": {},
   "source": [
    "## 平衡化"
   ]
  },
  {
   "cell_type": "code",
   "execution_count": 11,
   "id": "e383b8a0-9758-4b3d-b5d7-aaaed991d5bb",
   "metadata": {},
   "outputs": [
    {
     "name": "stdout",
     "output_type": "stream",
     "text": [
      "System_equil created...\n",
      "Equilibrating for 25000 steps\n",
      "Equilibrating for 25000 steps\n",
      "Equilibrating for 25000 steps\n",
      "Equilibrating for 25000 steps\n",
      "Equilibrating for 25000 steps\n",
      "Equilibrating for 25000 steps\n",
      "Equilibrating for 25000 steps\n",
      "Equilibrating for 25000 steps\n",
      "CPU times: user 21.6 s, sys: 2.78 s, total: 24.4 s\n",
      "Wall time: 24.8 s\n"
     ]
    }
   ],
   "source": [
    "%%time\n",
    "system_equil = forcefield.createSystem(\n",
    "    pdb.topology,\n",
    "    nonbondedMethod=app.PME,\n",
    "    nonbondedCutoff=params['nonbondedCutoff']*nanometer,\n",
    "    constraints=app.HBonds,\n",
    ")\n",
    "# Positional restraints for all heavy-atoms for equilibration\n",
    "pos_res = CustomExternalForce(\"k*periodicdistance(x, y, z, x0, y0, z0)^2;\")\n",
    "pos_res.addPerParticleParameter(\"k\")\n",
    "pos_res.addPerParticleParameter(\"x0\")\n",
    "pos_res.addPerParticleParameter(\"y0\")\n",
    "pos_res.addPerParticleParameter(\"z0\")\n",
    "\n",
    "for ai, atom in enumerate(pdb.topology.atoms()):\n",
    "    if atom.name == 'CA':\n",
    "        x = pdb.positions[ai][0].value_in_unit(nanometers)\n",
    "        y = pdb.positions[ai][1].value_in_unit(nanometers)\n",
    "        z = pdb.positions[ai][2].value_in_unit(nanometers)\n",
    "        pos_res.addParticle(ai, [params['restraint_force']*kilocalories_per_mole/(angstrom**2), x, y, z])\n",
    "\n",
    "system_equil.addForce(pos_res)\n",
    "print('System_equil created...')\n",
    "\n",
    "integrators_equil = []\n",
    "simulations_equil = []\n",
    "for i, temp in enumerate(params['temperatures']):\n",
    "    integrator = LangevinIntegrator(\n",
    "        temp*kelvin,       # 温度\n",
    "        params['friction'],    # 摩擦係数\n",
    "        params['dt']*picoseconds  # タイムステップ\n",
    "    )\n",
    "    # integrators_equil.append(integrator)\n",
    "    simulation_equil = app.Simulation(pdb.topology, system_equil, integrator)\n",
    "    simulation_equil.context.setPositions(pdb.positions)\n",
    "    simulation_equil.minimizeEnergy()\n",
    "    simulation_equil.context.setVelocitiesToTemperature(temp*kelvin)\n",
    "    print(\"Equilibrating for\", params['n_steps_equil'], \"steps\")\n",
    "    simulation_equil.step(params['n_steps_equil'])\n",
    "    # simulations_equil.append(simulation)\n",
    "    simulations[i].context.setPositions(\n",
    "        simulation_equil.context.getState(getPositions=True ).getPositions()\n",
    "    )\n",
    "    simulations[i].context.setVelocities(\n",
    "        simulation_equil.context.getState(getVelocities=True).getVelocities()\n",
    "    )"
   ]
  },
  {
   "cell_type": "markdown",
   "id": "c51c6531-35cb-428b-b8bc-d10387ed4a2d",
   "metadata": {},
   "source": [
    "## レポーターの追加"
   ]
  },
  {
   "cell_type": "code",
   "execution_count": 12,
   "id": "b4562dfa-b7f6-4bec-853b-e645223ee15c",
   "metadata": {},
   "outputs": [
    {
     "name": "stdout",
     "output_type": "stream",
     "text": [
      "Adding Reporters...\n"
     ]
    }
   ],
   "source": [
    "# append reporters\n",
    "print('Adding Reporters...')\n",
    "dcd_reporters = [app.DCDReporter(file=f'{output_dir}/replica_{i}.dcd', reportInterval=params['n_steps_save']) \n",
    "                 for i, temp in enumerate(params['temperatures'])]\n",
    "state_data_reporters = [app.StateDataReporter(file=f'{output_dir}/replica_{i}.log', \n",
    "                                              reportInterval=params['n_steps_save'], \n",
    "                                              totalSteps=params['n_steps'], \n",
    "                                              step=True,\n",
    "                                              potentialEnergy=True,\n",
    "                                              temperature=True,\n",
    "                                              speed=True, \n",
    "                                              progress=True, \n",
    "                                              elapsedTime=True) \n",
    "                        for i, temp in enumerate(params['temperatures'])]\n",
    "\n",
    "# 各レプリカにreporterを追加\n",
    "for i, temp in enumerate(params['temperatures']):\n",
    "    simulations[i].reporters.append(dcd_reporters[i])\n",
    "    simulations[i].reporters.append(state_data_reporters[i])"
   ]
  },
  {
   "cell_type": "markdown",
   "id": "cd7ea491-094d-4735-9116-44a364c429c4",
   "metadata": {},
   "source": [
    "## Production\n",
    "- 隣接ペアの組み合わせを1回毎に変えるようにしたい\n",
    "- accept/rejectのログを記録したい"
   ]
  },
  {
   "cell_type": "code",
   "execution_count": 13,
   "id": "a90ac455-a641-4a64-ad62-08f41903d811",
   "metadata": {},
   "outputs": [
    {
     "name": "stdout",
     "output_type": "stream",
     "text": [
      "0 1\n",
      "2 3\n",
      "4 5\n",
      "6 7\n",
      "1 2\n",
      "3 4\n",
      "5 6\n"
     ]
    }
   ],
   "source": [
    "for i in range(0, 8, 2):\n",
    "    print(i, i+1)\n",
    "for i in range(1, 8-1, 2):\n",
    "    print(i, i+1)"
   ]
  },
  {
   "cell_type": "code",
   "execution_count": null,
   "id": "df2a6056-263a-410b-8840-bc7556646743",
   "metadata": {},
   "outputs": [
    {
     "name": "stdout",
     "output_type": "stream",
     "text": [
      "Production...\n"
     ]
    },
    {
     "data": {
      "application/vnd.jupyter.widget-view+json": {
       "model_id": "d46e730c65f4478bbd6b01391f135b1a",
       "version_major": 2,
       "version_minor": 0
      },
      "text/plain": [
       "  0%|          | 0/10000 [00:00<?, ?it/s]"
      ]
     },
     "metadata": {},
     "output_type": "display_data"
    },
    {
     "name": "stdout",
     "output_type": "stream",
     "text": [
      "Iteration: 40\n",
      "Adjusted temperatures: [300.0, 327.9393459318773, 356.3495201024536, 385.07209792018534, 413.5014538248892, 442.6700806192495, 471.58175525743377, 499.5341249165544]\n",
      "Current acceptance rates: [0.047619047619047616, 0.0, 0.047619047619047616, 0.0, 0.19047619047619047, 0.3, 0.09523809523809523]\n",
      "Iteration: 80\n",
      "Adjusted temperatures: [300.0, 327.1775852871694, 355.87356205299335, 384.2838596765786, 413.18730222576073, 442.6700806192495, 471.58175525743377, 499.6822148482133]\n",
      "Current acceptance rates: [0.0, 0.1, 0.0, 0.15, 0.25, 0.25, 0.3]\n",
      "Iteration: 120\n",
      "Adjusted temperatures: [300.0, 326.4382682973654, 355.2329272634382, 383.8130364901589, 412.5558216254136, 442.83170176066204, 471.42872193888667, 499.5325258494288]\n",
      "Current acceptance rates: [0.0, 0.05, 0.1, 0.05, 0.3, 0.2, 0.2]\n",
      "Iteration: 160\n",
      "Adjusted temperatures: [300.0, 325.7206441490319, 354.43008890211246, 383.01921044814077, 412.5558216254136, 442.3447721163432, 471.27379184613176, 499.0836316449535]\n",
      "Current acceptance rates: [0.0, 0.0, 0.0, 0.25, 0.1, 0.2, 0.1]\n",
      "Iteration: 200\n",
      "Adjusted temperatures: [300.0, 325.1630838842992, 353.6343483368238, 382.2251957599677, 411.9021102041689, 441.8549261142219, 470.8035976599722, 499.38359930089257]\n",
      "Current acceptance rates: [0.05, 0.0, 0.0, 0.05, 0.1, 0.1, 0.35]\n",
      "Iteration: 240\n",
      "Adjusted temperatures: [300.0, 324.6185236748574, 352.8458756132411, 382.2251957599677, 411.2634798239558, 441.6906524000132, 470.6484895131569, 499.5360934106893]\n",
      "Current acceptance rates: [0.05, 0.0, 0.25, 0.05, 0.2, 0.2, 0.3]\n",
      "Iteration: 280\n",
      "Adjusted temperatures: [300.0, 323.95391807471697, 352.06090835034433, 381.73459519467326, 411.10447594019155, 441.03439314898685, 470.6484895131569, 498.9236317298522]\n",
      "Current acceptance rates: [0.0, 0.0, 0.1, 0.2, 0.05, 0.25, 0.05]\n",
      "Iteration: 320\n",
      "Adjusted temperatures: [300.0, 323.5663839420829, 351.28751445409205, 381.0740199691535, 410.78076104723255, 440.7098143504813, 470.48868132033823, 498.1709321266053]\n",
      "Current acceptance rates: [0.1, 0.0, 0.05, 0.15, 0.15, 0.2, 0.0]\n",
      "Iteration: 360\n",
      "Adjusted temperatures: [300.0, 323.185568182866, 350.982324884783, 380.42170598247856, 410.12616943137783, 440.21740053972695, 470.3269725847414, 497.87618304552683]\n",
      "Current acceptance rates: [0.1, 0.15, 0.05, 0.05, 0.1, 0.2, 0.15]\n",
      "Iteration: 400\n",
      "Adjusted temperatures: [300.0, 322.9359863718418, 350.2219232086399, 379.7667570596441, 409.6349622689464, 439.5610674407754, 469.9980100067336, 497.5810402992397]\n",
      "Current acceptance rates: [0.15, 0.0, 0.05, 0.1, 0.05, 0.15, 0.15]\n",
      "Iteration: 440\n",
      "Adjusted temperatures: [300.0, 322.5660678250591, 349.4728541280466, 378.9455388138213, 409.30348223813826, 439.2363638338057, 469.5047878597359, 497.4323087481129]\n",
      "Current acceptance rates: [0.1, 0.0, 0.0, 0.15, 0.15, 0.1, 0.2]\n",
      "Iteration: 480\n",
      "Adjusted temperatures: [300.0, 321.9606190611648, 348.7278652663996, 378.2899535588731, 408.63345833925933, 438.4155310806868, 469.1720849696894, 497.4323087481129]\n",
      "Current acceptance rates: [0.0, 0.0, 0.05, 0.05, 0.0, 0.15, 0.25]\n",
      "Iteration: 520\n",
      "Adjusted temperatures: [300.0, 321.96061906116483, 348.1489752540807, 377.472961040006, 408.46486390201284, 438.0942986396371, 469.3385560171973, 498.028530396922]\n",
      "Current acceptance rates: [0.25, 0.05, 0.0, 0.2, 0.15, 0.3, 0.45]\n",
      "Iteration: 560\n",
      "Adjusted temperatures: [300.0, 321.37249082385483, 347.56979082739576, 376.8245589507581, 407.6092349237791, 437.7668931128282, 469.3385560171972, 498.33315411131156]\n",
      "Current acceptance rates: [0.0, 0.05, 0.05, 0.0, 0.15, 0.25, 0.35]\n",
      "Iteration: 600\n",
      "Adjusted temperatures: [300.0, 321.14370279581675, 347.14131036457354, 376.18123125293897, 406.9292979992973, 437.2698405401492, 469.1665161676188, 498.17830305421484]\n",
      "Current acceptance rates: [0.15, 0.1, 0.05, 0.05, 0.1, 0.2, 0.2]\n",
      "Iteration: 640\n",
      "Adjusted temperatures: [300.0, 320.5788508004876, 346.56699476255295, 375.69967678097413, 406.2539098365306, 436.7696551746548, 468.81877551024587, 497.7107699532803]\n",
      "Current acceptance rates: [0.0, 0.05, 0.1, 0.05, 0.1, 0.15, 0.1]\n",
      "Iteration: 680\n",
      "Adjusted temperatures: [300.0, 320.13964373623634, 345.995759579973, 375.0557022110104, 405.57916510251584, 436.4340217843113, 468.29753863243315, 498.0235728476577]\n",
      "Current acceptance rates: [0.05, 0.05, 0.05, 0.05, 0.15, 0.1, 0.35]\n",
      "Iteration: 720\n",
      "Adjusted temperatures: [300.0, 319.8175931169385, 345.43026654808966, 374.25326701949393, 404.9013407919178, 435.9247911647144, 467.6030337438223, 497.8616275862142]\n",
      "Current acceptance rates: [0.1, 0.05, 0.0, 0.05, 0.1, 0.05, 0.2]\n",
      "Iteration: 760\n",
      "Adjusted temperatures: [300.0, 319.3956162924706, 344.86804724785884, 373.7755418490925, 404.0601477821734, 435.0670441013206, 467.2536034983013, 497.37291218745867]\n",
      "Current acceptance rates: [0.05, 0.05, 0.1, 0.0, 0.0, 0.15, 0.1]\n",
      "Iteration: 800\n",
      "Adjusted temperatures: [300.0, 318.98315796342933, 344.3092461642236, 372.97754797911904, 403.89185335118884, 434.8992013304642, 467.0798610584101, 497.53425323240833]\n",
      "Current acceptance rates: [0.05, 0.05, 0.0, 0.2, 0.2, 0.2, 0.3]\n",
      "Iteration: 840\n",
      "Adjusted temperatures: [300.0, 318.9831579634293, 343.76337524005834, 372.344685798162, 403.038161001041, 434.21269223839244, 467.0798610584101, 497.53425323240833]\n",
      "Current acceptance rates: [0.25, 0.05, 0.05, 0.0, 0.05, 0.25, 0.25]\n",
      "Iteration: 880\n",
      "Adjusted temperatures: [300.0, 318.7814420144436, 343.2254245624049, 371.871441937613, 402.532114935437, 434.0418897467322, 467.0798610584101, 497.21006391187296]\n",
      "Current acceptance rates: [0.15, 0.05, 0.1, 0.1, 0.2, 0.25, 0.15]\n",
      "Iteration: 920\n",
      "Adjusted temperatures: [300.0, 318.68168698735656, 342.5658442878167, 371.2362763990418, 402.1930594645774, 433.35555927263215, 466.1729062819331, 497.37563687670007]\n",
      "Current acceptance rates: [0.2, 0.0, 0.05, 0.15, 0.05, 0.0, 0.3]\n"
     ]
    }
   ],
   "source": [
    "# %%time\n",
    "# シミュレーションループ\n",
    "print('Production...')\n",
    "is_even_step = True # 交換ペアを交互に変えるための変数\n",
    "exchange_attempts = np.zeros(params['n_replicas']-1)\n",
    "exchange_success = np.zeros(params['n_replicas']-1)\n",
    "\n",
    "for step in tqdm(range(0, params['n_steps'], params['n_steps_exchange']), leave=False):\n",
    "    # print(f'*** Step {step} ***\"')\n",
    "    for sim in simulations:\n",
    "        sim.step(params['n_steps_exchange'])  # 各レプリカで実行\n",
    "\n",
    "    # レプリカ間での交換試行\n",
    "    if is_even_step:\n",
    "        for i in range(0, params['n_replicas'], 2):\n",
    "            success = attempt_exchange(i, i + 1, step)\n",
    "            exchange_attempts[i] += 1\n",
    "            if success:\n",
    "                exchange_success[i] += 1\n",
    "    else:\n",
    "        for i in range(1, params['n_replicas']-1, 2):\n",
    "            success = attempt_exchange(i, i + 1, step)\n",
    "            exchange_attempts[i] += 1\n",
    "            if success:\n",
    "                exchange_success[i] += 1\n",
    "\n",
    "    # n_steps_adjust回温度交換したら、交換確率に基づいて温度を更新\n",
    "    if step % params['n_steps_adjust'] == 0 and step > 0:\n",
    "        adjust_temperatures(exchange_attempts, exchange_success, step)\n",
    "        # integratorの温度をセット\n",
    "        for i, integrator in enumerate(integrators):\n",
    "            integrator.setTemperature(params['temperatures'][i])\n",
    "\n",
    "        # 交換確率をリセット\n",
    "        for i in range(params['n_replicas'] - 1):\n",
    "            exchange_attempts[i] = 0\n",
    "            exchange_success[i] = 0\n",
    "            \n",
    "    is_even_step = not is_even_step\n",
    "        \n",
    "    with open(f'{output_dir}/replicas.csv', 'a') as f:\n",
    "            f.write(str(step)+','+','.join(replicas)+'\\n')"
   ]
  },
  {
   "cell_type": "code",
   "execution_count": null,
   "id": "a7f95dec-8c55-42f5-8f23-77eb27033a70",
   "metadata": {},
   "outputs": [],
   "source": [
    "# # 参考コード\n",
    "# import math\n",
    "# import random\n",
    "# from simtk.openmm import app, Platform\n",
    "# import simtk.openmm as mm\n",
    "# import simtk.unit as unit\n",
    "\n",
    "# # -------------------------\n",
    "# # 準備段階: SystemとIntegratorなどの基本設定\n",
    "# # -------------------------\n",
    "# pdb = app.PDBFile('input.pdb')\n",
    "# forcefield = app.ForceField('amber14-all.xml', 'amber14-tip3p.xml')\n",
    "\n",
    "# system = forcefield.createSystem(\n",
    "#     pdb.topology,\n",
    "#     nonbondedMethod=app.PME,\n",
    "#     nonbondedCutoff=1.0*unit.nanometer,\n",
    "#     constraints=app.HBonds\n",
    "# )\n",
    "\n",
    "# # 初期的な温度リスト（粗い間隔から開始）\n",
    "# T_min = 300.0*unit.kelvin\n",
    "# T_max = 400.0*unit.kelvin\n",
    "# n_replicas = 8\n",
    "# temperatures = [T_min + i*(T_max - T_min)/(n_replicas-1) for i in range(n_replicas)]\n",
    "\n",
    "# def create_simulations(temps):\n",
    "#     simulations = []\n",
    "#     for T in temps:\n",
    "#         integrator = mm.LangevinIntegrator(T, 1.0/unit.picosecond, 0.002*unit.picoseconds)\n",
    "#         sim = app.Simulation(pdb.topology, system, integrator)\n",
    "#         sim.context.setPositions(pdb.positions)\n",
    "#         sim.minimizeEnergy()\n",
    "#         sim.context.setVelocitiesToTemperature(T)\n",
    "#         simulations.append(sim)\n",
    "#     return simulations\n",
    "\n",
    "# simulations = create_simulations(temperatures)\n",
    "\n",
    "# # -------------------------\n",
    "# # 交換試行関数：Metropolis判定\n",
    "# # -------------------------\n",
    "# def attempt_exchange(sim1, sim2, T1, T2):\n",
    "#     state1 = sim1.context.getState(getEnergy=True, getPositions=True, getVelocities=True)\n",
    "#     E1 = state1.getPotentialEnergy().value_in_unit(unit.kilojoule_per_mole)\n",
    "#     pos1 = state1.getPositions()\n",
    "#     vel1 = state1.getVelocities()\n",
    "    \n",
    "#     state2 = sim2.context.getState(getEnergy=True, getPositions=True, getVelocities=True)\n",
    "#     E2 = state2.getPotentialEnergy().value_in_unit(unit.kilojoule_per_mole)\n",
    "#     pos2 = state2.getPositions()\n",
    "#     vel2 = state2.getVelocities()\n",
    "    \n",
    "#     kB = unit.MOLAR_GAS_CONSTANT_R.value_in_unit(unit.kilojoule_per_mole/unit.kelvin)\n",
    "#     beta1 = 1.0/(kB*T1.value_in_unit(unit.kelvin))\n",
    "#     beta2 = 1.0/(kB*T2.value_in_unit(unit.kelvin))\n",
    "    \n",
    "#     delta = (beta1 - beta2)*(E2 - E1)\n",
    "#     if delta < 0.0 or random.random() < math.exp(-delta):\n",
    "#         # 交換成立\n",
    "#         sim1.context.setPositions(pos2)\n",
    "#         sim1.context.setVelocities(vel2)\n",
    "#         sim2.context.setPositions(pos1)\n",
    "#         sim2.context.setVelocities(vel1)\n",
    "#         return True\n",
    "#     return False\n",
    "\n",
    "# # -------------------------\n",
    "# # 温度調整用関数\n",
    "# # -------------------------\n",
    "# def adjust_temperatures(temperatures, exchange_attempts, exchange_success, target=0.25):\n",
    "#     # temperatures: 現在の温度リスト\n",
    "#     # exchange_attempts[i], exchange_success[i]: レプリカ i と i+1 の交換試行数と成功数\n",
    "#     # target: 目標成功率(0.25)\n",
    "    \n",
    "#     # 現在の温度の逆数 (beta) リストを用意 (等間隔調整などの参考)\n",
    "#     betas = [1.0/(unit.MOLAR_GAS_CONSTANT_R.value_in_unit(unit.kilojoule_per_mole/unit.kelvin)*T.value_in_unit(unit.kelvin)) for T in temperatures]\n",
    "    \n",
    "#     # 各ペアの交換成功率を計算\n",
    "#     acceptance = []\n",
    "#     for i in range(len(temperatures)-1):\n",
    "#         if exchange_attempts[i] > 0:\n",
    "#             acc = exchange_success[i]/exchange_attempts[i]\n",
    "#         else:\n",
    "#             acc = 0.0\n",
    "#         acceptance.append(acc)\n",
    "    \n",
    "#     # 隣接温度間の調整\n",
    "#     # 非常に単純な方針：成功率が高いペア -> 温度差を小さく\n",
    "#     # 成功率が低いペア -> 温度差を大きく\n",
    "#     # 以下はbetasを微調整し、それに基づいてtemperaturesを更新する例\n",
    "#     #\n",
    "#     # delta_beta[i] = betas[i+1]-betas[i] がペアiの温度差を支配\n",
    "#     # 目標交換率からのズレによって delta_beta をスケール\n",
    "\n",
    "#     for i, acc in enumerate(acceptance):\n",
    "#         # 誤差\n",
    "#         diff = acc - target\n",
    "#         # diff > 0 (成功率が高い)：温度差を小さくしたい => beta差を小さくする\n",
    "#         # diff < 0 (成功率が低い)：温度差を大きくしたい => beta差を大きくする\n",
    "#         # 下では調整強度を0.1程度とする（適宜調整が必要）\n",
    "#         adjust_factor = 1.0 - 0.1*diff  # acc=0.25なら1.0に近い値\n",
    "#         # betas[i+1]とbetas[i]の中点を固定して差分を調整する簡易法\n",
    "#         mid_beta = 0.5*(betas[i] + betas[i+1])\n",
    "#         half_diff = 0.5*(betas[i+1]-betas[i])*adjust_factor\n",
    "#         betas[i] = mid_beta - half_diff\n",
    "#         betas[i+1] = mid_beta + half_diff\n",
    "    \n",
    "#     # betasから温度を再計算\n",
    "#     new_temperatures = []\n",
    "#     for b in betas:\n",
    "#         new_T = 1.0/(b*unit.MOLAR_GAS_CONSTANT_R.value_in_unit(unit.kilojoule_per_mole/unit.kelvin))\n",
    "#         new_temperatures.append(new_T*unit.kelvin)\n",
    "    \n",
    "#     return new_temperatures\n",
    "\n",
    "# # -------------------------\n",
    "# # メインループ: ステップ実行と交換試行 + 温度調整\n",
    "# # -------------------------\n",
    "# steps_per_exchange = 1000\n",
    "# n_iterations = 100\n",
    "# n_steps_adjust = 10  # 10回交換後に温度調整\n",
    "# target_acceptance = 0.25\n",
    "\n",
    "# exchange_attempts = [0]*(n_replicas-1)\n",
    "# exchange_success = [0]*(n_replicas-1)\n",
    "\n",
    "# for iteration in range(n_iterations):\n",
    "#     # 各レプリカを同数のステップ進める\n",
    "#     for sim in simulations:\n",
    "#         sim.step(steps_per_exchange)\n",
    "    \n",
    "#     # 隣接レプリカ間で交換試行\n",
    "#     for i in range(n_replicas-1):\n",
    "#         exchange_attempts[i] += 1\n",
    "#         success = attempt_exchange(simulations[i], simulations[i+1], \n",
    "#                                    temperatures[i], temperatures[i+1])\n",
    "#         if success:\n",
    "#             exchange_success[i] += 1\n",
    "    \n",
    "#     # 一定間隔で温度分布を調整\n",
    "#     if (iteration+1) % n_steps_adjust == 0 and iteration > 0:\n",
    "#         # 現在の交換成功率を踏まえ温度を更新\n",
    "#         temperatures = adjust_temperatures(temperatures, exchange_attempts, exchange_success, target=target_acceptance)\n",
    "        \n",
    "#         # 新しい温度に合わせてSimulationを作り直し(必要なら）\n",
    "#         # 通常はpositions/velocitiesを保持しつつContextのみ再初期化する方が望ましいが、ここでは簡易化\n",
    "#         # 既存シミュレーションのContextに対してIntegratorだけ変える、あるいは温度スケールし直すなど\n",
    "#         # 簡易法として、positions/velocitiesを保持してintegratorだけ変えなおす例：\n",
    "#         positions = [sim.context.getState(getPositions=True).getPositions() for sim in simulations]\n",
    "#         velocities = [sim.context.getState(getVelocities=True).getVelocities() for sim in simulations]\n",
    "        \n",
    "#         simulations = []\n",
    "#         for i, T in enumerate(temperatures):\n",
    "#             integrator = mm.LangevinIntegrator(T, 1.0/unit.picosecond, 0.002*unit.picoseconds)\n",
    "#             sim = app.Simulation(pdb.topology, system, integrator)\n",
    "#             sim.context.setPositions(positions[i])\n",
    "#             sim.context.setVelocities(velocities[i])\n",
    "#             simulations.append(sim)\n",
    "        \n",
    "#         # 統計をリセットまたは継続するか判断\n",
    "#         # ここでは継続\n",
    "#         # (もし統計をリセットするなら exchange_attempts = [0]*(n_replicas-1), exchange_success = [0]*(n_replicas-1)など)\n",
    "        \n",
    "#         print(\"Iteration:\", iteration+1, \"Adjusted temperatures:\", [T.value_in_unit(unit.kelvin) for T in temperatures])\n",
    "#         print(\"Current acceptance rates:\", [exchange_success[j]/exchange_attempts[j] if exchange_attempts[j] > 0 else 0 for j in range(n_replicas-1)])\n",
    "\n",
    "\n",
    "# # 最終的には temperatures の分布が目標交換率付近に収束することが期待される\n"
   ]
  },
  {
   "cell_type": "markdown",
   "id": "c12a4448-48ce-41c2-af1f-36520040369d",
   "metadata": {},
   "source": [
    "## 最終構造を保存"
   ]
  },
  {
   "cell_type": "code",
   "execution_count": null,
   "id": "e2ec478f-bd26-4bd9-ac3b-b3c5cecf817a",
   "metadata": {},
   "outputs": [],
   "source": [
    "# シミュレーション結果(PDB)を保存\n",
    "for i, sim in enumerate(simulations):\n",
    "    state = sim.context.getState(getPositions=True, getEnergy=True)\n",
    "    with open(f\"{output_dir}/output_replica_{i}.pdb\", \"w\") as f:\n",
    "        app.PDBFile.writeFile(pdb.topology, state.getPositions(), f)"
   ]
  },
  {
   "cell_type": "code",
   "execution_count": null,
   "id": "55adcbd4-9d4a-43ea-973b-9c4ea63e688f",
   "metadata": {},
   "outputs": [],
   "source": [
    "# パラメータをJSONに保存\n",
    "import json\n",
    "filepath = f\"{output_dir}/params.json\"\n",
    "with open(filepath, mode=\"wt\", encoding=\"utf-8\") as f:\n",
    "\tjson.dump(params, f, ensure_ascii=False, indent=2)"
   ]
  },
  {
   "cell_type": "code",
   "execution_count": null,
   "id": "21d1f604-03aa-4cff-961a-46276112dbcd",
   "metadata": {},
   "outputs": [
    {
     "name": "stdout",
     "output_type": "stream",
     "text": [
      "[300.0, 318.2907697624934, 341.75128605048053, 370.56976918325563, 402.1110940275931, 434.4562284083984, 464.0497844861529, 495.2409261648359]\n"
     ]
    }
   ],
   "source": [
    "print(params['temperatures'])"
   ]
  },
  {
   "cell_type": "code",
   "execution_count": null,
   "id": "743c88af-4f40-4d44-af8f-c55fbe3f8106",
   "metadata": {},
   "outputs": [],
   "source": []
  }
 ],
 "metadata": {
  "kernelspec": {
   "display_name": "base",
   "language": "python",
   "name": "python3"
  },
  "language_info": {
   "codemirror_mode": {
    "name": "ipython",
    "version": 3
   },
   "file_extension": ".py",
   "mimetype": "text/x-python",
   "name": "python",
   "nbconvert_exporter": "python",
   "pygments_lexer": "ipython3",
   "version": "3.11.5"
  }
 },
 "nbformat": 4,
 "nbformat_minor": 5
}
